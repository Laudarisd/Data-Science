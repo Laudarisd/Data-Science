{
 "cells": [
  {
   "cell_type": "code",
   "execution_count": 1,
   "metadata": {},
   "outputs": [],
   "source": [
    "import time\n",
    "import numpy as np\n",
    "import pandas as pd\n",
    "from tqdm import tqdm\n",
    "import matplotlib.pyplot as plt\n",
    "\n",
    "import re\n",
    "from nltk.corpus import stopwords\n",
    "from gensim.models import KeyedVectors\n",
    "from gensim.parsing.preprocessing import *\n",
    "\n",
    "from sklearn.decomposition import PCA\n",
    "from sklearn.ensemble import IsolationForest\n",
    "from sklearn.feature_extraction.text import TfidfVectorizer"
   ]
  },
  {
   "cell_type": "code",
   "execution_count": 2,
   "metadata": {},
   "outputs": [
    {
     "name": "stdout",
     "output_type": "stream",
     "text": [
      "(403, 6)\n"
     ]
    },
    {
     "data": {
      "text/html": [
       "<div>\n",
       "<style scoped>\n",
       "    .dataframe tbody tr th:only-of-type {\n",
       "        vertical-align: middle;\n",
       "    }\n",
       "\n",
       "    .dataframe tbody tr th {\n",
       "        vertical-align: top;\n",
       "    }\n",
       "\n",
       "    .dataframe thead th {\n",
       "        text-align: right;\n",
       "    }\n",
       "</style>\n",
       "<table border=\"1\" class=\"dataframe\">\n",
       "  <thead>\n",
       "    <tr style=\"text-align: right;\">\n",
       "      <th></th>\n",
       "      <th>Id</th>\n",
       "      <th>Title</th>\n",
       "      <th>EventType</th>\n",
       "      <th>PdfName</th>\n",
       "      <th>Abstract</th>\n",
       "      <th>PaperText</th>\n",
       "    </tr>\n",
       "  </thead>\n",
       "  <tbody>\n",
       "    <tr>\n",
       "      <td>0</td>\n",
       "      <td>5677</td>\n",
       "      <td>Double or Nothing: Multiplicative Incentive Me...</td>\n",
       "      <td>Poster</td>\n",
       "      <td>5677-double-or-nothing-multiplicative-incentiv...</td>\n",
       "      <td>Crowdsourcing has gained immense popularity in...</td>\n",
       "      <td>Double or Nothing: Multiplicative\\nIncentive M...</td>\n",
       "    </tr>\n",
       "    <tr>\n",
       "      <td>1</td>\n",
       "      <td>5941</td>\n",
       "      <td>Learning with Symmetric Label Noise: The Impor...</td>\n",
       "      <td>Spotlight</td>\n",
       "      <td>5941-learning-with-symmetric-label-noise-the-i...</td>\n",
       "      <td>Convex potential minimisation is the de facto ...</td>\n",
       "      <td>Learning with Symmetric Label Noise: The\\nImpo...</td>\n",
       "    </tr>\n",
       "    <tr>\n",
       "      <td>2</td>\n",
       "      <td>6019</td>\n",
       "      <td>Algorithmic Stability and Uniform Generalization</td>\n",
       "      <td>Poster</td>\n",
       "      <td>6019-algorithmic-stability-and-uniform-general...</td>\n",
       "      <td>One of the central questions in statistical le...</td>\n",
       "      <td>Algorithmic Stability and Uniform Generalizati...</td>\n",
       "    </tr>\n",
       "    <tr>\n",
       "      <td>3</td>\n",
       "      <td>6035</td>\n",
       "      <td>Adaptive Low-Complexity Sequential Inference f...</td>\n",
       "      <td>Poster</td>\n",
       "      <td>6035-adaptive-low-complexity-sequential-infere...</td>\n",
       "      <td>We develop a sequential low-complexity inferen...</td>\n",
       "      <td>Adaptive Low-Complexity Sequential Inference f...</td>\n",
       "    </tr>\n",
       "    <tr>\n",
       "      <td>4</td>\n",
       "      <td>5978</td>\n",
       "      <td>Covariance-Controlled Adaptive Langevin Thermo...</td>\n",
       "      <td>Poster</td>\n",
       "      <td>5978-covariance-controlled-adaptive-langevin-t...</td>\n",
       "      <td>Monte Carlo sampling for Bayesian posterior in...</td>\n",
       "      <td>Covariance-Controlled Adaptive Langevin\\nTherm...</td>\n",
       "    </tr>\n",
       "  </tbody>\n",
       "</table>\n",
       "</div>"
      ],
      "text/plain": [
       "     Id                                              Title  EventType  \\\n",
       "0  5677  Double or Nothing: Multiplicative Incentive Me...     Poster   \n",
       "1  5941  Learning with Symmetric Label Noise: The Impor...  Spotlight   \n",
       "2  6019   Algorithmic Stability and Uniform Generalization     Poster   \n",
       "3  6035  Adaptive Low-Complexity Sequential Inference f...     Poster   \n",
       "4  5978  Covariance-Controlled Adaptive Langevin Thermo...     Poster   \n",
       "\n",
       "                                             PdfName  \\\n",
       "0  5677-double-or-nothing-multiplicative-incentiv...   \n",
       "1  5941-learning-with-symmetric-label-noise-the-i...   \n",
       "2  6019-algorithmic-stability-and-uniform-general...   \n",
       "3  6035-adaptive-low-complexity-sequential-infere...   \n",
       "4  5978-covariance-controlled-adaptive-langevin-t...   \n",
       "\n",
       "                                            Abstract  \\\n",
       "0  Crowdsourcing has gained immense popularity in...   \n",
       "1  Convex potential minimisation is the de facto ...   \n",
       "2  One of the central questions in statistical le...   \n",
       "3  We develop a sequential low-complexity inferen...   \n",
       "4  Monte Carlo sampling for Bayesian posterior in...   \n",
       "\n",
       "                                           PaperText  \n",
       "0  Double or Nothing: Multiplicative\\nIncentive M...  \n",
       "1  Learning with Symmetric Label Noise: The\\nImpo...  \n",
       "2  Algorithmic Stability and Uniform Generalizati...  \n",
       "3  Adaptive Low-Complexity Sequential Inference f...  \n",
       "4  Covariance-Controlled Adaptive Langevin\\nTherm...  "
      ]
     },
     "execution_count": 2,
     "metadata": {},
     "output_type": "execute_result"
    }
   ],
   "source": [
    "### READ DATA ###\n",
    "\n",
    "df = pd.read_csv(\"Papers.csv\")\n",
    "\n",
    "print(df.shape)\n",
    "df.head()"
   ]
  },
  {
   "cell_type": "code",
   "execution_count": 3,
   "metadata": {},
   "outputs": [],
   "source": [
    "### DEFINE PREPROCESS FUNCTIONS ###\n",
    "\n",
    "stop_words = set(stopwords.words('english'))\n",
    "\n",
    "def create_sentence(text):\n",
    "    output = []\n",
    "    for s in re.split('\\.\\n|\\.\\r\\n|\\. ', text):\n",
    "        output.extend(re.split('\\n\\n|\\r\\n\\r\\n', s))\n",
    "    return output\n",
    "\n",
    "def clean_sentence(sentence):\n",
    "    sentence = strip_numeric(strip_non_alphanum(sentence)).lower().split()\n",
    "    return [w for w in sentence if w not in stop_words]"
   ]
  },
  {
   "cell_type": "code",
   "execution_count": 4,
   "metadata": {},
   "outputs": [],
   "source": [
    "### SELECT A PAPER AND APPLY PREPROCESS ###\n",
    "\n",
    "corpus = create_sentence(df.PaperText[100])\n",
    "cleaned_corpus = list(map(lambda s: clean_sentence(s), corpus))"
   ]
  },
  {
   "cell_type": "code",
   "execution_count": 5,
   "metadata": {},
   "outputs": [
    {
     "data": {
      "text/plain": [
       "TfidfVectorizer()"
      ]
     },
     "execution_count": 5,
     "metadata": {},
     "output_type": "execute_result"
    }
   ],
   "source": [
    "### COMPUTE TFIDF WORD SCORES ON PAPER TEXT CORPUS ###\n",
    "\n",
    "tfidf = TfidfVectorizer()\n",
    "tfidf.fit(list(map(' '.join, cleaned_corpus)))"
   ]
  },
  {
   "cell_type": "code",
   "execution_count": 6,
   "metadata": {},
   "outputs": [
    {
     "name": "stdout",
     "output_type": "stream",
     "text": [
      "Wall time: 1min 26s\n"
     ]
    }
   ],
   "source": [
    "%%time\n",
    "### LOAD GLOVE WORD EMBEDDINGS WITH GENSIM ###\n",
    "\n",
    "emb_dim = 300\n",
    "model = KeyedVectors.load_word2vec_format('GoogleNews-vectors-negative300.bin', binary=True)"
   ]
  },
  {
   "cell_type": "code",
   "execution_count": 7,
   "metadata": {},
   "outputs": [],
   "source": [
    "### DEFINE FUNCTION FOR SENTENCE EMBEDDINGS ###\n",
    "\n",
    "def calculate_emb(clean_text, original_text):\n",
    "    \n",
    "    tfidf_feat = tfidf.get_feature_names()\n",
    "    tfidf_emb = tfidf.transform(list(map(' '.join, clean_text)))\n",
    "    final_sent_emb = []\n",
    "    final_sent = []\n",
    "    \n",
    "    for row, sent in enumerate(tqdm(clean_text)):\n",
    "        sent_vec = np.zeros(emb_dim)\n",
    "        weight_sum = 0\n",
    "        for word in sent:\n",
    "            try:\n",
    "                vec = model[word]\n",
    "                tfidf_w_score = tfidf_emb[row, tfidf_feat.index(word)]\n",
    "                sent_vec += (vec * tfidf_w_score)\n",
    "                weight_sum += tfidf_w_score\n",
    "            except:\n",
    "                pass\n",
    "\n",
    "        if sum(sent_vec)!=0:\n",
    "            sent_vec /= weight_sum\n",
    "            final_sent.append(original_text[row])\n",
    "            final_sent_emb.append(sent_vec)\n",
    "    \n",
    "    final_sent_emb = np.asarray(final_sent_emb)\n",
    "    final_sent = np.asarray(final_sent)\n",
    "    \n",
    "    return final_sent_emb, final_sent"
   ]
  },
  {
   "cell_type": "code",
   "execution_count": 8,
   "metadata": {},
   "outputs": [
    {
     "name": "stderr",
     "output_type": "stream",
     "text": [
      "100%|██████████████████████████████████████████████████████████████████████████████| 312/312 [00:00<00:00, 2405.17it/s]\n"
     ]
    }
   ],
   "source": [
    "### COMPUTE SENTENCE EMBEDDINGS ###\n",
    "\n",
    "final_sent_emb, final_sent = calculate_emb(cleaned_corpus, corpus)"
   ]
  },
  {
   "cell_type": "code",
   "execution_count": 9,
   "metadata": {},
   "outputs": [
    {
     "data": {
      "text/plain": [
       "<matplotlib.collections.PathCollection at 0x2bb6510b5c0>"
      ]
     },
     "execution_count": 9,
     "metadata": {},
     "output_type": "execute_result"
    },
    {
     "data": {
      "image/png": "[encoded data removed]",
      "text/plain": [
       "<Figure size 576x432 with 1 Axes>"
      ]
     },
     "metadata": {
      "needs_background": "light"
     },
     "output_type": "display_data"
    }
   ],
   "source": [
    "### 2D REPRESENTATION OF SENTENCES ###\n",
    "\n",
    "pca = PCA(n_components=2)\n",
    "X = pca.fit_transform(final_sent_emb)\n",
    "\n",
    "plt.figure(figsize=(8,6))\n",
    "plt.scatter(X.T[0], X.T[1], alpha=0.3)"
   ]
  },
  {
   "cell_type": "code",
   "execution_count": 10,
   "metadata": {},
   "outputs": [
    {
     "data": {
      "text/plain": [
       "<matplotlib.collections.PathCollection at 0x2bb651c1c50>"
      ]
     },
     "execution_count": 10,
     "metadata": {},
     "output_type": "execute_result"
    },
    {
     "data": {
      "image/png": "[encoded data removed]",
      "text/plain": [
       "<Figure size 576x432 with 1 Axes>"
      ]
     },
     "metadata": {
      "needs_background": "light"
     },
     "output_type": "display_data"
    }
   ],
   "source": [
    "### COMPUTE ISOLATION FOREST FOR ANOMALY SENTENCES DETECTION ###\n",
    "\n",
    "IF = IsolationForest(contamination=0.3)\n",
    "IF.fit(X)\n",
    "\n",
    "plt.figure(figsize=(8,6))\n",
    "plt.scatter(X.T[0], X.T[1], c=IF.predict(X), cmap='viridis')"
   ]
  },
  {
   "cell_type": "code",
   "execution_count": 11,
   "metadata": {
    "scrolled": true
   },
   "outputs": [
    {
     "data": {
      "text/plain": [
       "['Shepard Convolutional Neural Networks',\n",
       " 'Abstract\\nDeep learning has recently been introduced to the field of low-level computer\\nvision and image processing',\n",
       " 'Promising results have been obtained in a number of tasks including super-resolution, inpainting, deconvolution, filtering, etc',\n",
       " 'However, previously adopted neural network approaches such as convolutional\\nneural networks and sparse auto-encoders are inherently with translation invariant\\noperators',\n",
       " 'We found this property prevents the deep learning approaches from\\noutperforming the state-of-the-art if the task itself requires translation variant interpolation (TVI)',\n",
       " 'In this paper, we draw on Shepard interpolation and design\\nShepard Convolutional Neural Networks (ShCNN) which efficiently realizes endto-end trainable TVI operators in the network',\n",
       " 'We show that by adding only a few\\nfeature maps in the new Shepard layers, the network is able to achieve stronger\\nresults than a much deeper architecture',\n",
       " 'Superior performance on both image inpainting and super-resolution is obtained where our system outperforms previous\\nones while keeping the running time competitive',\n",
       " '\\n1 Introduction\\nIn the past a few years, deep learning has been very successful in addressing many aspects of visual\\nperception problems such as image classification, object detection, face recognition [1, 2, 3], to name\\na few',\n",
       " 'Inspired by the breakthrough in high-level computer vision, several attempts have been made\\nvery recently to apply deep learning methods in low-level vision as well as image processing tasks',\n",
       " 'Encouraging results has been obtained in a number of tasks including image super-resolution [4],\\ninpainting [5], denosing [6], image deconvolution [7], dirt removal [8], edge-aware filtering [9] etc',\n",
       " 'Powerful models with multiple layers of nonlinearity such as convolutional neural networks (CNN),\\nsparse auto-encoders, etc',\n",
       " 'were used in the previous studies',\n",
       " 'Notwithstanding the rapid progress and\\npromising performance, we notice that the building blocks of these models are inherently translation\\ninvariant when applying to images',\n",
       " 'The property makes the network architecture less efficient in\\nhandling translation variant operators, exemplified by the image interpolation operation',\n",
       " 'Figure 1 illustrates the problem of image inpainting, a typical translation variant interpolation (TVI)\\ntask',\n",
       " 'The black region in figure 1(a) indicates the missing region where the four selected patches\\nwith missing parts are visualized in figure 1(b)',\n",
       " 'The interpolation process for the central pixel in\\neach patch is done by four different weighting functions shown in the bottom of figure 1(b)',\n",
       " 'This\\nprocess cannot be simply modeled by a single kernel due to the inherent spatially varying property',\n",
       " 'In fact, the TVI operations are common in many vision applications',\n",
       " 'Image super-resolution, which\\naims to interpolate a high resolution image with a low resolution observation also suffers from the\\n∗',\n",
       " '(b)\\nFigure 1: Illustration of translation variant interpolation',\n",
       " '(a) The application of inpainting',\n",
       " 'The black regions\\nindicate the missing part',\n",
       " '(b) Four selected patches',\n",
       " 'The bottom row shows the kernels for interpolating the\\ncentral pixel of each patch',\n",
       " '\\nsame problem: different local patches have different pattern of anchor points',\n",
       " 'We will show that it\\nis thus less optimal to use the traditional convolutional neural network to do the translation variant\\noperations for super-resolution task',\n",
       " 'In this paper, we draw on Shepard method [10] and devise a novel CNN architecture named Shepard Convolutional Neural Networks (ShCNN) which efficiently equips conventional CNN with the\\nability to learn translation variant operations for irregularly spaced data',\n",
       " 'By adding only a few\\nfeature maps in the new Shepard layer and optimizing a more powerful TVI procedure in the endto-end fashion, the network is able to achieve stronger results than a much deeper architecture',\n",
       " 'We\\ndemonstrate that the resulting system is general enough to benefit a number of applications with TVI\\noperations',\n",
       " '\\n2 Related Work\\nDeep learning methods have recently been introduced to the area of low-level computer vision and\\nimage processing',\n",
       " '[6] used a simple multi-layer neural network to directly learn a\\nmapping between noisy and clear image patches',\n",
       " '[5] adopted a sparse auto-encoder and\\ndemonstrated its ability to do blind image inpainting',\n",
       " 'A three-layer CNN was used in [8] to tackle\\nof problem of rain drop and dirt',\n",
       " 'It demonstrated the ability of CNN to blindly handle translation\\nvariant problem in real world challenges',\n",
       " '[7] advocated the use of generative approaches to guide the design of the CNN for deconvolution tasks',\n",
       " 'In [9], edge-aware filters can be well approximated using CNN',\n",
       " 'While it is feasible\\nto use the translation invariant operators, such as convolution, to obtain the translation variant results\\nin a deep neural network architecture, it is less effective in achieving high quality results for interpolation operations',\n",
       " 'The first attempt using CNN to perform image super-resolution [4] connected\\nthe CNN approach to the sparse coding ones',\n",
       " 'But it failed to beat the state-of-the-art super resolution system [11]',\n",
       " 'In this paper, we focus on the design of deep neural network layer that better fits\\nthe translation variant interpolation tasks',\n",
       " 'We note that TVI is the essential step for a wide range of\\n2',\n",
       " '\\x0clow-level vision applications including inpainting, dirt removal, noise suppression, super-resolution,\\nto name a few',\n",
       " '\\n3 Analysis\\nDeep learning approaches without explicit TVI mechanism generated reasonable results in a few\\ntasks requiring translation variant property',\n",
       " 'To some extent, deep architecture with multiple layers of\\nnonlinearity is expressive to approximate certain TVI operations given sufficient amount of training\\ndata',\n",
       " 'It is, however, non-trivial to beat non-CNN based approaches while ensuring the high efficiency\\nand simplicity',\n",
       " 'To see this, we experimented with the CNN architecture in [4] and [8] and trained a CNN with three\\nconvolutional layers by using 1 million synthetic corrupted/clear image pairs',\n",
       " 'Network and training\\ndetails as well as the concrete statistics of the data will be covered in the experiment section',\n",
       " 'Typical\\ntest images are shown in the left column of figure 2 whereas the results of this model are displayed\\nin the mid-left column of the same figure',\n",
       " 'We found that visually very similar results as in [5] are\\nobtained, namely obvious residues of the text are still left in the images',\n",
       " 'We also experimented with\\na much deeper network by adding more convolutional layers, virtually replicating the network in\\n[8] by 2,3, and 4 times',\n",
       " 'Although slight visual differences are found in the results, no fundamental\\nimprovement in the missing regions is observed, namely residue still remains',\n",
       " 'A sensible next step is to explicitly inform the network about where the missing pixels are so that\\nthe network has the opportunity to figure out more plausible solutions for TVI operations',\n",
       " 'For many\\napplications, the underlying mask indicating the processed regions can be detected or be known\\nin advance',\n",
       " 'Sample applications include image completion/inpainting, image matting, dirt/impulse\\nnoise removal, etc',\n",
       " 'Other applications such as sparse point propagation and super resolution by\\nnature have the masks for unknown regions',\n",
       " 'One way to incorporate the mask into the network is to treat it as an additional channel of the input',\n",
       " 'We tested this idea with the same set of network and experimental settings as the previous trial',\n",
       " 'The results showed that such additional piece of information did bring about improvement but still\\nconsiderably far from satisfactory in removing the residues',\n",
       " 'Results are visualized in the mid-right\\ncolumn of figure 2',\n",
       " 'To learn a tractable TVI model, we devise in the next session a novel architecture\\nwith an effective mechanism to exploit the information contained in the mask',\n",
       " '\\n4 Shepard Convolutional Neural Networks\\nWe initiate the attempt to leverage the traditional interpolation framework to guide the design of\\nneural network architecture for TVI',\n",
       " 'We turn to the Shepard framework [10] which weighs known\\npixels differently according to their spatial distances to the processed pixel',\n",
       " 'Specifically, Shepard\\nmethod can be re-written in a convolution form\\nJp =',\n",
       " 'Mp = 0 indicates the pixel values are unknown',\n",
       " '∗ is the convolution operation',\n",
       " 'K is the kernel function with its weights inversely proportional to the distance between a pixel\\nwith Mp = 1 and the pixel to process',\n",
       " 'The element-wise division between the convolved image\\nand the convolved mask naturally controls the way how pixel information is propagated across the\\nregions',\n",
       " 'It thus enables the capability to handle interpolation for irregularly-spaced data and make\\nit possible translation variant',\n",
       " 'The key element in Shepard method affecting the interpolation result\\nis the definition of the convolution kernel',\n",
       " 'We thus propose a new convolutional layer in the light of\\nShepard method but allow for a more flexible, data-driven kernel design',\n",
       " 'The layer is referred to as\\nthe Shepard interpolation layer',\n",
       " '\\x0cFigure 2: Comparison between ShCNN and CNN in image inpainting',\n",
       " 'Input images (Left)',\n",
       " 'Results from a\\nregular CNN (Mid-left)',\n",
       " 'Results from a regular CNN trained with masks (Mid-right)',\n",
       " 'Our results (Right)',\n",
       " '\\n4.1 The Shepard Interpolation Layer\\nThe feed-forward pass of the trainable interpolation layer can be mathematically described as the\\nfollowing equation,\\nX Knij ∗ Fjn−1\\nn\\nFin (F n−1 , Mn ) = σ(\\nn ∗ Mn + b ),\\nK\\nj\\nij\\nj',\n",
       " 'The subscript i in Fin is the index of feature maps in layer n',\n",
       " 'F n−1 and Mn are the input and the mask of the\\ncurrent layer respectively',\n",
       " 'F n−1 represents all the feature maps in layer n − 1',\n",
       " 'Kij are the trainable\\nkernels which are shared in both numerator and denominator in computing the fraction',\n",
       " 'Concretely,\\nsame Kij is to be convolved with both the activations of the last layer in the numerator and the\\nmask of the current layer Mn in the denominator',\n",
       " 'F n−1 could be the output feature maps of regular\\nlayers in a CNN such as a convolutional layer or a pooling layer',\n",
       " 'It could also be a previous Shepard\\ninterpolation layer which is a function of both F n−2 and Mn−1 ',\n",
       " 'Thus Shepard interpolation layers\\ncan actually be stacked together to form a highly nonlinear interpolation operator',\n",
       " 'b is the bias\\nterm and σ is the nonlinearity imposed to the network',\n",
       " 'F is a smooth and differentiable function,\\ntherefore standard back-propagation can be used to train the parameters',\n",
       " 'Figure 3 illustrates our neural network architecture with Shepard interpolation layers',\n",
       " 'The inputs of\\nthe Shepard interpolation layer are images/feature maps as well as masks indicating where interpolation should occur',\n",
       " 'Note that the interpolation layer can be applied repeatedly to construct more\\ncomplex interpolation functions with multiple layers of nonlinearity',\n",
       " 'The mask is a binary map of\\nvalue one for the known area, zero for the missing area',\n",
       " 'Same kernel is applied to the image and\\nthe mask',\n",
       " 'We note that the mask for layer n + 1 can be automatically generated by the result of\\nprevious convolved mask Kn ∗ Mn , by zeroing out insignificant values and thresholding it',\n",
       " 'It is\\nimportant for tasks with relative large missing areas such as inpainting where sophisticated ways of\\npropagation may be learned from data by multi-stage Shepard interpolation layer with nonlinearity',\n",
       " 'This is also a flexible way to balance the kernel size and the depth of the network',\n",
       " '\\x0cFigure 3: Illustration of ShCNN architecture for multiple layers of interpolation',\n",
       " '\\na convolutional neural network with Shepard interpolation layers as Shepard convolutional neural\\nnetwork (ShCNN)',\n",
       " '4.2 Discussion\\nAlthough standard back-propagation can be used, because F is a function of both Ks in the fraction, matrix form of the quotient rule for derivatives need to be used in deriving the back-propagation\\nequations of the interpolation layer',\n",
       " 'To make the implementation efficient, we unroll the two convolution operations K ∗ F and K ∗ M into two matrix multiplications denoted W · I and W · M\\nwhere I and M are the unrolled versions of F and M',\n",
       " 'W is the rearrangement of the kernels where\\neach kernel is listed in a single row',\n",
       " 'E is the error function to compute the distance between the\\nnetwork output and the ground truth',\n",
       " 'L2 norm is used to compute this distance',\n",
       " 'We also denote\\nn\\nn−1\\n∂E\\nn\\nn\\nZ n = KKn∗F\\n∗Mn ',\n",
       " 'The derivative of the error function E with respect to Z , δ = ∂Z n , can be\\ncomputed the same way as in previous CNN papers [12, 1]',\n",
       " 'Once this value is computed, we show\\nthat the derivative of E with respect to the kernels W connecting j th node in (n − 1)th layer to ith\\nnode in nth layer can be computed by,\\nn\\nn\\nX (Wij\\n· Mjm ) · Ijm − (Wij\\n· Ijm ) · Mjm\\n∂E\\n· δim ,\\n=\\nn\\nn\\n2\\n∂Wij\\n(Wij · Mjm )\\nm',\n",
       " 'where m is the column index in I, M and δ',\n",
       " 'The denominator of each element in the outer summation in Eq',\n",
       " '3 is different',\n",
       " 'Therefore, the\\nnumerator of each summation element has to be computed separately',\n",
       " 'While this operation can still\\nbe efficiently parallelized by vectorization, it requires significantly more memory and computations\\nthan the regular CNNs',\n",
       " 'Though it brings extra workload in training, the new interpolation layer only\\nadds a fraction of more computation during the test time',\n",
       " '2, the only\\nadded operations are the convolution of the mask with the K and the point-wise division',\n",
       " 'Because\\nthe two convolutions shares the same kernel, it can be efficiently implemented by convolving with\\nsamples with the batch size of 2',\n",
       " 'It thus keeps the computation of Shepard interpolation layer\\ncompetitive compare to the traditional convolution layer',\n",
       " 'We note that it is also natural to integrate the interpolation layer to any previous CNN architecture',\n",
       " 'This is because the new layer only adds a mask input to the convolutional layer, keeping all other\\ninterfaces the same',\n",
       " 'This layer can also degenerate to a fully connected layer because the unrolled\\nversion of Eq',\n",
       " '2 merely contains matrix multiplication in the fraction',\n",
       " 'Therefore, as long as the TVI\\noperators are necessary in the task, no matter where it is needed in the architecture and the type of\\nlayer before or after it, the interpolation layer can be seamlessly plugged in',\n",
       " '\\x0cLast but not least, the interpolation kernels in the layer is learned from data rather than hand-crafted,\\ntherefore it is more flexible and could be more powerful than pre-designed kernels',\n",
       " 'On the other\\nhand, it is end-to-end trainable so that the learned interpolation operators are embedded in the overall\\noptimization objective of the model',\n",
       " '\\n5 Experiments\\nWe conducted experiments on two applications involving TVI: the inpainting and the superresolution',\n",
       " 'The training data was generated by randomly sampling 1 million patches from 1000\\nnatural images scraped from Flickr',\n",
       " 'Grayscale patches of size 48x48 were used for both tasks to\\nfacilitate the comparison with previous studies',\n",
       " 'All PSNR comparison in the experiment is based on\\ngrayscale results',\n",
       " 'Our model can be directly extended to process color images',\n",
       " '5.1 Inpainting\\nThe natural images are contaminated by masks containing text of different sizes and fonts as shown\\nin figure 2',\n",
       " 'We assume the binary masks indicating missing regions are known in advance',\n",
       " 'The\\nShCNN for inpainting is consists of five layers, two of which are Shepard interpolation layers',\n",
       " 'We\\nuse ReLU function [1] to impose nonlinearity in all our experiments',\n",
       " '4x4 filters were used in the\\nfirst Shepard layer to generate 8 feature maps, followed by another Shepard interpolation layer with\\n4x4 filters',\n",
       " 'The rest of the ShCNN is conventional CNN architecture',\n",
       " 'The filters for the third layer is\\nwith size 9x9x8, which are use to generate 128 feature maps',\n",
       " '8x8 filters are used to carry out the reconstruction of image details',\n",
       " 'Visual results are shown\\nin the last column in figure 2',\n",
       " 'More examples are provided in the project webpage',\n",
       " '\\n(a) Ground Truth / PSNR',\n",
       " 'Figure 4: Visual comparison',\n",
       " 'Factor 4 upscaling of the butterfly image in Set5 [14]',\n",
       " '\\n5.2 Super Resolution\\nThe quantitative evaluation of super resolution is conducted using synthetic data where the high\\nresolution images are first downscaled by a factor to generate low resolution patches',\n",
       " 'To perform\\nsuper resolution, we upscale the low resolution patches and zero out the pixels in the upscaled\\nimages, leaving one copy of pixels from low resolution images',\n",
       " 'In this regard, super resolution can\\nbe seemed as a special form of inpainting with repeated patterns of missing area',\n",
       " '\\x0cSet14 (x2)\\nbaboon\\nbarbara\\nbridge\\ncoastguard\\ncomic\\nface\\nflowers\\nforeman\\nlenna\\nman\\nmonarch\\npepper\\nppt3\\nzebra\\nAvg PSNR\\nSet14 (x3)\\nbaboon\\nbarbara\\nbridge\\ncoastguard\\ncomic\\nface\\nflowers\\nforeman\\nlenna\\nman\\nmonarch\\npepper\\nppt3\\nzebra\\nAvg PSNR\\nSet14 (x4)\\nbaboon\\nbarbara\\nbridge\\ncoastguard\\ncomic\\nface\\nflowers\\nforeman\\nlenna\\nman\\nmonarch\\npepper\\nppt3\\nzebra\\nAvg PSNR',\n",
       " 'Table 1: PSNR comparison on the Set14 [13] image set for upscaling of factor 2, 3 and 4',\n",
       " 'We use one Shepard interpolation layer at the top with kernel size of 8x8 and feature map number\\n16',\n",
       " 'Other configuration of the network is the same as that in our new network for inpainting',\n",
       " 'During\\ntraining, weights were randomly initialized by drawing from a Gaussian distribution with zero mean\\nand standard deviation of 0.03',\n",
       " 'AdaGrad [17] was used in all experiments with learning rate of\\n0.001 and fudge factor of 1e-6',\n",
       " 'Table 1 show the quantitative results of our ShCNN in a widely\\nused super-resolution data set [13] for upscaling images 2 times, 3 times and 4 times respectively',\n",
       " 'We compared our method with 7 methods including the two current state-of-the-art systems [11, 4]',\n",
       " 'Clear improvement over the state-of-the-art systems can be observed',\n",
       " 'Visual comparison between\\nour method and the previous methods is illustrated in figure 4 and figure 5',\n",
       " '\\n6 Conclusions\\nIn this paper, we disclosed the limitation of previous CNN architectures in image processing tasks\\nin need of translation variant interpolation',\n",
       " 'New architecture based on Shepard interpolation was\\nproposed and successfully applied to image inpainting and super-resolution',\n",
       " 'The effectiveness of\\n7',\n",
       " '\\x0c(a) Ground Truth / PSNR',\n",
       " 'Figure 5: Visual comparison',\n",
       " 'Factor 2 upscaling of the bird image in Set5 [14]',\n",
       " '\\nthe ShCNN with Shepard interpolation layers have been demonstrated by the state-of-the-art performance',\n",
       " '\\nReferences\\n[1] Krizhevsky, A., Sutskever, I., Hinton, G.E.: Imagenet classification with deep convolutional\\nneural networks',\n",
       " '(2015)\\n[3] Sun, Y., Liang, D., Wang, X., Tang, X.: Deepid3: Face recognition with very deep neural\\nnetworks',\n",
       " '(2015)\\n[4] Dong, C., Loy, C.C., He, K., , Tang, X.: Learning a deep convolutional network for image\\nsuper-resolution',\n",
       " '(2012)\\n[6] Burger, H.C., Schuler, C.J., Harmeling, S.:\\ncompete with bm3d? In: CVPR',\n",
       " '(2014)\\n[8] Eigen, D., Krishnan, D., Fergus, R.: Restoring an image taken through a window covered with\\ndirt or rain',\n",
       " '(2015)\\n[10] Shepard, D.: A two-dimensional interpolation function for irregularly-spaced data',\n",
       " 'In: 23rd\\nACM national conference',\n",
       " '(1968)\\n[11] Timofte, R., Smet, V.D., Gool, L.V.: A+: Adjusted anchored neighborhood regression for fast\\nsuper-resolution',\n",
       " '(2014)\\n[12] LeCun, Y., Bottou, L., Bengio, Y., Haffner, P.: Gradient-based learning applied to document\\nrecognition',\n",
       " '(1998)\\n[13] Zeyde, R., Elad, M., Protter, M.: On single image scale-up using sparse-representations',\n",
       " 'Curves and Surfaces 6920 (2012) 711–730\\n8',\n",
       " '\\x0c[14] Bevilacqua, M., Roumy, A., Guillemot, C., Morel, M.L.A.: Low-complexity single-image\\nsuper-resolution based on nonnegative neighbor embedding',\n",
       " '(2004)\\n[16] Timofte, R., Smet, V.D., Gool, L.V.: Anchored neighborhood regression for fast examplebased super-resolution',\n",
       " '(2013)\\n[17] Duchi, J., Hazan, E., Singer, Y.: Adaptive subgradient methods for online learning and stochastic optimization',\n",
       " 'Journal of Machine Learning Research 12 (2011) 2121–2159']"
      ]
     },
     "execution_count": 11,
     "metadata": {},
     "output_type": "execute_result"
    }
   ],
   "source": [
    "### GOOD SENTENCES ### \n",
    "\n",
    "final_sent[IF.predict(X) == 1].tolist()"
   ]
  },
  {
   "cell_type": "code",
   "execution_count": 12,
   "metadata": {
    "scrolled": true
   },
   "outputs": [
    {
     "data": {
      "text/plain": [
       "['Jimmy SJ',\n",
       " 'Ren∗\\nSenseTime Group Limited\\nrensijie@sensetime.com',\n",
       " 'Li Xu\\nSenseTime Group Limited\\nxuli@sensetime.com',\n",
       " 'Qiong Yan\\nSenseTime Group Limited\\nyanqiong@sensetime.com',\n",
       " 'Wenxiu Sun\\nSenseTime Group Limited\\nsunwenxiu@sensetime.com',\n",
       " 'Project page: http://www.deeplearning.cc/shepardcnn',\n",
       " 'Burger et al',\n",
       " 'Xie et al',\n",
       " 'Xu et al',\n",
       " '(K ∗ I)p / (K ∗ M)p\\nIp',\n",
       " 'Mp = 0\\nMp = 1',\n",
       " 'where I and J are the input and output images, respectively',\n",
       " 'p indexes the image coordinates',\n",
       " 'M is\\nthe binary indicator',\n",
       " 'where n is the index of layers',\n",
       " 'j\\nin Fjn−1 index the feature maps in layer n − 1',\n",
       " 'We refer to\\n4',\n",
       " 'We can discern this from Eq',\n",
       " '1x1x128 filters are used in the fourth\\nlayer',\n",
       " 'The results of the comparisons are generated using the architecture in\\n[8]',\n",
       " '(b) Bicubic / 22.10dB',\n",
       " '(c) KSVD / 23.57dB',\n",
       " '(d) NE+LLE / 23.38dB',\n",
       " '(e) ANR / 23.52dB',\n",
       " '(f) A+ / 24.42dB',\n",
       " '(g) SRCNN / 25.07dB',\n",
       " '(h) ShCNN / 25.63dB',\n",
       " 'NE+NNLS',\n",
       " 'NE+LLE',\n",
       " '24.86dB\\n28.00dB\\n26.58dB\\n29.12dB\\n26.46dB\\n34.83dB\\n30.37dB\\n34.14dB\\n34.70dB\\n29.25dB\\n32.94dB\\n34.97dB\\n26.87dB\\n30.63dB\\n30.23dB',\n",
       " '25.47dB\\n28.70dB\\n27.55dB\\n30.41dB\\n27.89 dB\\n35.57 dB\\n32.28 dB\\n36.18 dB\\n36.21 dB\\n30.44 dB\\n35.75 dB\\n36.59 dB\\n29.30 dB\\n33.21dB\\n31.81dB',\n",
       " '25.40dB\\n28.56dB\\n27.38dB\\n30.23dB\\n27.61dB\\n35.46dB\\n31.93dB\\n35.93dB\\n36.00dB\\n30.29dB\\n35.26dB\\n36.18dB\\n28.98dB\\n32.59dB\\n31.55dB',\n",
       " '25.52dB\\n28.63dB\\n27.51dB\\n30.38dB\\n27.72dB\\n35.61dB\\n32.19dB\\n36.41dB\\n36.30dB\\n30.43dB\\n35.58dB\\n36.36dB\\n28.97dB\\n33.00dB\\n31.76dB',\n",
       " 'NE+NNLS',\n",
       " 'NE+LLE',\n",
       " '23.21dB\\n26.25dB\\n24.40dB\\n26.55dB\\n23.12dB\\n32.82dB\\n27.23dB\\n31.18dB\\n31.68dB\\n27.01dB\\n29.43dB\\n32.39dB\\n23.71dB\\n26.63dB\\n27.54dB',\n",
       " '23.52dB\\n26.76dB\\n25.02dB\\n27.15dB\\n23.96dB\\n33.53dB\\n28.43dB\\n33.19dB\\n33.00dB\\n27.90dB\\n31.10dB\\n34.07dB\\n25.23dB\\n28.49dB\\n28.67dB',\n",
       " '23.49dB\\n26.67dB\\n24.86dB\\n27.00dB\\n23.83dB\\n33.45dB\\n28.21dB\\n32.87dB\\n32.82dB\\n27.72dB\\n30.76dB\\n33.56dB\\n24.81dB\\n28.12dB\\n28.44dB',\n",
       " '23.55dB\\n26.74dB\\n24.98dB\\n27.07dB\\n23.98dB\\n33.56dB\\n28.38dB\\n33.21dB\\n33.01dB\\n27.87dB\\n30.95dB\\n33.80dB\\n24.94dB\\n28.31dB\\n28.60dB',\n",
       " 'NE+NNLS',\n",
       " 'NE+LLE',\n",
       " '22.44dB\\n25.15dB\\n23.15dB\\n25.48dB\\n21.69dB\\n31.55dB\\n25.52dB\\n29.41dB\\n29.84dB\\n25.70dB\\n27.46dB\\n30.60dB\\n21.98dB\\n24.08dB\\n26.00dB',\n",
       " '22.66dB\\n25.58dB\\n23.65dB\\n25.81dB\\n22.31dB\\n32.18dB\\n26.44dB\\n31.01dB\\n30.92dB\\n26.46dB\\n28.72dB\\n32.13dB\\n23.05dB\\n25.47dB\\n26.88dB',\n",
       " '22.63dB\\n25.53dB\\n23.54dB\\n25.82dB\\n22.19dB\\n32.09dB\\n26.28dB\\n30.90dB\\n30.82dB\\n26.30dB\\n28.48dB\\n31.78dB\\n22.61dB\\n25.17dB\\n26.72dB',\n",
       " '22.67dB\\n25.58dB\\n23.60dB\\n25.81dB\\n22.26dB\\n32.19dB\\n26.38dB\\n30.90dB\\n30.93dB\\n26.38dB\\n28.58dB\\n31.87dB\\n22.77dB\\n25.36dB\\n26.81dB',\n",
       " '25.54dB\\n28.59dB\\n27.54dB\\n30.44dB\\n27.80dB\\n35.63dB\\n32.29dB\\n36.40dB\\n36.32dB\\n30.47dB\\n35.71dB\\n36.39dB\\n28.97dB\\n33.07dB\\n31.80dB',\n",
       " '25.65dB\\n28.70dB\\n27.78dB\\n30.57dB\\n28.65dB\\n35.74dB\\n33.02dB\\n36.94dB\\n36.60dB\\n30.87dB\\n37.01dB\\n37.02dB\\n30.09dB\\n33.59dB\\n32.28dB',\n",
       " '23.56dB\\n26.69dB\\n25.01dB\\n27.08dB\\n24.04dB\\n33.62dB\\n28.49dB\\n33.23dB\\n33.08dB\\n27.92dB\\n31.09dB\\n33.82dB\\n25.03dB\\n28.43dB\\n28.65dB',\n",
       " '23.62dB\\n26.47dB\\n25.17dB\\n27.27dB\\n24.38dB\\n33.76dB\\n29.05dB\\n34.30dB\\n33.52dB\\n28.28dB\\n32.14dB\\n34.74dB\\n26.09dB\\n28.98dB\\n29.13dB',\n",
       " '22.69dB\\n25.60dB\\n23.63dB\\n25.80dB\\n22.33dB\\n32.23dB\\n26.47dB\\n30.83dB\\n30.99dB\\n26.43dB\\n28.70dB\\n31.93dB\\n22.85dB\\n25.47dB\\n26.85dB',\n",
       " '22.74dB\\n25.74dB\\n23.77dB\\n25.98dB\\n22.59dB\\n32.44dB\\n26.90dB\\n32.24dB\\n31.41dB\\n26.78dB\\n29.39dB\\n32.87dB\\n23.64dB\\n25.94dB\\n27.32dB',\n",
       " '25.62dB\\n28.59dB\\n27.70dB\\n30.49dB\\n28.27dB\\n35.61dB\\n33.03dB\\n36.20dB\\n36.50dB\\n30.82dB\\n37.18dB\\n36.75dB\\n30.40dB\\n33.29dB\\n32.18dB',\n",
       " '25.79dB\\n28.59dB\\n27.92dB\\n30.82dB\\n28.70dB\\n35.75dB\\n33.53dB\\n36.14dB\\n36.71dB\\n31.06dB\\n38.09dB\\n37.03dB\\n31.07dB\\n33.51dB\\n32.48dB',\n",
       " '23.60dB\\n26.66dB\\n25.07dB\\n27.20dB\\n24.39dB\\n33.58dB\\n28.97dB\\n33.35dB\\n33.39dB\\n28.18dB\\n32.39dB\\n34.35dB\\n26.02dB\\n28.87dB\\n29.00dB',\n",
       " '23.69dB\\n26.54dB\\n25.28dB\\n27.43dB\\n24.70dB\\n33.71dB\\n29.42dB\\n34.45dB\\n33.68dB\\n28.41dB\\n33.37dB\\n34.77dB\\n26.89dB\\n29.10dB\\n29.39dB',\n",
       " '22.70dB\\n25.70dB\\n23.66dB\\n25.93dB\\n22.53dB\\n32.12dB\\n26.84dB\\n31.47dB\\n31.20dB\\n26.65dB\\n29.89dB\\n32.34dB\\n23.84dB\\n25.97dB\\n27.20dB',\n",
       " '22.75dB\\n25.80dB\\n23.83dB\\n26.13dB\\n22.74dB\\n32.35dB\\n27.18dB\\n32.30dB\\n31.45dB\\n26.82dB\\n30.30dB\\n32.82dB\\n24.49dB\\n26.21dB\\n27.51dB',\n",
       " 'Methods compared:\\nBicubic, K-SVD [13], NE+NNLS [14], NE+LLE [15], ANR [16], A+ [11], SRCNN [4], Our ShCNN',\n",
       " '(b) Bicubic / 36.81dB',\n",
       " '(c) KSVD / 39.93dB',\n",
       " '(d) NE+LLE / 40.00dB',\n",
       " '(e) ANR / 40.04dB',\n",
       " '(f) A+ / 41.12dB',\n",
       " '(g) SRCNN / 40.64dB',\n",
       " '(h) ShCNN / 41.30dB',\n",
       " 'In: NIPS',\n",
       " '(2012) 1106–1114\\n[2] Szegedy, C., Liu, W., Jia, Y., Sermanet, P., Reed, S., Anguelov, D., Erhan, D., Vanhoucke, V.,\\nRabinovich, A.: Going deeper with convolutions',\n",
       " '(2014)\\n[5] Xie, J., Xu, L., Chen, E.: Image denoising and inpainting with deep neural networks',\n",
       " 'In:\\nNIPS',\n",
       " 'Image denoising: Can plain neural networks',\n",
       " '[7] Xu, L., Ren, J.S., Liu, C., Jia, J.: Deep convolutional neural network for image deconvolution',\n",
       " 'In: NIPS',\n",
       " '(2013)\\n[9] Xu, L., Ren, J.S., Yan, Q., Liao, R., Jia, J.: Deep edge-aware filters',\n",
       " 'In: Proceedings of IEEE',\n",
       " '(2012)\\n[15] Chang, H., Yeung, D.Y., Xiong, Y.: Super-resolution through neighbor embedding']"
      ]
     },
     "execution_count": 12,
     "metadata": {},
     "output_type": "execute_result"
    }
   ],
   "source": [
    "### BAD SENTENCES (ANOMALIES) ###\n",
    "\n",
    "final_sent[IF.predict(X) == -1].tolist()"
   ]
  }
 ],
 "metadata": {
  "kernelspec": {
   "display_name": "Python 3",
   "language": "python",
   "name": "python3"
  },
  "language_info": {
   "codemirror_mode": {
    "name": "ipython",
    "version": 3
   },
   "file_extension": ".py",
   "mimetype": "text/x-python",
   "name": "python",
   "nbconvert_exporter": "python",
   "pygments_lexer": "ipython3",
   "version": "3.6.6"
  }
 },
 "nbformat": 4,
 "nbformat_minor": 2
}
