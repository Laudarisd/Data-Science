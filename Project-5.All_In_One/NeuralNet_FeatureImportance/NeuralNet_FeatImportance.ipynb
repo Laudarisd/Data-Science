{
 "cells": [
  {
   "cell_type": "code",
   "execution_count": 1,
   "metadata": {},
   "outputs": [],
   "source": [
    "import os\n",
    "import tqdm\n",
    "import random\n",
    "import numpy as np\n",
    "import pandas as pd\n",
    "import matplotlib.pyplot as plt\n",
    "import seaborn as sns\n",
    "\n",
    "from sklearn.preprocessing import StandardScaler\n",
    "from sklearn.metrics import mean_absolute_error\n",
    "from sklearn.model_selection import train_test_split\n",
    "from sklearn.ensemble import GradientBoostingRegressor\n",
    "\n",
    "import tensorflow as tf\n",
    "from tensorflow.keras.models import *\n",
    "from tensorflow.keras.layers import *"
   ]
  },
  {
   "cell_type": "code",
   "execution_count": 2,
   "metadata": {},
   "outputs": [
    {
     "name": "stdout",
     "output_type": "stream",
     "text": [
      "(9568, 5)\n"
     ]
    },
    {
     "data": {
      "text/html": [
       "<div>\n",
       "<style scoped>\n",
       "    .dataframe tbody tr th:only-of-type {\n",
       "        vertical-align: middle;\n",
       "    }\n",
       "\n",
       "    .dataframe tbody tr th {\n",
       "        vertical-align: top;\n",
       "    }\n",
       "\n",
       "    .dataframe thead th {\n",
       "        text-align: right;\n",
       "    }\n",
       "</style>\n",
       "<table border=\"1\" class=\"dataframe\">\n",
       "  <thead>\n",
       "    <tr style=\"text-align: right;\">\n",
       "      <th></th>\n",
       "      <th>AT</th>\n",
       "      <th>V</th>\n",
       "      <th>AP</th>\n",
       "      <th>RH</th>\n",
       "      <th>PE</th>\n",
       "    </tr>\n",
       "  </thead>\n",
       "  <tbody>\n",
       "    <tr>\n",
       "      <td>0</td>\n",
       "      <td>14.96</td>\n",
       "      <td>41.76</td>\n",
       "      <td>1024.07</td>\n",
       "      <td>73.17</td>\n",
       "      <td>463.26</td>\n",
       "    </tr>\n",
       "    <tr>\n",
       "      <td>1</td>\n",
       "      <td>25.18</td>\n",
       "      <td>62.96</td>\n",
       "      <td>1020.04</td>\n",
       "      <td>59.08</td>\n",
       "      <td>444.37</td>\n",
       "    </tr>\n",
       "    <tr>\n",
       "      <td>2</td>\n",
       "      <td>5.11</td>\n",
       "      <td>39.40</td>\n",
       "      <td>1012.16</td>\n",
       "      <td>92.14</td>\n",
       "      <td>488.56</td>\n",
       "    </tr>\n",
       "    <tr>\n",
       "      <td>3</td>\n",
       "      <td>20.86</td>\n",
       "      <td>57.32</td>\n",
       "      <td>1010.24</td>\n",
       "      <td>76.64</td>\n",
       "      <td>446.48</td>\n",
       "    </tr>\n",
       "    <tr>\n",
       "      <td>4</td>\n",
       "      <td>10.82</td>\n",
       "      <td>37.50</td>\n",
       "      <td>1009.23</td>\n",
       "      <td>96.62</td>\n",
       "      <td>473.90</td>\n",
       "    </tr>\n",
       "  </tbody>\n",
       "</table>\n",
       "</div>"
      ],
      "text/plain": [
       "      AT      V       AP     RH      PE\n",
       "0  14.96  41.76  1024.07  73.17  463.26\n",
       "1  25.18  62.96  1020.04  59.08  444.37\n",
       "2   5.11  39.40  1012.16  92.14  488.56\n",
       "3  20.86  57.32  1010.24  76.64  446.48\n",
       "4  10.82  37.50  1009.23  96.62  473.90"
      ]
     },
     "execution_count": 2,
     "metadata": {},
     "output_type": "execute_result"
    }
   ],
   "source": [
    "### READ DATA ###\n",
    "\n",
    "df = pd.read_excel('Folds5x2_pp.xlsx')\n",
    "\n",
    "print(df.shape)\n",
    "df.head()"
   ]
  },
  {
   "cell_type": "code",
   "execution_count": 3,
   "metadata": {},
   "outputs": [
    {
     "data": {
      "text/plain": [
       "<matplotlib.axes._subplots.AxesSubplot at 0x1c329003550>"
      ]
     },
     "execution_count": 3,
     "metadata": {},
     "output_type": "execute_result"
    },
    {
     "data": {
      "image/png": "[encoded data removed]",
      "text/plain": [
       "<Figure size 576x576 with 2 Axes>"
      ]
     },
     "metadata": {
      "needs_background": "light"
     },
     "output_type": "display_data"
    }
   ],
   "source": [
    "### PLOT CORRELATION MATRIX ###\n",
    "\n",
    "plt.figure(figsize=(8,8))\n",
    "train_size = int(df.shape[0]*0.8)\n",
    "corr_matrix = df.iloc[:train_size,:].corr().abs()\n",
    "sns.heatmap(corr_matrix, mask=np.zeros_like(corr_matrix, dtype=np.bool), cmap=sns.diverging_palette(220, 10, as_cmap=True),\n",
    "            square=True, annot=True)"
   ]
  },
  {
   "cell_type": "code",
   "execution_count": 4,
   "metadata": {},
   "outputs": [],
   "source": [
    "### TRAIN TEST SPLIT ###\n",
    "\n",
    "X, y = ['AT','V','AP','RH'], ['PE']\n",
    "X_train, X_test, y_train, y_test = train_test_split(df[X], df[y], test_size = 0.2, random_state = 42)"
   ]
  },
  {
   "cell_type": "markdown",
   "metadata": {},
   "source": [
    "# GRADIENT BOOSTING FEATURE IMPORTANCES"
   ]
  },
  {
   "cell_type": "code",
   "execution_count": 5,
   "metadata": {},
   "outputs": [
    {
     "data": {
      "text/plain": [
       "GradientBoostingRegressor(alpha=0.9, ccp_alpha=0.0, criterion='friedman_mse',\n",
       "                          init=None, learning_rate=0.1, loss='ls', max_depth=3,\n",
       "                          max_features=None, max_leaf_nodes=None,\n",
       "                          min_impurity_decrease=0.0, min_impurity_split=None,\n",
       "                          min_samples_leaf=1, min_samples_split=2,\n",
       "                          min_weight_fraction_leaf=0.0, n_estimators=100,\n",
       "                          n_iter_no_change=None, presort='deprecated',\n",
       "                          random_state=None, subsample=1.0, tol=0.0001,\n",
       "                          validation_fraction=0.1, verbose=0, warm_start=False)"
      ]
     },
     "execution_count": 5,
     "metadata": {},
     "output_type": "execute_result"
    }
   ],
   "source": [
    "### FIT GRADIENTBOOSTING ###\n",
    "\n",
    "gb = GradientBoostingRegressor(n_estimators=100)\n",
    "gb.fit(X_train, y_train.values.ravel())"
   ]
  },
  {
   "cell_type": "code",
   "execution_count": 6,
   "metadata": {},
   "outputs": [
    {
     "data": {
      "text/plain": [
       "2.9478745857816366"
      ]
     },
     "execution_count": 6,
     "metadata": {},
     "output_type": "execute_result"
    }
   ],
   "source": [
    "### PREDICTION ERROR ON TEST DATA ###\n",
    "\n",
    "mean_absolute_error(y_test, gb.predict(X_test))"
   ]
  },
  {
   "cell_type": "code",
   "execution_count": 7,
   "metadata": {},
   "outputs": [
    {
     "data": {
      "image/png": "[encoded data removed]",
      "text/plain": [
       "<Figure size 432x288 with 1 Axes>"
      ]
     },
     "metadata": {
      "needs_background": "light"
     },
     "output_type": "display_data"
    }
   ],
   "source": [
    "### FEATURE IMPORTANCES REPORT ###\n",
    "\n",
    "plt.bar(range(X_train.shape[1]), gb.feature_importances_)\n",
    "plt.xticks(range(X_train.shape[1]), ['AT','V','AP','RH'])\n",
    "np.set_printoptions(False)"
   ]
  },
  {
   "cell_type": "markdown",
   "metadata": {},
   "source": [
    "# PERMUTATION IMPORTANCE"
   ]
  },
  {
   "cell_type": "code",
   "execution_count": 8,
   "metadata": {},
   "outputs": [],
   "source": [
    "### SCALE DATA FOR NN ###\n",
    "\n",
    "scaler = StandardScaler()\n",
    "scaled_train = scaler.fit_transform(X_train)\n",
    "scaled_test = scaler.transform(X_test)"
   ]
  },
  {
   "cell_type": "code",
   "execution_count": 9,
   "metadata": {},
   "outputs": [],
   "source": [
    "### UTILITY FUNCTIONS TO SCALE TARGET ###\n",
    "\n",
    "mean_train = y_train.mean().values\n",
    "std_train = y_train.std().values\n",
    "\n",
    "def scale_target(y, mean, std):\n",
    "    return np.asarray((y - mean)/std)\n",
    "\n",
    "def reverse_target(pred, mean, std): \n",
    "    return np.asarray(pred*std + mean)"
   ]
  },
  {
   "cell_type": "code",
   "execution_count": 10,
   "metadata": {},
   "outputs": [
    {
     "name": "stdout",
     "output_type": "stream",
     "text": [
      "Train on 7654 samples\n",
      "Epoch 1/100\n",
      "7654/7654 - 1s - loss: 0.2597\n",
      "Epoch 2/100\n",
      "7654/7654 - 0s - loss: 0.0659\n",
      "Epoch 3/100\n",
      "7654/7654 - 0s - loss: 0.0618\n",
      "Epoch 4/100\n",
      "7654/7654 - 0s - loss: 0.0608\n",
      "Epoch 5/100\n",
      "7654/7654 - 0s - loss: 0.0599\n",
      "Epoch 6/100\n",
      "7654/7654 - 0s - loss: 0.0599\n",
      "Epoch 7/100\n",
      "7654/7654 - 0s - loss: 0.0595\n",
      "Epoch 8/100\n",
      "7654/7654 - 0s - loss: 0.0588\n",
      "Epoch 9/100\n",
      "7654/7654 - 0s - loss: 0.0584\n",
      "Epoch 10/100\n",
      "7654/7654 - 0s - loss: 0.0587\n",
      "Epoch 11/100\n",
      "7654/7654 - 0s - loss: 0.0581\n",
      "Epoch 12/100\n",
      "7654/7654 - 0s - loss: 0.0581\n",
      "Epoch 13/100\n",
      "7654/7654 - 0s - loss: 0.0575\n",
      "Epoch 14/100\n",
      "7654/7654 - 0s - loss: 0.0574\n",
      "Epoch 15/100\n",
      "7654/7654 - 0s - loss: 0.0574\n",
      "Epoch 16/100\n",
      "7654/7654 - 0s - loss: 0.0575\n",
      "Epoch 17/100\n",
      "7654/7654 - 0s - loss: 0.0571\n",
      "Epoch 18/100\n",
      "7654/7654 - 0s - loss: 0.0569\n",
      "Epoch 19/100\n",
      "7654/7654 - 0s - loss: 0.0573\n",
      "Epoch 20/100\n",
      "7654/7654 - 0s - loss: 0.0563\n",
      "Epoch 21/100\n",
      "7654/7654 - 0s - loss: 0.0564\n",
      "Epoch 22/100\n",
      "7654/7654 - 0s - loss: 0.0561\n",
      "Epoch 23/100\n",
      "7654/7654 - 0s - loss: 0.0565\n",
      "Epoch 24/100\n",
      "7654/7654 - 0s - loss: 0.0560\n",
      "Epoch 25/100\n",
      "7654/7654 - 0s - loss: 0.0555\n",
      "Epoch 26/100\n",
      "7654/7654 - 0s - loss: 0.0559\n",
      "Epoch 27/100\n",
      "7654/7654 - 0s - loss: 0.0554\n",
      "Epoch 28/100\n",
      "7654/7654 - 0s - loss: 0.0552\n",
      "Epoch 29/100\n",
      "7654/7654 - 0s - loss: 0.0553\n",
      "Epoch 30/100\n",
      "7654/7654 - 0s - loss: 0.0550\n",
      "Epoch 31/100\n",
      "7654/7654 - 0s - loss: 0.0549\n",
      "Epoch 32/100\n",
      "7654/7654 - 0s - loss: 0.0550\n",
      "Epoch 33/100\n",
      "7654/7654 - 0s - loss: 0.0552\n",
      "Epoch 34/100\n",
      "7654/7654 - 0s - loss: 0.0548\n",
      "Epoch 35/100\n",
      "7654/7654 - 0s - loss: 0.0544\n",
      "Epoch 36/100\n",
      "7654/7654 - 0s - loss: 0.0550\n",
      "Epoch 37/100\n",
      "7654/7654 - 0s - loss: 0.0547\n",
      "Epoch 38/100\n",
      "7654/7654 - 0s - loss: 0.0546\n",
      "Epoch 39/100\n",
      "7654/7654 - 0s - loss: 0.0543\n",
      "Epoch 40/100\n",
      "7654/7654 - 0s - loss: 0.0543\n",
      "Epoch 41/100\n",
      "7654/7654 - 0s - loss: 0.0539\n",
      "Epoch 42/100\n",
      "7654/7654 - 0s - loss: 0.0538\n",
      "Epoch 43/100\n",
      "7654/7654 - 0s - loss: 0.0547\n",
      "Epoch 44/100\n",
      "7654/7654 - 0s - loss: 0.0537\n",
      "Epoch 45/100\n",
      "7654/7654 - 0s - loss: 0.0535\n",
      "Epoch 46/100\n",
      "7654/7654 - 0s - loss: 0.0535\n",
      "Epoch 47/100\n",
      "7654/7654 - 0s - loss: 0.0539\n",
      "Epoch 48/100\n",
      "7654/7654 - 0s - loss: 0.0536\n",
      "Epoch 49/100\n",
      "7654/7654 - 0s - loss: 0.0535\n",
      "Epoch 50/100\n",
      "7654/7654 - 0s - loss: 0.0533\n",
      "Epoch 51/100\n",
      "7654/7654 - 0s - loss: 0.0535\n",
      "Epoch 52/100\n",
      "7654/7654 - 0s - loss: 0.0536\n",
      "Epoch 53/100\n",
      "7654/7654 - 0s - loss: 0.0539\n",
      "Epoch 54/100\n",
      "7654/7654 - 0s - loss: 0.0537\n",
      "Epoch 55/100\n",
      "7654/7654 - 0s - loss: 0.0532\n",
      "Epoch 56/100\n",
      "7654/7654 - 0s - loss: 0.0533\n",
      "Epoch 57/100\n",
      "7654/7654 - 0s - loss: 0.0533\n",
      "Epoch 58/100\n",
      "7654/7654 - 0s - loss: 0.0526\n",
      "Epoch 59/100\n",
      "7654/7654 - 0s - loss: 0.0529\n",
      "Epoch 60/100\n",
      "7654/7654 - 0s - loss: 0.0532\n",
      "Epoch 61/100\n",
      "7654/7654 - 0s - loss: 0.0526\n",
      "Epoch 62/100\n",
      "7654/7654 - 0s - loss: 0.0529\n",
      "Epoch 63/100\n",
      "7654/7654 - 0s - loss: 0.0526\n",
      "Epoch 64/100\n",
      "7654/7654 - 0s - loss: 0.0522\n",
      "Epoch 65/100\n",
      "7654/7654 - 0s - loss: 0.0525\n",
      "Epoch 66/100\n",
      "7654/7654 - 0s - loss: 0.0521\n",
      "Epoch 67/100\n",
      "7654/7654 - 0s - loss: 0.0525\n",
      "Epoch 68/100\n",
      "7654/7654 - 0s - loss: 0.0524\n",
      "Epoch 69/100\n",
      "7654/7654 - 0s - loss: 0.0519\n",
      "Epoch 70/100\n",
      "7654/7654 - 0s - loss: 0.0521\n",
      "Epoch 71/100\n",
      "7654/7654 - 0s - loss: 0.0532\n",
      "Epoch 72/100\n",
      "7654/7654 - 0s - loss: 0.0525\n",
      "Epoch 73/100\n",
      "7654/7654 - 0s - loss: 0.0517\n",
      "Epoch 74/100\n",
      "7654/7654 - 0s - loss: 0.0519\n",
      "Epoch 75/100\n",
      "7654/7654 - 0s - loss: 0.0524\n",
      "Epoch 76/100\n",
      "7654/7654 - 0s - loss: 0.0519\n",
      "Epoch 77/100\n",
      "7654/7654 - 0s - loss: 0.0521\n",
      "Epoch 78/100\n",
      "7654/7654 - 0s - loss: 0.0522\n",
      "Epoch 79/100\n",
      "7654/7654 - 0s - loss: 0.0524\n",
      "Epoch 80/100\n",
      "7654/7654 - 0s - loss: 0.0521\n",
      "Epoch 81/100\n",
      "7654/7654 - 0s - loss: 0.0518\n",
      "Epoch 82/100\n",
      "7654/7654 - 0s - loss: 0.0521\n",
      "Epoch 83/100\n",
      "7654/7654 - 0s - loss: 0.0513\n",
      "Epoch 84/100\n",
      "7654/7654 - 0s - loss: 0.0519\n",
      "Epoch 85/100\n",
      "7654/7654 - 0s - loss: 0.0514\n",
      "Epoch 86/100\n",
      "7654/7654 - 0s - loss: 0.0516\n",
      "Epoch 87/100\n",
      "7654/7654 - 0s - loss: 0.0515\n",
      "Epoch 88/100\n",
      "7654/7654 - 0s - loss: 0.0512\n",
      "Epoch 89/100\n",
      "7654/7654 - 0s - loss: 0.0509\n",
      "Epoch 90/100\n",
      "7654/7654 - 0s - loss: 0.0517\n",
      "Epoch 91/100\n",
      "7654/7654 - 0s - loss: 0.0512\n",
      "Epoch 92/100\n",
      "7654/7654 - 0s - loss: 0.0513\n",
      "Epoch 93/100\n",
      "7654/7654 - 0s - loss: 0.0508\n",
      "Epoch 94/100\n",
      "7654/7654 - 0s - loss: 0.0514\n",
      "Epoch 95/100\n",
      "7654/7654 - 0s - loss: 0.0509\n",
      "Epoch 96/100\n",
      "7654/7654 - 0s - loss: 0.0513\n",
      "Epoch 97/100\n",
      "7654/7654 - 0s - loss: 0.0508\n",
      "Epoch 98/100\n",
      "7654/7654 - 0s - loss: 0.0504\n",
      "Epoch 99/100\n",
      "7654/7654 - 0s - loss: 0.0509\n",
      "Epoch 100/100\n",
      "7654/7654 - 0s - loss: 0.0520\n"
     ]
    },
    {
     "data": {
      "text/plain": [
       "<tensorflow.python.keras.callbacks.History at 0x1c32b55d358>"
      ]
     },
     "execution_count": 10,
     "metadata": {},
     "output_type": "execute_result"
    }
   ],
   "source": [
    "def set_seed(seed):\n",
    "    \n",
    "    tf.random.set_seed(seed)\n",
    "    os.environ['PYTHONHASHSEED'] = str(seed)\n",
    "    np.random.seed(seed)\n",
    "    random.seed(seed)\n",
    "\n",
    "\n",
    "set_seed(33)\n",
    "\n",
    "inp = Input(shape=(scaled_train.shape[1],))\n",
    "x = Dense(128, activation='relu')(inp)\n",
    "x = Dense(32, activation='relu')(x)\n",
    "out = Dense(1)(x)\n",
    "model = Model(inp, out)\n",
    "\n",
    "model.compile(optimizer='adam', loss='mse')\n",
    "model.fit(scaled_train, scale_target(y_train, mean_train, std_train) , epochs=100, batch_size=128 ,verbose=2)"
   ]
  },
  {
   "cell_type": "code",
   "execution_count": 11,
   "metadata": {},
   "outputs": [
    {
     "data": {
      "text/plain": [
       "2.9543382479367595"
      ]
     },
     "execution_count": 11,
     "metadata": {},
     "output_type": "execute_result"
    }
   ],
   "source": [
    "### PREDICTION ERROR ON TEST DATA ###\n",
    "\n",
    "real_pred = reverse_target(model.predict(scaled_test).ravel(), mean_train, std_train) \n",
    "MAE = mean_absolute_error(y_test, real_pred)\n",
    "\n",
    "MAE"
   ]
  },
  {
   "cell_type": "code",
   "execution_count": 12,
   "metadata": {},
   "outputs": [
    {
     "data": {
      "text/plain": [
       "array([17.,  6.,  4.,  4.])"
      ]
     },
     "execution_count": 12,
     "metadata": {},
     "output_type": "execute_result"
    }
   ],
   "source": [
    "### COMPUTE PERMUTATION AND SCORING ###\n",
    "\n",
    "os.environ['PYTHONHASHSEED'] = str(33)\n",
    "np.random.seed(33)\n",
    "random.seed(33)\n",
    "\n",
    "final_score = []\n",
    "shuff_pred = []\n",
    "\n",
    "for i,col in enumerate(X_test.columns):\n",
    "\n",
    "    # shuffle column\n",
    "    shuff_test = scaled_test.copy()\n",
    "    shuff_test[:,i] = np.random.permutation(shuff_test[:,i])\n",
    "    \n",
    "    # compute score\n",
    "    score = mean_absolute_error(y_test, reverse_target(model.predict(shuff_test).ravel(), mean_train, std_train))\n",
    "    shuff_pred.append(reverse_target(model.predict(shuff_test).ravel(), mean_train, std_train))\n",
    "    final_score.append(score)\n",
    "    \n",
    "final_score = np.asarray(final_score)\n",
    "final_score"
   ]
  },
  {
   "cell_type": "code",
   "execution_count": 13,
   "metadata": {},
   "outputs": [
    {
     "data": {
      "image/png": "[encoded data removed]",
      "text/plain": [
       "<Figure size 432x288 with 1 Axes>"
      ]
     },
     "metadata": {
      "needs_background": "light"
     },
     "output_type": "display_data"
    }
   ],
   "source": [
    "### PERMUTATION IMPORTANCE REPORT ###\n",
    "\n",
    "plt.bar(range(X_train.shape[1]), (final_score - MAE)/MAE*100)\n",
    "plt.xticks(range(X_train.shape[1]), ['AT','V','AP','RH'])\n",
    "np.set_printoptions(False)"
   ]
  },
  {
   "cell_type": "markdown",
   "metadata": {},
   "source": [
    "# EXPLAIN CASUALITY"
   ]
  },
  {
   "cell_type": "code",
   "execution_count": 14,
   "metadata": {},
   "outputs": [
    {
     "data": {
      "text/plain": [
       "0.0253"
      ]
     },
     "execution_count": 14,
     "metadata": {},
     "output_type": "execute_result"
    }
   ],
   "source": [
    "### SIMULATE MEAN DIFFERENCE TEST AMONG PREDICTIONS ###\n",
    "\n",
    "os.environ['PYTHONHASHSEED'] = str(33)\n",
    "np.random.seed(33)\n",
    "random.seed(33)\n",
    "\n",
    "id_ = 0\n",
    "\n",
    "merge_pred = np.hstack([shuff_pred[id_], real_pred])\n",
    "observed_diff = abs(shuff_pred[id_].mean() - merge_pred.mean())\n",
    "extreme_values = []\n",
    "sample_d = []\n",
    "\n",
    "for _ in range(10000):\n",
    "    sample_mean = np.random.choice(merge_pred, size=shuff_pred[id_].shape[0]).mean()\n",
    "    sample_diff = abs(sample_mean - merge_pred.mean())\n",
    "    sample_d.append(sample_diff)\n",
    "    extreme_values.append(sample_diff >= observed_diff)\n",
    "    \n",
    "np.sum(extreme_values)/10000"
   ]
  },
  {
   "cell_type": "code",
   "execution_count": 15,
   "metadata": {},
   "outputs": [
    {
     "data": {
      "text/plain": [
       "<matplotlib.collections.LineCollection at 0x1c32b8f0f28>"
      ]
     },
     "execution_count": 15,
     "metadata": {},
     "output_type": "execute_result"
    },
    {
     "data": {
      "image/png": "[encoded data removed]",
      "text/plain": [
       "<Figure size 432x288 with 1 Axes>"
      ]
     },
     "metadata": {
      "needs_background": "light"
     },
     "output_type": "display_data"
    }
   ],
   "source": [
    "### PLOT MEAN DIFFERENCE DISTRIBUTIONS ###\n",
    "\n",
    "y, x, _ = plt.hist(sample_d, alpha=0.6)\n",
    "plt.vlines(observed_diff, 0,max(y), colors='red', linestyles='dashed')"
   ]
  }
 ],
 "metadata": {
  "kernelspec": {
   "display_name": "Python 3",
   "language": "python",
   "name": "python3"
  },
  "language_info": {
   "codemirror_mode": {
    "name": "ipython",
    "version": 3
   },
   "file_extension": ".py",
   "mimetype": "text/x-python",
   "name": "python",
   "nbconvert_exporter": "python",
   "pygments_lexer": "ipython3",
   "version": "3.6.6"
  }
 },
 "nbformat": 4,
 "nbformat_minor": 2
}
