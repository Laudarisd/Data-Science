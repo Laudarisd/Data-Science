{
 "cells": [
  {
   "cell_type": "code",
   "execution_count": 1,
   "metadata": {},
   "outputs": [],
   "source": [
    "import os\n",
    "import tqdm\n",
    "import random\n",
    "import numpy as np\n",
    "import pandas as pd\n",
    "import matplotlib.pyplot as plt\n",
    "\n",
    "from sklearn.metrics import mean_absolute_error\n",
    "from sklearn.preprocessing import StandardScaler\n",
    "from sklearn.model_selection import train_test_split\n",
    "\n",
    "import tensorflow as tf\n",
    "from tensorflow.keras.models import *\n",
    "from tensorflow.keras.layers import *\n",
    "from tensorflow.keras.callbacks import *\n",
    "from tensorflow.keras import backend as K"
   ]
  },
  {
   "cell_type": "code",
   "execution_count": 2,
   "metadata": {},
   "outputs": [
    {
     "name": "stdout",
     "output_type": "stream",
     "text": [
      "(18249, 13)\n"
     ]
    },
    {
     "data": {
      "text/html": [
       "<div>\n",
       "<style scoped>\n",
       "    .dataframe tbody tr th:only-of-type {\n",
       "        vertical-align: middle;\n",
       "    }\n",
       "\n",
       "    .dataframe tbody tr th {\n",
       "        vertical-align: top;\n",
       "    }\n",
       "\n",
       "    .dataframe thead th {\n",
       "        text-align: right;\n",
       "    }\n",
       "</style>\n",
       "<table border=\"1\" class=\"dataframe\">\n",
       "  <thead>\n",
       "    <tr style=\"text-align: right;\">\n",
       "      <th></th>\n",
       "      <th>AveragePrice</th>\n",
       "      <th>Total Volume</th>\n",
       "      <th>4046</th>\n",
       "      <th>4225</th>\n",
       "      <th>4770</th>\n",
       "      <th>Total Bags</th>\n",
       "      <th>Small Bags</th>\n",
       "      <th>Large Bags</th>\n",
       "      <th>XLarge Bags</th>\n",
       "      <th>type</th>\n",
       "      <th>year</th>\n",
       "      <th>region</th>\n",
       "      <th>test_flag</th>\n",
       "    </tr>\n",
       "    <tr>\n",
       "      <th>Date</th>\n",
       "      <th></th>\n",
       "      <th></th>\n",
       "      <th></th>\n",
       "      <th></th>\n",
       "      <th></th>\n",
       "      <th></th>\n",
       "      <th></th>\n",
       "      <th></th>\n",
       "      <th></th>\n",
       "      <th></th>\n",
       "      <th></th>\n",
       "      <th></th>\n",
       "      <th></th>\n",
       "    </tr>\n",
       "  </thead>\n",
       "  <tbody>\n",
       "    <tr>\n",
       "      <td>2015-01-04</td>\n",
       "      <td>1.75</td>\n",
       "      <td>27365.89</td>\n",
       "      <td>9307.34</td>\n",
       "      <td>3844.81</td>\n",
       "      <td>615.28</td>\n",
       "      <td>13598.46</td>\n",
       "      <td>13061.10</td>\n",
       "      <td>537.36</td>\n",
       "      <td>0.0</td>\n",
       "      <td>organic</td>\n",
       "      <td>2015</td>\n",
       "      <td>Southeast</td>\n",
       "      <td>False</td>\n",
       "    </tr>\n",
       "    <tr>\n",
       "      <td>2015-01-04</td>\n",
       "      <td>1.49</td>\n",
       "      <td>17723.17</td>\n",
       "      <td>1189.35</td>\n",
       "      <td>15628.27</td>\n",
       "      <td>0.00</td>\n",
       "      <td>905.55</td>\n",
       "      <td>905.55</td>\n",
       "      <td>0.00</td>\n",
       "      <td>0.0</td>\n",
       "      <td>organic</td>\n",
       "      <td>2015</td>\n",
       "      <td>Chicago</td>\n",
       "      <td>False</td>\n",
       "    </tr>\n",
       "    <tr>\n",
       "      <td>2015-01-04</td>\n",
       "      <td>1.68</td>\n",
       "      <td>2896.72</td>\n",
       "      <td>161.68</td>\n",
       "      <td>206.96</td>\n",
       "      <td>0.00</td>\n",
       "      <td>2528.08</td>\n",
       "      <td>2528.08</td>\n",
       "      <td>0.00</td>\n",
       "      <td>0.0</td>\n",
       "      <td>organic</td>\n",
       "      <td>2015</td>\n",
       "      <td>HarrisburgScranton</td>\n",
       "      <td>False</td>\n",
       "    </tr>\n",
       "    <tr>\n",
       "      <td>2015-01-04</td>\n",
       "      <td>1.52</td>\n",
       "      <td>54956.80</td>\n",
       "      <td>3013.04</td>\n",
       "      <td>35456.88</td>\n",
       "      <td>1561.70</td>\n",
       "      <td>14925.18</td>\n",
       "      <td>11264.80</td>\n",
       "      <td>3660.38</td>\n",
       "      <td>0.0</td>\n",
       "      <td>conventional</td>\n",
       "      <td>2015</td>\n",
       "      <td>Pittsburgh</td>\n",
       "      <td>False</td>\n",
       "    </tr>\n",
       "    <tr>\n",
       "      <td>2015-01-04</td>\n",
       "      <td>1.64</td>\n",
       "      <td>1505.12</td>\n",
       "      <td>1.27</td>\n",
       "      <td>1129.50</td>\n",
       "      <td>0.00</td>\n",
       "      <td>374.35</td>\n",
       "      <td>186.67</td>\n",
       "      <td>187.68</td>\n",
       "      <td>0.0</td>\n",
       "      <td>organic</td>\n",
       "      <td>2015</td>\n",
       "      <td>Boise</td>\n",
       "      <td>False</td>\n",
       "    </tr>\n",
       "  </tbody>\n",
       "</table>\n",
       "</div>"
      ],
      "text/plain": [
       "            AveragePrice  Total Volume     4046      4225     4770  \\\n",
       "Date                                                                 \n",
       "2015-01-04          1.75      27365.89  9307.34   3844.81   615.28   \n",
       "2015-01-04          1.49      17723.17  1189.35  15628.27     0.00   \n",
       "2015-01-04          1.68       2896.72   161.68    206.96     0.00   \n",
       "2015-01-04          1.52      54956.80  3013.04  35456.88  1561.70   \n",
       "2015-01-04          1.64       1505.12     1.27   1129.50     0.00   \n",
       "\n",
       "            Total Bags  Small Bags  Large Bags  XLarge Bags          type  \\\n",
       "Date                                                                        \n",
       "2015-01-04    13598.46    13061.10      537.36          0.0       organic   \n",
       "2015-01-04      905.55      905.55        0.00          0.0       organic   \n",
       "2015-01-04     2528.08     2528.08        0.00          0.0       organic   \n",
       "2015-01-04    14925.18    11264.80     3660.38          0.0  conventional   \n",
       "2015-01-04      374.35      186.67      187.68          0.0       organic   \n",
       "\n",
       "            year              region  test_flag  \n",
       "Date                                             \n",
       "2015-01-04  2015           Southeast      False  \n",
       "2015-01-04  2015             Chicago      False  \n",
       "2015-01-04  2015  HarrisburgScranton      False  \n",
       "2015-01-04  2015          Pittsburgh      False  \n",
       "2015-01-04  2015               Boise      False  "
      ]
     },
     "execution_count": 2,
     "metadata": {},
     "output_type": "execute_result"
    }
   ],
   "source": [
    "### READ DATASET ###\n",
    "\n",
    "df = pd.read_csv('avocado.csv', index_col=0, parse_dates=['Date'])\n",
    "df.sort_values('Date', inplace=True)\n",
    "df.set_index('Date', inplace=True)\n",
    "df['test_flag'] = (df['year']==2018)\n",
    "\n",
    "print(df.shape)\n",
    "df.head()"
   ]
  },
  {
   "cell_type": "code",
   "execution_count": 3,
   "metadata": {},
   "outputs": [],
   "source": [
    "### PLOT SERIES FOR SINGLE MARKET OF SELECTED AVOCADO TYPE ###\n",
    "\n",
    "def plot_seris(county, typ):\n",
    "    \n",
    "    plt.figure(figsize=(9,6))\n",
    "    \n",
    "    df[(df['type']==typ)&(df['region']==county)&(df['test_flag']==False)]['AveragePrice'].plot()\n",
    "    df[(df['type']==typ)&(df['region']==county)&(df['test_flag']==True)]['AveragePrice'].plot()\n",
    "    \n",
    "    plt.title('AveragePrice'+' '+typ.upper()+' '+county)\n",
    "    plt.show()"
   ]
  },
  {
   "cell_type": "code",
   "execution_count": 4,
   "metadata": {},
   "outputs": [
    {
     "data": {
      "image/png": "[encoded data removed]",
      "text/plain": [
       "<Figure size 648x432 with 1 Axes>"
      ]
     },
     "metadata": {
      "needs_background": "light"
     },
     "output_type": "display_data"
    }
   ],
   "source": [
    "reg_train = plot_seris('NewYork','conventional')"
   ]
  },
  {
   "cell_type": "code",
   "execution_count": 5,
   "metadata": {},
   "outputs": [],
   "source": [
    "### CREATE GENERATOR FOR LSTM WINDOWS AND LABELS ###\n",
    "\n",
    "sequence_length = 4\n",
    "\n",
    "\n",
    "def set_seed(seed):\n",
    "    \n",
    "    tf.random.set_seed(seed)\n",
    "    os.environ['PYTHONHASHSEED'] = str(seed)\n",
    "    np.random.seed(seed)\n",
    "    random.seed(seed)\n",
    "\n",
    "def gen_sequence(id_df, seq_length, seq_cols):\n",
    "\n",
    "    data_matrix = id_df[seq_cols].values\n",
    "    num_elements = data_matrix.shape[0]\n",
    "\n",
    "    for start, stop in zip(range(0, num_elements-seq_length), range(seq_length, num_elements)):\n",
    "        yield data_matrix[start:stop, :]\n",
    "\n",
    "def gen_labels(id_df, seq_length, label):\n",
    "\n",
    "    data_matrix = id_df[label].values\n",
    "    num_elements = data_matrix.shape[0]\n",
    "\n",
    "    return data_matrix[seq_length:num_elements, :]"
   ]
  },
  {
   "cell_type": "code",
   "execution_count": 6,
   "metadata": {},
   "outputs": [
    {
     "name": "stdout",
     "output_type": "stream",
     "text": [
      "(33042, 4, 9) (33042, 1)\n",
      "(1728, 4, 9) (1728, 1)\n"
     ]
    }
   ],
   "source": [
    "### CREATE TRAIN/TEST PRICE DATA ###\n",
    "\n",
    "col = ['AveragePrice','Total Volume','4046','4225','4770','Total Bags','Small Bags','Large Bags','XLarge Bags']\n",
    "\n",
    "X_train, X_test = [], []\n",
    "y_train, y_test = [], []\n",
    "\n",
    "for (county,typ,is_test), _df in df.groupby([\"region\", \"type\", \"test_flag\"]):\n",
    "    \n",
    "    for seq in gen_sequence(_df, sequence_length, col):            \n",
    "        \n",
    "        if is_test:\n",
    "            X_test.append(seq)\n",
    "        else:\n",
    "            X_train.append(seq)\n",
    "\n",
    "        if is_test:\n",
    "            X_test.append(seq)\n",
    "        else:\n",
    "            X_train.append(seq)\n",
    "                \n",
    "    for seq in gen_labels(_df, sequence_length, ['AveragePrice']):\n",
    "        \n",
    "        if is_test:\n",
    "            y_test.append(seq)\n",
    "        else:\n",
    "            y_train.append(seq)\n",
    "\n",
    "        if is_test:\n",
    "            y_test.append(seq)\n",
    "        else:\n",
    "            y_train.append(seq)      \n",
    "        \n",
    "        \n",
    "X_train = np.asarray(X_train)\n",
    "y_train = np.asarray(y_train)\n",
    "X_test = np.asarray(X_test)\n",
    "y_test = np.asarray(y_test)\n",
    "\n",
    "print(X_train.shape, y_train.shape)\n",
    "print(X_test.shape, y_test.shape)"
   ]
  },
  {
   "cell_type": "code",
   "execution_count": 7,
   "metadata": {},
   "outputs": [],
   "source": [
    "scaler = StandardScaler()\n",
    "X_train = scaler.fit_transform(X_train.reshape(-1,X_train.shape[-1])).reshape(X_train.shape)\n",
    "X_test = scaler.transform(X_test.reshape(-1,X_test.shape[-1])).reshape(X_test.shape)"
   ]
  },
  {
   "cell_type": "markdown",
   "metadata": {},
   "source": [
    "# FORECASTER + AUTOENCODER"
   ]
  },
  {
   "cell_type": "code",
   "execution_count": 8,
   "metadata": {},
   "outputs": [
    {
     "name": "stdout",
     "output_type": "stream",
     "text": [
      "Epoch 1/100\n",
      "259/259 [==============================] - 4s 14ms/step - loss: 0.4868 - val_loss: 0.4005\n",
      "Epoch 2/100\n",
      "259/259 [==============================] - 3s 12ms/step - loss: 0.3867 - val_loss: 0.3809\n",
      "Epoch 3/100\n",
      "259/259 [==============================] - 3s 12ms/step - loss: 0.3761 - val_loss: 0.3714\n",
      "Epoch 4/100\n",
      "259/259 [==============================] - 3s 12ms/step - loss: 0.3726 - val_loss: 0.3717\n",
      "Epoch 5/100\n",
      "259/259 [==============================] - 3s 12ms/step - loss: 0.3718 - val_loss: 0.3696\n",
      "Epoch 6/100\n",
      "259/259 [==============================] - 4s 14ms/step - loss: 0.3679 - val_loss: 0.3647\n",
      "Epoch 7/100\n",
      "259/259 [==============================] - 3s 12ms/step - loss: 0.3641 - val_loss: 0.3657\n",
      "Epoch 8/100\n",
      "259/259 [==============================] - 3s 12ms/step - loss: 0.3648 - val_loss: 0.3616\n",
      "Epoch 9/100\n",
      "259/259 [==============================] - 3s 12ms/step - loss: 0.3631 - val_loss: 0.3637\n",
      "Epoch 10/100\n",
      "259/259 [==============================] - 3s 13ms/step - loss: 0.3632 - val_loss: 0.3630\n",
      "Epoch 11/100\n",
      "259/259 [==============================] - 3s 12ms/step - loss: 0.3626 - val_loss: 0.3626\n",
      "Epoch 12/100\n",
      "259/259 [==============================] - 3s 12ms/step - loss: 0.3620 - val_loss: 0.3626\n",
      "Epoch 13/100\n",
      "259/259 [==============================] - 3s 12ms/step - loss: 0.3603 - val_loss: 0.3598\n",
      "Epoch 14/100\n",
      "259/259 [==============================] - 3s 12ms/step - loss: 0.3611 - val_loss: 0.3618\n",
      "Epoch 15/100\n",
      "259/259 [==============================] - 3s 13ms/step - loss: 0.3613 - val_loss: 0.3606\n",
      "Epoch 16/100\n",
      "259/259 [==============================] - 3s 13ms/step - loss: 0.3598 - val_loss: 0.3613\n",
      "Epoch 17/100\n",
      "259/259 [==============================] - 3s 12ms/step - loss: 0.3596 - val_loss: 0.3606\n",
      "Epoch 18/100\n",
      "259/259 [==============================] - 3s 13ms/step - loss: 0.3574 - val_loss: 0.3600\n",
      "Epoch 19/100\n",
      "259/259 [==============================] - 3s 12ms/step - loss: 0.3579 - val_loss: 0.3581\n",
      "Epoch 20/100\n",
      "259/259 [==============================] - 3s 12ms/step - loss: 0.3573 - val_loss: 0.3573\n",
      "Epoch 21/100\n",
      "259/259 [==============================] - 3s 12ms/step - loss: 0.3570 - val_loss: 0.3569\n",
      "Epoch 22/100\n",
      "259/259 [==============================] - 3s 12ms/step - loss: 0.3571 - val_loss: 0.3569\n",
      "Epoch 23/100\n",
      "259/259 [==============================] - 3s 12ms/step - loss: 0.3570 - val_loss: 0.3568\n",
      "Epoch 24/100\n",
      "259/259 [==============================] - 3s 13ms/step - loss: 0.3577 - val_loss: 0.3576\n",
      "Epoch 25/100\n",
      "259/259 [==============================] - 3s 13ms/step - loss: 0.3589 - val_loss: 0.3594\n",
      "Epoch 26/100\n",
      "259/259 [==============================] - 3s 12ms/step - loss: 0.3576 - val_loss: 0.3579\n",
      "Epoch 27/100\n",
      "253/259 [============================>.] - ETA: 0s - loss: 0.3567Restoring model weights from the end of the best epoch.\n",
      "259/259 [==============================] - 3s 13ms/step - loss: 0.3565 - val_loss: 0.3577\n",
      "Epoch 00027: early stopping\n"
     ]
    },
    {
     "data": {
      "text/plain": [
       "<tensorflow.python.keras.callbacks.History at 0x1c0ee0075f8>"
      ]
     },
     "execution_count": 8,
     "metadata": {},
     "output_type": "execute_result"
    }
   ],
   "source": [
    "set_seed(33)\n",
    "\n",
    "### DEFINE LSTM AUTOENCODER ###\n",
    "\n",
    "inputs_ae = Input(shape=(X_train.shape[1:]))\n",
    "encoded_ae = LSTM(128, return_sequences=True, dropout=0.5)(inputs_ae, training=True)\n",
    "decoded_ae = LSTM(32, return_sequences=True, dropout=0.5)(encoded_ae, training=True)\n",
    "out_ae = TimeDistributed(Dense(1))(decoded_ae)\n",
    "\n",
    "sequence_autoencoder = Model(inputs_ae, out_ae)\n",
    "sequence_autoencoder.compile(optimizer='adam', loss='mse')\n",
    "\n",
    "### TRAIN AUTOENCODER ###\n",
    "es = EarlyStopping(patience=6, verbose=2, min_delta=0.001, monitor='val_loss', mode='auto', restore_best_weights=True)\n",
    "sequence_autoencoder.fit(X_train, X_train, validation_data=(X_train, X_train),\n",
    "                         batch_size=128, epochs=100, verbose=1, callbacks=[es])"
   ]
  },
  {
   "cell_type": "code",
   "execution_count": 9,
   "metadata": {},
   "outputs": [
    {
     "data": {
      "text/plain": [
       "((33042, 4, 137), (1728, 4, 137))"
      ]
     },
     "execution_count": 9,
     "metadata": {},
     "output_type": "execute_result"
    }
   ],
   "source": [
    "### ENCODE PRICE AND CONCATENATE REGRESSORS ###\n",
    "\n",
    "encoder = Model(inputs_ae, encoded_ae)\n",
    "X_train_ = np.concatenate([X_train, encoder.predict(X_train)], axis=-1)\n",
    "X_test_ = np.concatenate([X_test, encoder.predict(X_test)], axis=-1)\n",
    "\n",
    "X_train_.shape, X_test_.shape"
   ]
  },
  {
   "cell_type": "code",
   "execution_count": 10,
   "metadata": {},
   "outputs": [
    {
     "name": "stdout",
     "output_type": "stream",
     "text": [
      "Epoch 1/100\n",
      "259/259 [==============================] - 5s 17ms/step - loss: 0.1181 - val_loss: 0.0489\n",
      "Epoch 2/100\n",
      "259/259 [==============================] - 4s 15ms/step - loss: 0.0475 - val_loss: 0.0457\n",
      "Epoch 3/100\n",
      "259/259 [==============================] - 4s 15ms/step - loss: 0.0444 - val_loss: 0.0432\n",
      "Epoch 4/100\n",
      "259/259 [==============================] - 4s 15ms/step - loss: 0.0427 - val_loss: 0.0413\n",
      "Epoch 5/100\n",
      "259/259 [==============================] - 4s 16ms/step - loss: 0.0418 - val_loss: 0.0404\n",
      "Epoch 6/100\n",
      "259/259 [==============================] - 4s 15ms/step - loss: 0.0406 - val_loss: 0.0408\n",
      "Epoch 7/100\n",
      "259/259 [==============================] - 4s 15ms/step - loss: 0.0400 - val_loss: 0.0393\n",
      "Epoch 8/100\n",
      "259/259 [==============================] - 4s 15ms/step - loss: 0.0392 - val_loss: 0.0388\n",
      "Epoch 9/100\n",
      "259/259 [==============================] - 4s 15ms/step - loss: 0.0385 - val_loss: 0.0381\n",
      "Epoch 10/100\n",
      "259/259 [==============================] - 4s 15ms/step - loss: 0.0381 - val_loss: 0.0373\n",
      "Epoch 11/100\n",
      "259/259 [==============================] - 4s 15ms/step - loss: 0.0379 - val_loss: 0.0376\n",
      "Epoch 12/100\n",
      "259/259 [==============================] - 4s 16ms/step - loss: 0.0380 - val_loss: 0.0370\n",
      "Epoch 13/100\n",
      "259/259 [==============================] - 4s 15ms/step - loss: 0.0374 - val_loss: 0.0384\n",
      "Epoch 14/100\n",
      "259/259 [==============================] - 4s 15ms/step - loss: 0.0364 - val_loss: 0.0371\n",
      "Epoch 15/100\n",
      "259/259 [==============================] - 4s 15ms/step - loss: 0.0365 - val_loss: 0.0362\n",
      "Epoch 16/100\n",
      "259/259 [==============================] - 4s 15ms/step - loss: 0.0364 - val_loss: 0.0366\n",
      "Epoch 17/100\n",
      "259/259 [==============================] - 4s 15ms/step - loss: 0.0367 - val_loss: 0.0359\n",
      "Epoch 18/100\n",
      "259/259 [==============================] - 4s 15ms/step - loss: 0.0362 - val_loss: 0.0356\n",
      "Epoch 19/100\n",
      "259/259 [==============================] - 4s 15ms/step - loss: 0.0360 - val_loss: 0.0356\n",
      "Epoch 20/100\n",
      "259/259 [==============================] - 4s 15ms/step - loss: 0.0360 - val_loss: 0.0352\n",
      "Epoch 21/100\n",
      "259/259 [==============================] - 4s 15ms/step - loss: 0.0353 - val_loss: 0.0354\n",
      "Epoch 22/100\n",
      "259/259 [==============================] - 4s 15ms/step - loss: 0.0358 - val_loss: 0.0351\n",
      "Epoch 23/100\n",
      "254/259 [============================>.] - ETA: 0s - loss: 0.0353Restoring model weights from the end of the best epoch.\n",
      "259/259 [==============================] - 4s 15ms/step - loss: 0.0354 - val_loss: 0.0350\n",
      "Epoch 00023: early stopping\n"
     ]
    },
    {
     "data": {
      "text/plain": [
       "<tensorflow.python.keras.callbacks.History at 0x1c08027aef0>"
      ]
     },
     "execution_count": 10,
     "metadata": {},
     "output_type": "execute_result"
    }
   ],
   "source": [
    "set_seed(33)\n",
    "\n",
    "### DEFINE FORECASTER ###\n",
    "\n",
    "inputs = Input(shape=(X_train_.shape[1:]))\n",
    "lstm = LSTM(128, return_sequences=True, dropout=0.5)(inputs, training=True)\n",
    "lstm = LSTM(32, return_sequences=False, dropout=0.5)(lstm, training=True)\n",
    "dense = Dense(50)(lstm)\n",
    "out = Dense(1)(dense)\n",
    "\n",
    "model = Model(inputs, out)\n",
    "model.compile(loss='mse', optimizer='adam')\n",
    "\n",
    "### FIT FORECASTER ###\n",
    "es = EarlyStopping(patience=6, verbose=2, min_delta=0.001, monitor='val_loss', mode='auto', restore_best_weights=True)\n",
    "model.fit(X_train_, y_train, validation_data=(X_train_, y_train), \n",
    "          epochs=100, batch_size=128, verbose=1, callbacks=[es])"
   ]
  },
  {
   "cell_type": "code",
   "execution_count": 11,
   "metadata": {},
   "outputs": [
    {
     "name": "stderr",
     "output_type": "stream",
     "text": [
      "100%|████████████████████████████████████████████████████████████████████████████████| 100/100 [00:16<00:00,  6.08it/s]"
     ]
    },
    {
     "name": "stdout",
     "output_type": "stream",
     "text": [
      "0.12049458980871436 0.0013504556151708717\n"
     ]
    },
    {
     "name": "stderr",
     "output_type": "stream",
     "text": [
      "\n"
     ]
    }
   ],
   "source": [
    "### COMPUTE STOCHASTIC DROPOUT ###\n",
    "\n",
    "scores = []\n",
    "for i in tqdm.tqdm(range(0,100)):\n",
    "    scores.append(mean_absolute_error(y_test, model.predict(X_test_).ravel()))\n",
    "\n",
    "print(np.mean(scores), np.std(scores))"
   ]
  },
  {
   "cell_type": "code",
   "execution_count": 12,
   "metadata": {},
   "outputs": [],
   "source": [
    "results = {'LSTM':None, 'AE+LSTM':None}\n",
    "results['AE+LSTM'] = {'mean':np.mean(scores), 'std':np.std(scores)}"
   ]
  },
  {
   "cell_type": "markdown",
   "metadata": {},
   "source": [
    "# SIMPLE FORECASTER"
   ]
  },
  {
   "cell_type": "code",
   "execution_count": 13,
   "metadata": {},
   "outputs": [
    {
     "name": "stdout",
     "output_type": "stream",
     "text": [
      "Epoch 1/100\n",
      "259/259 [==============================] - 4s 15ms/step - loss: 0.1734 - val_loss: 0.0569\n",
      "Epoch 2/100\n",
      "259/259 [==============================] - 3s 13ms/step - loss: 0.0558 - val_loss: 0.0556\n",
      "Epoch 3/100\n",
      "259/259 [==============================] - 3s 13ms/step - loss: 0.0527 - val_loss: 0.0502\n",
      "Epoch 4/100\n",
      "259/259 [==============================] - 3s 12ms/step - loss: 0.0511 - val_loss: 0.0497\n",
      "Epoch 5/100\n",
      "259/259 [==============================] - 3s 12ms/step - loss: 0.0497 - val_loss: 0.0481\n",
      "Epoch 6/100\n",
      "259/259 [==============================] - 3s 12ms/step - loss: 0.0483 - val_loss: 0.0478\n",
      "Epoch 7/100\n",
      "259/259 [==============================] - 3s 12ms/step - loss: 0.0475 - val_loss: 0.0470\n",
      "Epoch 8/100\n",
      "259/259 [==============================] - 3s 12ms/step - loss: 0.0469 - val_loss: 0.0463\n",
      "Epoch 9/100\n",
      "259/259 [==============================] - 3s 13ms/step - loss: 0.0464 - val_loss: 0.0458\n",
      "Epoch 10/100\n",
      "259/259 [==============================] - 3s 13ms/step - loss: 0.0454 - val_loss: 0.0463\n",
      "Epoch 11/100\n",
      "259/259 [==============================] - 3s 12ms/step - loss: 0.0454 - val_loss: 0.0451\n",
      "Epoch 12/100\n",
      "259/259 [==============================] - 3s 12ms/step - loss: 0.0453 - val_loss: 0.0442\n",
      "Epoch 13/100\n",
      "259/259 [==============================] - 3s 12ms/step - loss: 0.0450 - val_loss: 0.0451\n",
      "Epoch 14/100\n",
      "259/259 [==============================] - 3s 13ms/step - loss: 0.0441 - val_loss: 0.0452\n",
      "Epoch 15/100\n",
      "259/259 [==============================] - 3s 13ms/step - loss: 0.0442 - val_loss: 0.0440\n",
      "Epoch 16/100\n",
      "259/259 [==============================] - 3s 12ms/step - loss: 0.0449 - val_loss: 0.0442\n",
      "Epoch 17/100\n",
      "259/259 [==============================] - 3s 13ms/step - loss: 0.0441 - val_loss: 0.0436\n",
      "Epoch 18/100\n",
      "259/259 [==============================] - 3s 12ms/step - loss: 0.0438 - val_loss: 0.0431\n",
      "Epoch 19/100\n",
      "259/259 [==============================] - 3s 12ms/step - loss: 0.0439 - val_loss: 0.0456\n",
      "Epoch 20/100\n",
      "259/259 [==============================] - 3s 12ms/step - loss: 0.0440 - val_loss: 0.0440\n",
      "Epoch 21/100\n",
      "259/259 [==============================] - 3s 13ms/step - loss: 0.0428 - val_loss: 0.0426\n",
      "Epoch 22/100\n",
      "259/259 [==============================] - 3s 13ms/step - loss: 0.0439 - val_loss: 0.0466\n",
      "Epoch 23/100\n",
      "259/259 [==============================] - 3s 13ms/step - loss: 0.0434 - val_loss: 0.0426\n",
      "Epoch 24/100\n",
      "259/259 [==============================] - 3s 12ms/step - loss: 0.0425 - val_loss: 0.0420\n",
      "Epoch 25/100\n",
      "259/259 [==============================] - 3s 13ms/step - loss: 0.0423 - val_loss: 0.0421\n",
      "Epoch 26/100\n",
      "259/259 [==============================] - 3s 12ms/step - loss: 0.0423 - val_loss: 0.0423\n",
      "Epoch 27/100\n",
      "259/259 [==============================] - 3s 13ms/step - loss: 0.0431 - val_loss: 0.0430\n",
      "Epoch 28/100\n",
      "259/259 [==============================] - 3s 13ms/step - loss: 0.0422 - val_loss: 0.0428\n",
      "Epoch 29/100\n",
      "259/259 [==============================] - 4s 14ms/step - loss: 0.0419 - val_loss: 0.0415\n",
      "Epoch 30/100\n",
      "258/259 [============================>.] - ETA: 0s - loss: 0.0419Restoring model weights from the end of the best epoch.\n",
      "259/259 [==============================] - 3s 13ms/step - loss: 0.0419 - val_loss: 0.0423\n",
      "Epoch 00030: early stopping\n"
     ]
    },
    {
     "data": {
      "text/plain": [
       "<tensorflow.python.keras.callbacks.History at 0x1c083998fd0>"
      ]
     },
     "execution_count": 13,
     "metadata": {},
     "output_type": "execute_result"
    }
   ],
   "source": [
    "set_seed(33)\n",
    "\n",
    "### DEFINE FORECASTER ###\n",
    "\n",
    "inputs = Input(shape=(X_train.shape[1:]))\n",
    "lstm = LSTM(128, return_sequences=True, dropout=0.5)(inputs, training=True)\n",
    "lstm = LSTM(32, return_sequences=False, dropout=0.5)(lstm, training=True)\n",
    "dense = Dense(50)(lstm)\n",
    "out = Dense(1)(dense)\n",
    "\n",
    "model = Model(inputs, out)\n",
    "model.compile(loss='mse', optimizer='adam')\n",
    "\n",
    "### FIT FORECASTER ###\n",
    "es = EarlyStopping(patience=6, verbose=2, min_delta=0.001, monitor='val_loss', mode='auto', restore_best_weights=True)\n",
    "model.fit(X_train, y_train, validation_data=(X_train, y_train), \n",
    "          epochs=100, batch_size=128, verbose=1, callbacks=[es])"
   ]
  },
  {
   "cell_type": "code",
   "execution_count": 14,
   "metadata": {},
   "outputs": [
    {
     "name": "stderr",
     "output_type": "stream",
     "text": [
      "100%|████████████████████████████████████████████████████████████████████████████████| 100/100 [00:15<00:00,  6.67it/s]"
     ]
    },
    {
     "name": "stdout",
     "output_type": "stream",
     "text": [
      "0.12859090614447166 0.0017708181930074153\n"
     ]
    },
    {
     "name": "stderr",
     "output_type": "stream",
     "text": [
      "\n"
     ]
    }
   ],
   "source": [
    "### COMPUTE STOCHASTIC DROPOUT ###\n",
    "\n",
    "scores = []\n",
    "for i in tqdm.tqdm(range(0,100)):\n",
    "    scores.append(mean_absolute_error(y_test, model.predict(X_test).ravel()))\n",
    "\n",
    "print(np.mean(scores), np.std(scores))"
   ]
  },
  {
   "cell_type": "code",
   "execution_count": 15,
   "metadata": {},
   "outputs": [],
   "source": [
    "results['LSTM'] = {'mean':np.mean(scores), 'std':np.std(scores)}"
   ]
  },
  {
   "cell_type": "code",
   "execution_count": 16,
   "metadata": {},
   "outputs": [
    {
     "data": {
      "text/plain": [
       "(None, None)"
      ]
     },
     "execution_count": 16,
     "metadata": {},
     "output_type": "execute_result"
    },
    {
     "data": {
      "image/png": "[encoded data removed]",
      "text/plain": [
       "<Figure size 432x288 with 1 Axes>"
      ]
     },
     "metadata": {
      "needs_background": "light"
     },
     "output_type": "display_data"
    }
   ],
   "source": [
    "### PLOT AVG AND UNCERTAINTY OF RESULTS ###\n",
    "\n",
    "bar = plt.bar([0,1], [results['AE+LSTM']['mean'], results['LSTM']['mean']], \n",
    "              yerr=[results['AE+LSTM']['std'], results['LSTM']['std']])\n",
    "plt.xticks([0,1], ['AE+LSTM','LSTM'], rotation=90)\n",
    "bar[0].set_color('cyan'), bar[1].set_color('magenta')"
   ]
  }
 ],
 "metadata": {
  "kernelspec": {
   "display_name": "Python 3",
   "language": "python",
   "name": "python3"
  },
  "language_info": {
   "codemirror_mode": {
    "name": "ipython",
    "version": 3
   },
   "file_extension": ".py",
   "mimetype": "text/x-python",
   "name": "python",
   "nbconvert_exporter": "python",
   "pygments_lexer": "ipython3",
   "version": "3.6.6"
  }
 },
 "nbformat": 4,
 "nbformat_minor": 2
}
