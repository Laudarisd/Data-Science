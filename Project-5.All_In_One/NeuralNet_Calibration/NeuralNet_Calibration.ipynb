{
 "cells": [
  {
   "cell_type": "code",
   "execution_count": 1,
   "metadata": {},
   "outputs": [],
   "source": [
    "import os\n",
    "import random\n",
    "import pandas as pd\n",
    "import numpy as np\n",
    "import matplotlib.pyplot as plt\n",
    "\n",
    "from sklearn.metrics import classification_report\n",
    "from sklearn.calibration import calibration_curve\n",
    "from sklearn.model_selection import train_test_split\n",
    "from sklearn.preprocessing import StandardScaler, LabelEncoder\n",
    "\n",
    "import tensorflow as tf\n",
    "from tensorflow.keras.layers import *\n",
    "from tensorflow.keras.models import *\n",
    "from tensorflow.keras.callbacks import *\n",
    "from tensorflow.keras.optimizers import *\n",
    "from tensorflow.keras import backend as K"
   ]
  },
  {
   "cell_type": "code",
   "execution_count": 2,
   "metadata": {},
   "outputs": [
    {
     "name": "stdout",
     "output_type": "stream",
     "text": [
      "(72983, 34)\n"
     ]
    },
    {
     "data": {
      "text/html": [
       "<div>\n",
       "<style scoped>\n",
       "    .dataframe tbody tr th:only-of-type {\n",
       "        vertical-align: middle;\n",
       "    }\n",
       "\n",
       "    .dataframe tbody tr th {\n",
       "        vertical-align: top;\n",
       "    }\n",
       "\n",
       "    .dataframe thead th {\n",
       "        text-align: right;\n",
       "    }\n",
       "</style>\n",
       "<table border=\"1\" class=\"dataframe\">\n",
       "  <thead>\n",
       "    <tr style=\"text-align: right;\">\n",
       "      <th></th>\n",
       "      <th>RefId</th>\n",
       "      <th>IsBadBuy</th>\n",
       "      <th>PurchDate</th>\n",
       "      <th>Auction</th>\n",
       "      <th>VehYear</th>\n",
       "      <th>VehicleAge</th>\n",
       "      <th>Make</th>\n",
       "      <th>Model</th>\n",
       "      <th>Trim</th>\n",
       "      <th>SubModel</th>\n",
       "      <th>...</th>\n",
       "      <th>MMRCurrentRetailAveragePrice</th>\n",
       "      <th>MMRCurrentRetailCleanPrice</th>\n",
       "      <th>PRIMEUNIT</th>\n",
       "      <th>AUCGUART</th>\n",
       "      <th>BYRNO</th>\n",
       "      <th>VNZIP1</th>\n",
       "      <th>VNST</th>\n",
       "      <th>VehBCost</th>\n",
       "      <th>IsOnlineSale</th>\n",
       "      <th>WarrantyCost</th>\n",
       "    </tr>\n",
       "  </thead>\n",
       "  <tbody>\n",
       "    <tr>\n",
       "      <td>0</td>\n",
       "      <td>1</td>\n",
       "      <td>0</td>\n",
       "      <td>12/7/2009</td>\n",
       "      <td>ADESA</td>\n",
       "      <td>2006</td>\n",
       "      <td>3</td>\n",
       "      <td>MAZDA</td>\n",
       "      <td>MAZDA3</td>\n",
       "      <td>i</td>\n",
       "      <td>4D SEDAN I</td>\n",
       "      <td>...</td>\n",
       "      <td>11597.0</td>\n",
       "      <td>12409.0</td>\n",
       "      <td>NaN</td>\n",
       "      <td>NaN</td>\n",
       "      <td>21973</td>\n",
       "      <td>33619</td>\n",
       "      <td>FL</td>\n",
       "      <td>7100.0</td>\n",
       "      <td>0</td>\n",
       "      <td>1113</td>\n",
       "    </tr>\n",
       "    <tr>\n",
       "      <td>1</td>\n",
       "      <td>2</td>\n",
       "      <td>0</td>\n",
       "      <td>12/7/2009</td>\n",
       "      <td>ADESA</td>\n",
       "      <td>2004</td>\n",
       "      <td>5</td>\n",
       "      <td>DODGE</td>\n",
       "      <td>1500 RAM PICKUP 2WD</td>\n",
       "      <td>ST</td>\n",
       "      <td>QUAD CAB 4.7L SLT</td>\n",
       "      <td>...</td>\n",
       "      <td>11374.0</td>\n",
       "      <td>12791.0</td>\n",
       "      <td>NaN</td>\n",
       "      <td>NaN</td>\n",
       "      <td>19638</td>\n",
       "      <td>33619</td>\n",
       "      <td>FL</td>\n",
       "      <td>7600.0</td>\n",
       "      <td>0</td>\n",
       "      <td>1053</td>\n",
       "    </tr>\n",
       "    <tr>\n",
       "      <td>2</td>\n",
       "      <td>3</td>\n",
       "      <td>0</td>\n",
       "      <td>12/7/2009</td>\n",
       "      <td>ADESA</td>\n",
       "      <td>2005</td>\n",
       "      <td>4</td>\n",
       "      <td>DODGE</td>\n",
       "      <td>STRATUS V6</td>\n",
       "      <td>SXT</td>\n",
       "      <td>4D SEDAN SXT FFV</td>\n",
       "      <td>...</td>\n",
       "      <td>7146.0</td>\n",
       "      <td>8702.0</td>\n",
       "      <td>NaN</td>\n",
       "      <td>NaN</td>\n",
       "      <td>19638</td>\n",
       "      <td>33619</td>\n",
       "      <td>FL</td>\n",
       "      <td>4900.0</td>\n",
       "      <td>0</td>\n",
       "      <td>1389</td>\n",
       "    </tr>\n",
       "    <tr>\n",
       "      <td>3</td>\n",
       "      <td>4</td>\n",
       "      <td>0</td>\n",
       "      <td>12/7/2009</td>\n",
       "      <td>ADESA</td>\n",
       "      <td>2004</td>\n",
       "      <td>5</td>\n",
       "      <td>DODGE</td>\n",
       "      <td>NEON</td>\n",
       "      <td>SXT</td>\n",
       "      <td>4D SEDAN</td>\n",
       "      <td>...</td>\n",
       "      <td>4375.0</td>\n",
       "      <td>5518.0</td>\n",
       "      <td>NaN</td>\n",
       "      <td>NaN</td>\n",
       "      <td>19638</td>\n",
       "      <td>33619</td>\n",
       "      <td>FL</td>\n",
       "      <td>4100.0</td>\n",
       "      <td>0</td>\n",
       "      <td>630</td>\n",
       "    </tr>\n",
       "    <tr>\n",
       "      <td>4</td>\n",
       "      <td>5</td>\n",
       "      <td>0</td>\n",
       "      <td>12/7/2009</td>\n",
       "      <td>ADESA</td>\n",
       "      <td>2005</td>\n",
       "      <td>4</td>\n",
       "      <td>FORD</td>\n",
       "      <td>FOCUS</td>\n",
       "      <td>ZX3</td>\n",
       "      <td>2D COUPE ZX3</td>\n",
       "      <td>...</td>\n",
       "      <td>6739.0</td>\n",
       "      <td>7911.0</td>\n",
       "      <td>NaN</td>\n",
       "      <td>NaN</td>\n",
       "      <td>19638</td>\n",
       "      <td>33619</td>\n",
       "      <td>FL</td>\n",
       "      <td>4000.0</td>\n",
       "      <td>0</td>\n",
       "      <td>1020</td>\n",
       "    </tr>\n",
       "  </tbody>\n",
       "</table>\n",
       "<p>5 rows × 34 columns</p>\n",
       "</div>"
      ],
      "text/plain": [
       "   RefId  IsBadBuy  PurchDate Auction  VehYear  VehicleAge   Make  \\\n",
       "0      1         0  12/7/2009   ADESA     2006           3  MAZDA   \n",
       "1      2         0  12/7/2009   ADESA     2004           5  DODGE   \n",
       "2      3         0  12/7/2009   ADESA     2005           4  DODGE   \n",
       "3      4         0  12/7/2009   ADESA     2004           5  DODGE   \n",
       "4      5         0  12/7/2009   ADESA     2005           4   FORD   \n",
       "\n",
       "                 Model Trim           SubModel  ...  \\\n",
       "0               MAZDA3    i         4D SEDAN I  ...   \n",
       "1  1500 RAM PICKUP 2WD   ST  QUAD CAB 4.7L SLT  ...   \n",
       "2           STRATUS V6  SXT   4D SEDAN SXT FFV  ...   \n",
       "3                 NEON  SXT           4D SEDAN  ...   \n",
       "4                FOCUS  ZX3       2D COUPE ZX3  ...   \n",
       "\n",
       "  MMRCurrentRetailAveragePrice MMRCurrentRetailCleanPrice  PRIMEUNIT AUCGUART  \\\n",
       "0                      11597.0                    12409.0        NaN      NaN   \n",
       "1                      11374.0                    12791.0        NaN      NaN   \n",
       "2                       7146.0                     8702.0        NaN      NaN   \n",
       "3                       4375.0                     5518.0        NaN      NaN   \n",
       "4                       6739.0                     7911.0        NaN      NaN   \n",
       "\n",
       "   BYRNO VNZIP1 VNST VehBCost  IsOnlineSale  WarrantyCost  \n",
       "0  21973  33619   FL   7100.0             0          1113  \n",
       "1  19638  33619   FL   7600.0             0          1053  \n",
       "2  19638  33619   FL   4900.0             0          1389  \n",
       "3  19638  33619   FL   4100.0             0           630  \n",
       "4  19638  33619   FL   4000.0             0          1020  \n",
       "\n",
       "[5 rows x 34 columns]"
      ]
     },
     "execution_count": 2,
     "metadata": {},
     "output_type": "execute_result"
    }
   ],
   "source": [
    "### READ DATA ###\n",
    "\n",
    "df = pd.read_csv('car_lemon.csv.zip')\n",
    "\n",
    "print(df.shape)\n",
    "df.head()"
   ]
  },
  {
   "cell_type": "code",
   "execution_count": 3,
   "metadata": {},
   "outputs": [
    {
     "data": {
      "text/plain": [
       "<matplotlib.axes._subplots.AxesSubplot at 0x24664d50bc8>"
      ]
     },
     "execution_count": 3,
     "metadata": {},
     "output_type": "execute_result"
    },
    {
     "data": {
      "image/png": "[encoded data removed]",
      "text/plain": [
       "<Figure size 432x288 with 1 Axes>"
      ]
     },
     "metadata": {},
     "output_type": "display_data"
    }
   ],
   "source": [
    "### LABEL DISTRIBUTION ###\n",
    "\n",
    "df.IsBadBuy.value_counts().plot.pie()"
   ]
  },
  {
   "cell_type": "code",
   "execution_count": 4,
   "metadata": {},
   "outputs": [],
   "source": [
    "### ENCODE LABELS ###\n",
    "\n",
    "label = pd.get_dummies(df.IsBadBuy).values\n",
    "\n",
    "df.drop(['RefId','IsBadBuy','PurchDate'], inplace=True, axis=1)"
   ]
  },
  {
   "cell_type": "code",
   "execution_count": 5,
   "metadata": {},
   "outputs": [],
   "source": [
    "### ADJUST DATA AND SEPARATE NUMERICAL FROM CATEGORICAL VARIABLES ###\n",
    "\n",
    "cat_ = {}\n",
    "num_ = {}\n",
    "nans = df.isna().sum() / len(df)\n",
    "\n",
    "for col in df.columns:\n",
    "    \n",
    "    if nans[col] > 0:\n",
    "        \n",
    "        if (df.dtypes[col] == float) or (df.dtypes[col] == int):\n",
    "            \n",
    "            df[col].fillna(df[col].median(), inplace=True)\n",
    "            num_[col] = df[col].std()\n",
    "            \n",
    "        else:\n",
    "            \n",
    "            df[col].fillna('unknown', inplace=True)\n",
    "            \n",
    "            encoder = LabelEncoder()\n",
    "            df[col] = encoder.fit_transform(df[col])\n",
    "            cat_[col] = df[col].max()"
   ]
  },
  {
   "cell_type": "code",
   "execution_count": 6,
   "metadata": {},
   "outputs": [
    {
     "data": {
      "image/png": "[encoded data removed]",
      "text/plain": [
       "<Figure size 1152x360 with 2 Axes>"
      ]
     },
     "metadata": {
      "needs_background": "light"
     },
     "output_type": "display_data"
    }
   ],
   "source": [
    "### PLOT DESCRIPTIVE STATISTICS OF DATASET ###\n",
    "\n",
    "plt.figure(figsize=(16, 5))\n",
    "\n",
    "plt.subplot(121)\n",
    "plt.bar(range(len(cat_)), cat_.values())\n",
    "plt.xticks(range(len(cat_)), cat_.keys(), rotation=90)\n",
    "plt.ylabel('count'); plt.title('categorical variables')\n",
    "\n",
    "plt.subplot(122)\n",
    "plt.bar(range(len(num_)), num_.values())\n",
    "plt.xticks(range(len(num_)), num_.keys(), rotation=90)\n",
    "plt.ylabel('std'); plt.title('numerical variables')\n",
    "\n",
    "np.set_printoptions(False)"
   ]
  },
  {
   "cell_type": "code",
   "execution_count": 7,
   "metadata": {},
   "outputs": [
    {
     "name": "stdout",
     "output_type": "stream",
     "text": [
      "(43789, 31) (14597, 31) (14597, 31)\n",
      "(43789, 2) (14597, 2) (14597, 2)\n"
     ]
    }
   ],
   "source": [
    "### TRAIN, VALIDATION, TEST SPLIT ###\n",
    "\n",
    "X_train, X_test, y_train, y_test = train_test_split(df, label, test_size=0.4, random_state=33)\n",
    "X_valid, X_test, y_valid, y_test = train_test_split(X_test, y_test, test_size=0.5, random_state=33)\n",
    "\n",
    "print(X_train.shape, X_valid.shape, X_test.shape)\n",
    "print(y_train.shape, y_valid.shape, y_test.shape)"
   ]
  },
  {
   "cell_type": "code",
   "execution_count": 8,
   "metadata": {},
   "outputs": [],
   "source": [
    "def set_seed(seed):\n",
    "    \n",
    "    tf.random.set_seed(seed)\n",
    "    os.environ['PYTHONHASHSEED'] = str(seed)\n",
    "    np.random.seed(seed)\n",
    "    random.seed(seed)\n",
    "\n",
    "\n",
    "def get_model(cat_feat, emb_dim=8):\n",
    "    \n",
    "    set_seed(33)\n",
    "    \n",
    "    def get_embed(inp, size, emb_dim, name):\n",
    "\n",
    "        emb = Embedding(size, emb_dim)(inp)\n",
    "        emb = Flatten(name=name)(emb)\n",
    "\n",
    "        return emb\n",
    "    \n",
    "    inp_dense = Input(shape=len(num_))\n",
    "    \n",
    "    embs, inps = [], [inp_dense]\n",
    "    \n",
    "    x = Dense(128, activation='relu')(inp_dense)\n",
    "    \n",
    "    for f in cat_feat:\n",
    "        inp = Input((1,), name=f+'_inp')\n",
    "        embs.append(get_embed(inp, cat_[f]+1, emb_dim, f))\n",
    "        inps.append(inp)\n",
    "        \n",
    "    x = Concatenate()([x]+embs)\n",
    "    x = BatchNormalization()(x)\n",
    "    x = Dropout(0.3)(x)\n",
    "    x = Dense(64, activation='relu')(x)\n",
    "    x = Dropout(0.3)(x)\n",
    "    x = Dense(32, activation='relu')(x)\n",
    "    \n",
    "    logits = Dense(2, name='logits')(x)\n",
    "    out = Activation('softmax')(logits)\n",
    "    \n",
    "    model = Model(inps, out)\n",
    "    model.compile(optimizer='adam', loss ='categorical_crossentropy', \n",
    "                  metrics=[tf.keras.metrics.AUC()])\n",
    "    \n",
    "    return model"
   ]
  },
  {
   "cell_type": "code",
   "execution_count": 9,
   "metadata": {
    "scrolled": true
   },
   "outputs": [
    {
     "name": "stdout",
     "output_type": "stream",
     "text": [
      "Model: \"model\"\n",
      "__________________________________________________________________________________________________\n",
      "Layer (type)                    Output Shape         Param #     Connected to                     \n",
      "==================================================================================================\n",
      "Trim_inp (InputLayer)           [(None, 1)]          0                                            \n",
      "__________________________________________________________________________________________________\n",
      "SubModel_inp (InputLayer)       [(None, 1)]          0                                            \n",
      "__________________________________________________________________________________________________\n",
      "Color_inp (InputLayer)          [(None, 1)]          0                                            \n",
      "__________________________________________________________________________________________________\n",
      "Transmission_inp (InputLayer)   [(None, 1)]          0                                            \n",
      "__________________________________________________________________________________________________\n",
      "WheelType_inp (InputLayer)      [(None, 1)]          0                                            \n",
      "__________________________________________________________________________________________________\n",
      "Nationality_inp (InputLayer)    [(None, 1)]          0                                            \n",
      "__________________________________________________________________________________________________\n",
      "Size_inp (InputLayer)           [(None, 1)]          0                                            \n",
      "__________________________________________________________________________________________________\n",
      "TopThreeAmericanName_inp (Input [(None, 1)]          0                                            \n",
      "__________________________________________________________________________________________________\n",
      "PRIMEUNIT_inp (InputLayer)      [(None, 1)]          0                                            \n",
      "__________________________________________________________________________________________________\n",
      "AUCGUART_inp (InputLayer)       [(None, 1)]          0                                            \n",
      "__________________________________________________________________________________________________\n",
      "input_1 (InputLayer)            [(None, 9)]          0                                            \n",
      "__________________________________________________________________________________________________\n",
      "embedding (Embedding)           (None, 1, 8)         1080        Trim_inp[0][0]                   \n",
      "__________________________________________________________________________________________________\n",
      "embedding_1 (Embedding)         (None, 1, 8)         6912        SubModel_inp[0][0]               \n",
      "__________________________________________________________________________________________________\n",
      "embedding_2 (Embedding)         (None, 1, 8)         136         Color_inp[0][0]                  \n",
      "__________________________________________________________________________________________________\n",
      "embedding_3 (Embedding)         (None, 1, 8)         32          Transmission_inp[0][0]           \n",
      "__________________________________________________________________________________________________\n",
      "embedding_4 (Embedding)         (None, 1, 8)         32          WheelType_inp[0][0]              \n",
      "__________________________________________________________________________________________________\n",
      "embedding_5 (Embedding)         (None, 1, 8)         40          Nationality_inp[0][0]            \n",
      "__________________________________________________________________________________________________\n",
      "embedding_6 (Embedding)         (None, 1, 8)         104         Size_inp[0][0]                   \n",
      "__________________________________________________________________________________________________\n",
      "embedding_7 (Embedding)         (None, 1, 8)         40          TopThreeAmericanName_inp[0][0]   \n",
      "__________________________________________________________________________________________________\n",
      "embedding_8 (Embedding)         (None, 1, 8)         24          PRIMEUNIT_inp[0][0]              \n",
      "__________________________________________________________________________________________________\n",
      "embedding_9 (Embedding)         (None, 1, 8)         24          AUCGUART_inp[0][0]               \n",
      "__________________________________________________________________________________________________\n",
      "dense (Dense)                   (None, 128)          1280        input_1[0][0]                    \n",
      "__________________________________________________________________________________________________\n",
      "Trim (Flatten)                  (None, 8)            0           embedding[0][0]                  \n",
      "__________________________________________________________________________________________________\n",
      "SubModel (Flatten)              (None, 8)            0           embedding_1[0][0]                \n",
      "__________________________________________________________________________________________________\n",
      "Color (Flatten)                 (None, 8)            0           embedding_2[0][0]                \n",
      "__________________________________________________________________________________________________\n",
      "Transmission (Flatten)          (None, 8)            0           embedding_3[0][0]                \n",
      "__________________________________________________________________________________________________\n",
      "WheelType (Flatten)             (None, 8)            0           embedding_4[0][0]                \n",
      "__________________________________________________________________________________________________\n",
      "Nationality (Flatten)           (None, 8)            0           embedding_5[0][0]                \n",
      "__________________________________________________________________________________________________\n",
      "Size (Flatten)                  (None, 8)            0           embedding_6[0][0]                \n",
      "__________________________________________________________________________________________________\n",
      "TopThreeAmericanName (Flatten)  (None, 8)            0           embedding_7[0][0]                \n",
      "__________________________________________________________________________________________________\n",
      "PRIMEUNIT (Flatten)             (None, 8)            0           embedding_8[0][0]                \n",
      "__________________________________________________________________________________________________\n",
      "AUCGUART (Flatten)              (None, 8)            0           embedding_9[0][0]                \n",
      "__________________________________________________________________________________________________\n",
      "concatenate (Concatenate)       (None, 208)          0           dense[0][0]                      \n",
      "                                                                 Trim[0][0]                       \n",
      "                                                                 SubModel[0][0]                   \n",
      "                                                                 Color[0][0]                      \n",
      "                                                                 Transmission[0][0]               \n",
      "                                                                 WheelType[0][0]                  \n",
      "                                                                 Nationality[0][0]                \n",
      "                                                                 Size[0][0]                       \n",
      "                                                                 TopThreeAmericanName[0][0]       \n",
      "                                                                 PRIMEUNIT[0][0]                  \n",
      "                                                                 AUCGUART[0][0]                   \n",
      "__________________________________________________________________________________________________\n",
      "batch_normalization (BatchNorma (None, 208)          832         concatenate[0][0]                \n",
      "__________________________________________________________________________________________________\n",
      "dropout (Dropout)               (None, 208)          0           batch_normalization[0][0]        \n",
      "__________________________________________________________________________________________________\n",
      "dense_1 (Dense)                 (None, 64)           13376       dropout[0][0]                    \n",
      "__________________________________________________________________________________________________\n",
      "dropout_1 (Dropout)             (None, 64)           0           dense_1[0][0]                    \n",
      "__________________________________________________________________________________________________\n",
      "dense_2 (Dense)                 (None, 32)           2080        dropout_1[0][0]                  \n",
      "__________________________________________________________________________________________________\n",
      "logits (Dense)                  (None, 2)            66          dense_2[0][0]                    \n",
      "__________________________________________________________________________________________________\n",
      "activation (Activation)         (None, 2)            0           logits[0][0]                     \n",
      "==================================================================================================\n",
      "Total params: 26,058\n",
      "Trainable params: 25,642\n",
      "Non-trainable params: 416\n",
      "__________________________________________________________________________________________________\n"
     ]
    }
   ],
   "source": [
    "model = get_model(list(cat_.keys()), emb_dim=8)\n",
    "model.summary()"
   ]
  },
  {
   "cell_type": "code",
   "execution_count": 10,
   "metadata": {},
   "outputs": [],
   "source": [
    "### SCALE NUMERICA FEATURES ###\n",
    "\n",
    "scaler = StandardScaler()\n",
    "X_train_dense = scaler.fit_transform(X_train[num_.keys()])\n",
    "X_valid_dense = scaler.transform(X_valid[num_.keys()])\n",
    "X_test_dense = scaler.transform(X_test[num_.keys()])"
   ]
  },
  {
   "cell_type": "code",
   "execution_count": 11,
   "metadata": {},
   "outputs": [
    {
     "name": "stdout",
     "output_type": "stream",
     "text": [
      "Train on 43789 samples, validate on 14597 samples\n",
      "Epoch 1/30\n",
      "43789/43789 [==============================] - 4s 82us/sample - loss: 0.3687 - auc_1: 0.9102 - val_loss: 0.3673 - val_auc_1: 0.9214\n",
      "Epoch 2/30\n",
      "43789/43789 [==============================] - 2s 37us/sample - loss: 0.3269 - auc_1: 0.9245 - val_loss: 0.3362 - val_auc_1: 0.9265\n",
      "Epoch 3/30\n",
      "43789/43789 [==============================] - 2s 36us/sample - loss: 0.3191 - auc_1: 0.9278 - val_loss: 0.3223 - val_auc_1: 0.9279\n",
      "Epoch 4/30\n",
      "43789/43789 [==============================] - 2s 37us/sample - loss: 0.3142 - auc_1: 0.9303 - val_loss: 0.3199 - val_auc_1: 0.9289\n",
      "Epoch 5/30\n",
      "43789/43789 [==============================] - 2s 35us/sample - loss: 0.3124 - auc_1: 0.9314 - val_loss: 0.3240 - val_auc_1: 0.9257\n",
      "Epoch 6/30\n",
      "43789/43789 [==============================] - 2s 35us/sample - loss: 0.3106 - auc_1: 0.9322 - val_loss: 0.3188 - val_auc_1: 0.9290\n",
      "Epoch 7/30\n",
      "43789/43789 [==============================] - 1s 33us/sample - loss: 0.3079 - auc_1: 0.9337 - val_loss: 0.3210 - val_auc_1: 0.9283\n",
      "Epoch 8/30\n",
      "43789/43789 [==============================] - 2s 35us/sample - loss: 0.3065 - auc_1: 0.9342 - val_loss: 0.3182 - val_auc_1: 0.9284\n",
      "Epoch 9/30\n",
      "43789/43789 [==============================] - 2s 36us/sample - loss: 0.3031 - auc_1: 0.9359 - val_loss: 0.3190 - val_auc_1: 0.9280\n",
      "Epoch 10/30\n",
      "43789/43789 [==============================] - 2s 37us/sample - loss: 0.3029 - auc_1: 0.9357 - val_loss: 0.3180 - val_auc_1: 0.9288\n",
      "Epoch 11/30\n",
      "43789/43789 [==============================] - 2s 37us/sample - loss: 0.3016 - auc_1: 0.9364 - val_loss: 0.3182 - val_auc_1: 0.9285\n",
      "Epoch 12/30\n",
      "43789/43789 [==============================] - 2s 35us/sample - loss: 0.3010 - auc_1: 0.9367 - val_loss: 0.3179 - val_auc_1: 0.9289\n",
      "Epoch 13/30\n",
      "43789/43789 [==============================] - 1s 34us/sample - loss: 0.2997 - auc_1: 0.9374 - val_loss: 0.3189 - val_auc_1: 0.9278\n",
      "Epoch 14/30\n",
      "43789/43789 [==============================] - 2s 35us/sample - loss: 0.2984 - auc_1: 0.9380 - val_loss: 0.3196 - val_auc_1: 0.9282\n",
      "Epoch 15/30\n",
      "43789/43789 [==============================] - 1s 34us/sample - loss: 0.2984 - auc_1: 0.9378 - val_loss: 0.3203 - val_auc_1: 0.9285\n",
      "Epoch 16/30\n",
      "42880/43789 [============================>.] - ETA: 0s - loss: 0.2965 - auc_1: 0.9384Restoring model weights from the end of the best epoch.\n",
      "43789/43789 [==============================] - 1s 34us/sample - loss: 0.2977 - auc_1: 0.9379 - val_loss: 0.3209 - val_auc_1: 0.9279\n",
      "Epoch 00016: early stopping\n"
     ]
    },
    {
     "data": {
      "text/plain": [
       "<tensorflow.python.keras.callbacks.History at 0x24667fca588>"
      ]
     },
     "execution_count": 11,
     "metadata": {},
     "output_type": "execute_result"
    }
   ],
   "source": [
    "es = EarlyStopping(patience=10, verbose=1, min_delta=0.001, monitor='val_loss', mode='auto', restore_best_weights=True)\n",
    "\n",
    "model = get_model(list(cat_.keys()), emb_dim=8)\n",
    "model.fit([X_train_dense]+[X_train[f].values for f in cat_.keys()], y_train, epochs=30, batch_size=128,\n",
    "          verbose=1, callbacks=[es], validation_data=([X_valid_dense]+[X_valid[f].values for f in cat_.keys()], y_valid))"
   ]
  },
  {
   "cell_type": "code",
   "execution_count": 12,
   "metadata": {},
   "outputs": [],
   "source": [
    "### PREDICT TEST DATA ###\n",
    "\n",
    "pred_test = model.predict([X_test_dense]+[X_test[f].values for f in cat_.keys()])"
   ]
  },
  {
   "cell_type": "code",
   "execution_count": 13,
   "metadata": {},
   "outputs": [
    {
     "data": {
      "text/plain": [
       "0.8747687881071453"
      ]
     },
     "execution_count": 13,
     "metadata": {},
     "output_type": "execute_result"
    }
   ],
   "source": [
    "### ACCURACY DUMMY CLASSIFIER: ALWAYS GOOD DEAL ###\n",
    "\n",
    "y_test[:,0].sum()/len(y_test)"
   ]
  },
  {
   "cell_type": "code",
   "execution_count": 14,
   "metadata": {},
   "outputs": [
    {
     "name": "stdout",
     "output_type": "stream",
     "text": [
      "              precision    recall  f1-score   support\n",
      "\n",
      "           0       0.90      0.99      0.94     12769\n",
      "           1       0.79      0.26      0.39      1828\n",
      "\n",
      "    accuracy                           0.90     14597\n",
      "   macro avg       0.85      0.62      0.67     14597\n",
      "weighted avg       0.89      0.90      0.88     14597\n",
      "\n"
     ]
    }
   ],
   "source": [
    "print(classification_report(np.argmax(y_test, axis=1), np.argmax(pred_test, axis=1)))"
   ]
  },
  {
   "cell_type": "code",
   "execution_count": 15,
   "metadata": {},
   "outputs": [],
   "source": [
    "### CALCULATE RELIABILITY DIAGRAM ON TEST ###\n",
    "\n",
    "acc_before = {}\n",
    "prob_before = {}\n",
    "\n",
    "for i in range(y_test.shape[1]):\n",
    "    \n",
    "    acc_before[i], prob_before[i] = calibration_curve(y_prob=pred_test[:, i], y_true=y_test[:, i], \n",
    "                                                      n_bins=10, normalize=True)"
   ]
  },
  {
   "cell_type": "code",
   "execution_count": 16,
   "metadata": {},
   "outputs": [
    {
     "data": {
      "text/plain": [
       "Text(0.5, 0, 'probabilities')"
      ]
     },
     "execution_count": 16,
     "metadata": {},
     "output_type": "execute_result"
    },
    {
     "data": {
      "image/png": "[encoded data removed]",
      "text/plain": [
       "<Figure size 1152x360 with 2 Axes>"
      ]
     },
     "metadata": {
      "needs_background": "light"
     },
     "output_type": "display_data"
    }
   ],
   "source": [
    "### PLOT RELIABILITY DIAGRAM ###\n",
    "\n",
    "plt.figure(figsize=(16,5))\n",
    "\n",
    "plt.subplot(121)\n",
    "plt.plot([0, 1], [0, 1], linestyle='--')\n",
    "plt.plot(acc_before[0], prob_before[0], marker='.', label='before calibration')\n",
    "plt.legend(); plt.title('GoodBuy'); plt.ylabel('fraction of positive'); plt.xlabel('probabilities')\n",
    "\n",
    "plt.subplot(122)\n",
    "plt.plot([0, 1], [0, 1], linestyle='--')\n",
    "plt.plot(acc_before[1], prob_before[1], marker='.', label='before calibration')\n",
    "plt.legend(); plt.title('BadBuy'); plt.ylabel('fraction of positive'); plt.xlabel('probabilities')"
   ]
  },
  {
   "cell_type": "code",
   "execution_count": 17,
   "metadata": {},
   "outputs": [],
   "source": [
    "### DEFINE ECE SCORE UTILITY FUNCTION ###\n",
    "\n",
    "def ece_score(probabilities, accuracy, confidence):   \n",
    "    \n",
    "    n_bins = len(accuracy) \n",
    "    n = len(probabilities) \n",
    "    h = np.histogram(a=probabilities, range=(0, 1), bins=n_bins)[0]  \n",
    "    \n",
    "    ece = 0\n",
    "    for m in np.arange(n_bins):\n",
    "        ece = ece + (h[m] / n) * np.abs(accuracy[m] - confidence[m])\n",
    "        \n",
    "    return ece"
   ]
  },
  {
   "cell_type": "code",
   "execution_count": 18,
   "metadata": {},
   "outputs": [
    {
     "data": {
      "text/plain": [
       "0.028918922450637662"
      ]
     },
     "execution_count": 18,
     "metadata": {},
     "output_type": "execute_result"
    }
   ],
   "source": [
    "### ECE SCORE FOR GOOD BUY ###\n",
    "\n",
    "ece_score(pred_test[:,0], acc_before[0], prob_before[0])"
   ]
  },
  {
   "cell_type": "code",
   "execution_count": 19,
   "metadata": {},
   "outputs": [
    {
     "data": {
      "text/plain": [
       "0.028918907093476755"
      ]
     },
     "execution_count": 19,
     "metadata": {},
     "output_type": "execute_result"
    }
   ],
   "source": [
    "### ECE SCORE FOR BAD BUY ###\n",
    "\n",
    "ece_score(pred_test[:,1], acc_before[1], prob_before[1])"
   ]
  },
  {
   "cell_type": "markdown",
   "metadata": {},
   "source": [
    "# NEURAL NETWORK CALIBRATION"
   ]
  },
  {
   "cell_type": "code",
   "execution_count": 20,
   "metadata": {},
   "outputs": [],
   "source": [
    "### DEFINE UTILITY FUNCTIONS FOR FITTING TEMPERATURE SCALING AND CALIBRATE PROBABILITIES ###\n",
    "\n",
    "def fit_TemperatureCalibration(train_X_y, valid_X_y=None, epochs=100):\n",
    "    \n",
    "    ### inspired by: https://github.com/stellargraph/stellargraph/blob/develop/stellargraph/calibration.py ###\n",
    "    \n",
    "    T = tf.Variable(tf.ones(shape=(1,)))\n",
    "    history = []\n",
    "    early_stopping = False\n",
    "    optimizer = Adam(learning_rate=0.001)\n",
    "    \n",
    "    def cost(T, x, y):\n",
    "\n",
    "        scaled_logits = tf.multiply(x=x, y=1.0 / T)\n",
    "\n",
    "        cost_value = tf.reduce_mean(\n",
    "            tf.nn.softmax_cross_entropy_with_logits(logits=scaled_logits, labels=y)\n",
    "        )\n",
    "\n",
    "        return cost_value\n",
    "\n",
    "    def grad(T, x, y):\n",
    "\n",
    "        with tf.GradientTape() as tape:\n",
    "            cost_value = cost(T, x, y)\n",
    "\n",
    "        return cost_value, tape.gradient(cost_value, T)\n",
    "    \n",
    "    \n",
    "    X_train, y_train = train_X_y\n",
    "    if valid_X_y:\n",
    "        X_valid, y_valid = valid_X_y\n",
    "        early_stopping = True\n",
    "    \n",
    "    \n",
    "    for epoch in range(epochs):\n",
    "        train_cost, grads = grad(T, X_train, y_train)\n",
    "        optimizer.apply_gradients(zip([grads], [T]))\n",
    "        if early_stopping:\n",
    "            val_cost = cost(T, X_valid, y_valid)\n",
    "            if (len(history) > 0) and (val_cost > history[-1][1]):\n",
    "                break\n",
    "            else: \n",
    "                history.append([train_cost, val_cost, T.numpy()[0]])\n",
    "        else:\n",
    "            history.append([train_cost, T.numpy()[0]])\n",
    "\n",
    "    history = np.asarray(history)\n",
    "    temperature = history[-1, -1]\n",
    "    \n",
    "    return temperature\n",
    "\n",
    "\n",
    "def calibrated_proba(logits, temperature):\n",
    "    \n",
    "    scaled_prediction = logits / temperature\n",
    "\n",
    "    return np.exp(scaled_prediction) / np.sum(np.exp(scaled_prediction), axis=-1, keepdims=True)"
   ]
  },
  {
   "cell_type": "code",
   "execution_count": 21,
   "metadata": {},
   "outputs": [
    {
     "name": "stdout",
     "output_type": "stream",
     "text": [
      "(11677, 31) (2920, 31)\n",
      "(11677, 2) (2920, 2)\n"
     ]
    }
   ],
   "source": [
    "### SPLIT VALIDATION IN TRAIN AND TEST FOR CALIBRATION ###\n",
    "\n",
    "X_train_calib, X_valid_calib, y_train_calib, y_valid_calib = train_test_split(X_valid, y_valid, test_size=0.2, random_state=33)\n",
    "\n",
    "print(X_train_calib.shape, X_valid_calib.shape)\n",
    "print(y_train_calib.shape, y_valid_calib.shape)"
   ]
  },
  {
   "cell_type": "code",
   "execution_count": 22,
   "metadata": {},
   "outputs": [],
   "source": [
    "### STANDARDIZE DATA FOR CALIBRATION ###\n",
    "\n",
    "X_train_calib_dense = scaler.transform(X_train_calib[num_.keys()])\n",
    "X_valid_calib_dense = scaler.transform(X_valid_calib[num_.keys()])"
   ]
  },
  {
   "cell_type": "code",
   "execution_count": 23,
   "metadata": {},
   "outputs": [],
   "source": [
    "### BUILD LOGITS EXTRACTOR ###\n",
    "\n",
    "model_score = Model(model.input, model.get_layer('logits').output)"
   ]
  },
  {
   "cell_type": "code",
   "execution_count": 24,
   "metadata": {},
   "outputs": [
    {
     "name": "stdout",
     "output_type": "stream",
     "text": [
      "(11677, 2) (2920, 2)\n"
     ]
    }
   ],
   "source": [
    "### EXTRACT LOGITS ###\n",
    "\n",
    "X_train_calib = model_score.predict([X_train_calib_dense]+[X_train_calib[f].values for f in cat_.keys()])\n",
    "X_valid_calib = model_score.predict([X_valid_calib_dense]+[X_valid_calib[f].values for f in cat_.keys()])\n",
    "\n",
    "print(X_train_calib.shape, X_valid_calib.shape)"
   ]
  },
  {
   "cell_type": "code",
   "execution_count": 25,
   "metadata": {},
   "outputs": [
    {
     "data": {
      "text/plain": [
       "0.9335861"
      ]
     },
     "execution_count": 25,
     "metadata": {},
     "output_type": "execute_result"
    }
   ],
   "source": [
    "### FIT TEMPERATURE SCALING ON VALIDATION ###\n",
    "\n",
    "temperature = fit_TemperatureCalibration((X_train_calib,y_train_calib), (X_valid_calib,y_valid_calib), epochs=100)\n",
    "temperature"
   ]
  },
  {
   "cell_type": "code",
   "execution_count": 26,
   "metadata": {},
   "outputs": [],
   "source": [
    "### PREDICT AND SCALE PROBABILITIES ON TEST ###\n",
    "\n",
    "X_test_logits = model_score.predict([X_test_dense]+[X_test[f].values for f in cat_.keys()])\n",
    "\n",
    "X_test_calib = calibrated_proba(X_test_logits, temperature)"
   ]
  },
  {
   "cell_type": "code",
   "execution_count": 27,
   "metadata": {},
   "outputs": [],
   "source": [
    "### CALCULATE RELIABILITY DIAGRAM ON TEST ###\n",
    "\n",
    "acc_after = {}\n",
    "prob_after = {}\n",
    "\n",
    "for i in range(y_test.shape[1]):\n",
    "    \n",
    "    acc_after[i], prob_after[i] = calibration_curve(y_prob=X_test_calib[:, i], y_true=y_test[:, i], \n",
    "                                                    n_bins=10, normalize=True)"
   ]
  },
  {
   "cell_type": "code",
   "execution_count": 28,
   "metadata": {},
   "outputs": [
    {
     "data": {
      "text/plain": [
       "Text(0.5, 0, 'probabilities')"
      ]
     },
     "execution_count": 28,
     "metadata": {},
     "output_type": "execute_result"
    },
    {
     "data": {
      "image/png": "[encoded data removed]",
      "text/plain": [
       "<Figure size 1152x360 with 2 Axes>"
      ]
     },
     "metadata": {
      "needs_background": "light"
     },
     "output_type": "display_data"
    }
   ],
   "source": [
    "### PLOT RELIABILITY DIAGRAM ###\n",
    "\n",
    "plt.figure(figsize=(16,5))\n",
    "\n",
    "plt.subplot(121)\n",
    "plt.plot([0, 1], [0, 1], linestyle='--')\n",
    "plt.plot(acc_before[0], prob_before[0], marker='.', label='before calibration')\n",
    "plt.plot(acc_after[0], prob_after[0], marker='.', label='after calibration')\n",
    "plt.legend(); plt.title('GoodBuy'); plt.ylabel('fraction of positive'); plt.xlabel('probabilities')\n",
    "\n",
    "plt.subplot(122)\n",
    "plt.plot([0, 1], [0, 1], linestyle='--')\n",
    "plt.plot(acc_before[1], prob_before[1], marker='.', label='before calibration')\n",
    "plt.plot(acc_after[1], prob_after[1], marker='.', label='after calibration')\n",
    "plt.legend(); plt.title('BadBuy'); plt.ylabel('fraction of positive'); plt.xlabel('probabilities')"
   ]
  },
  {
   "cell_type": "code",
   "execution_count": 29,
   "metadata": {},
   "outputs": [
    {
     "data": {
      "text/plain": [
       "0.01921789725821237"
      ]
     },
     "execution_count": 29,
     "metadata": {},
     "output_type": "execute_result"
    }
   ],
   "source": [
    "### ECE SCORE FOR GOOD BUY AFTER CALIBRATION ###\n",
    "\n",
    "ece_score(X_test_calib[:,0], acc_after[0], prob_after[0])"
   ]
  },
  {
   "cell_type": "code",
   "execution_count": 30,
   "metadata": {},
   "outputs": [
    {
     "data": {
      "text/plain": [
       "0.019217889678130082"
      ]
     },
     "execution_count": 30,
     "metadata": {},
     "output_type": "execute_result"
    }
   ],
   "source": [
    "### ECE SCORE FOR BAD BUY AFTER CALIBRATION ###\n",
    "\n",
    "ece_score(X_test_calib[:,1], acc_after[1], prob_after[1])"
   ]
  }
 ],
 "metadata": {
  "kernelspec": {
   "display_name": "Python 3",
   "language": "python",
   "name": "python3"
  },
  "language_info": {
   "codemirror_mode": {
    "name": "ipython",
    "version": 3
   },
   "file_extension": ".py",
   "mimetype": "text/x-python",
   "name": "python",
   "nbconvert_exporter": "python",
   "pygments_lexer": "ipython3",
   "version": "3.6.6"
  }
 },
 "nbformat": 4,
 "nbformat_minor": 2
}
