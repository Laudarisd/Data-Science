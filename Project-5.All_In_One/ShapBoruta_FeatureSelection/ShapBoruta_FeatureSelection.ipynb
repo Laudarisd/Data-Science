{
 "cells": [
  {
   "cell_type": "code",
   "execution_count": 1,
   "metadata": {},
   "outputs": [],
   "source": [
    "import numpy as np\n",
    "import pandas as pd\n",
    "import matplotlib.pyplot as plt\n",
    "\n",
    "from sklearn.metrics import roc_auc_score\n",
    "from sklearn.model_selection import train_test_split\n",
    "\n",
    "from lightgbm import *\n",
    "from shaphypetune import BoostSearch, BoostBoruta, BoostRFE\n",
    "\n",
    "import warnings\n",
    "warnings.simplefilter('ignore')"
   ]
  },
  {
   "cell_type": "code",
   "execution_count": 2,
   "metadata": {},
   "outputs": [
    {
     "name": "stdout",
     "output_type": "stream",
     "text": [
      "(10000, 12)\n"
     ]
    },
    {
     "data": {
      "text/html": [
       "<div>\n",
       "<style scoped>\n",
       "    .dataframe tbody tr th:only-of-type {\n",
       "        vertical-align: middle;\n",
       "    }\n",
       "\n",
       "    .dataframe tbody tr th {\n",
       "        vertical-align: top;\n",
       "    }\n",
       "\n",
       "    .dataframe thead th {\n",
       "        text-align: right;\n",
       "    }\n",
       "</style>\n",
       "<table border=\"1\" class=\"dataframe\">\n",
       "  <thead>\n",
       "    <tr style=\"text-align: right;\">\n",
       "      <th></th>\n",
       "      <th>CustomerId</th>\n",
       "      <th>CreditScore</th>\n",
       "      <th>Geography</th>\n",
       "      <th>Gender</th>\n",
       "      <th>Age</th>\n",
       "      <th>Tenure</th>\n",
       "      <th>Balance</th>\n",
       "      <th>NumOfProducts</th>\n",
       "      <th>HasCrCard</th>\n",
       "      <th>IsActiveMember</th>\n",
       "      <th>EstimatedSalary</th>\n",
       "      <th>Exited</th>\n",
       "    </tr>\n",
       "    <tr>\n",
       "      <th>RowNumber</th>\n",
       "      <th></th>\n",
       "      <th></th>\n",
       "      <th></th>\n",
       "      <th></th>\n",
       "      <th></th>\n",
       "      <th></th>\n",
       "      <th></th>\n",
       "      <th></th>\n",
       "      <th></th>\n",
       "      <th></th>\n",
       "      <th></th>\n",
       "      <th></th>\n",
       "    </tr>\n",
       "  </thead>\n",
       "  <tbody>\n",
       "    <tr>\n",
       "      <td>1</td>\n",
       "      <td>15634602</td>\n",
       "      <td>619</td>\n",
       "      <td>France</td>\n",
       "      <td>Female</td>\n",
       "      <td>42</td>\n",
       "      <td>2</td>\n",
       "      <td>0.00</td>\n",
       "      <td>1</td>\n",
       "      <td>1</td>\n",
       "      <td>1</td>\n",
       "      <td>101348.88</td>\n",
       "      <td>1</td>\n",
       "    </tr>\n",
       "    <tr>\n",
       "      <td>2</td>\n",
       "      <td>15647311</td>\n",
       "      <td>608</td>\n",
       "      <td>Spain</td>\n",
       "      <td>Female</td>\n",
       "      <td>41</td>\n",
       "      <td>1</td>\n",
       "      <td>83807.86</td>\n",
       "      <td>1</td>\n",
       "      <td>0</td>\n",
       "      <td>1</td>\n",
       "      <td>112542.58</td>\n",
       "      <td>0</td>\n",
       "    </tr>\n",
       "    <tr>\n",
       "      <td>3</td>\n",
       "      <td>15619304</td>\n",
       "      <td>502</td>\n",
       "      <td>France</td>\n",
       "      <td>Female</td>\n",
       "      <td>42</td>\n",
       "      <td>8</td>\n",
       "      <td>159660.80</td>\n",
       "      <td>3</td>\n",
       "      <td>1</td>\n",
       "      <td>0</td>\n",
       "      <td>113931.57</td>\n",
       "      <td>1</td>\n",
       "    </tr>\n",
       "    <tr>\n",
       "      <td>4</td>\n",
       "      <td>15701354</td>\n",
       "      <td>699</td>\n",
       "      <td>France</td>\n",
       "      <td>Female</td>\n",
       "      <td>39</td>\n",
       "      <td>1</td>\n",
       "      <td>0.00</td>\n",
       "      <td>2</td>\n",
       "      <td>0</td>\n",
       "      <td>0</td>\n",
       "      <td>93826.63</td>\n",
       "      <td>0</td>\n",
       "    </tr>\n",
       "    <tr>\n",
       "      <td>5</td>\n",
       "      <td>15737888</td>\n",
       "      <td>850</td>\n",
       "      <td>Spain</td>\n",
       "      <td>Female</td>\n",
       "      <td>43</td>\n",
       "      <td>2</td>\n",
       "      <td>125510.82</td>\n",
       "      <td>1</td>\n",
       "      <td>1</td>\n",
       "      <td>1</td>\n",
       "      <td>79084.10</td>\n",
       "      <td>0</td>\n",
       "    </tr>\n",
       "  </tbody>\n",
       "</table>\n",
       "</div>"
      ],
      "text/plain": [
       "           CustomerId  CreditScore Geography  Gender  Age  Tenure    Balance  \\\n",
       "RowNumber                                                                      \n",
       "1            15634602          619    France  Female   42       2       0.00   \n",
       "2            15647311          608     Spain  Female   41       1   83807.86   \n",
       "3            15619304          502    France  Female   42       8  159660.80   \n",
       "4            15701354          699    France  Female   39       1       0.00   \n",
       "5            15737888          850     Spain  Female   43       2  125510.82   \n",
       "\n",
       "           NumOfProducts  HasCrCard  IsActiveMember  EstimatedSalary  Exited  \n",
       "RowNumber                                                                     \n",
       "1                      1          1               1        101348.88       1  \n",
       "2                      1          0               1        112542.58       0  \n",
       "3                      3          1               0        113931.57       1  \n",
       "4                      2          0               0         93826.63       0  \n",
       "5                      1          1               1         79084.10       0  "
      ]
     },
     "execution_count": 2,
     "metadata": {},
     "output_type": "execute_result"
    }
   ],
   "source": [
    "### READ DATA ###\n",
    "\n",
    "df = pd.read_csv(\"Churn Modeling.csv\", index_col='RowNumber')\n",
    "df.drop(['Surname'], axis=1, inplace=True)\n",
    "\n",
    "print(df.shape)\n",
    "df.head()"
   ]
  },
  {
   "cell_type": "code",
   "execution_count": 3,
   "metadata": {},
   "outputs": [],
   "source": [
    "### CONVERT CATEGORICAL COLUMNS ###\n",
    "\n",
    "cat_cols = list(df.head().select_dtypes(object).columns)\n",
    "df[cat_cols] = df[cat_cols].astype(\"category\")"
   ]
  },
  {
   "cell_type": "code",
   "execution_count": 4,
   "metadata": {},
   "outputs": [],
   "source": [
    "### ADD RANDOM ARTIFICIAL FEATURES ###\n",
    "\n",
    "np.random.seed(123)\n",
    "\n",
    "for c in range(1,6):\n",
    "    df[f\"RANDOM_{c}\"] = np.random.normal(0,5, (df.shape[0],1))"
   ]
  },
  {
   "cell_type": "code",
   "execution_count": 5,
   "metadata": {},
   "outputs": [],
   "source": [
    "### DEFINE TUNING VARIABLES ###\n",
    "\n",
    "param_grid = {\n",
    "    'n_estimators': 200,\n",
    "    'learning_rate': [0.3, 0.2, 0.1],\n",
    "    'num_leaves': [20, 25, 30]\n",
    "}\n",
    "\n",
    "\n",
    "def AUC(y_true, y_hat):\n",
    "    return 'auc', roc_auc_score(y_true, y_hat), True\n",
    "\n",
    "lgbm = LGBMClassifier(random_state=0, n_jobs=-1)\n",
    "\n",
    "n_trials = 10"
   ]
  },
  {
   "cell_type": "code",
   "execution_count": 6,
   "metadata": {},
   "outputs": [
    {
     "name": "stdout",
     "output_type": "stream",
     "text": [
      "----- TRIAL 1 -----\n",
      "----- TRIAL 2 -----\n",
      "----- TRIAL 3 -----\n",
      "----- TRIAL 4 -----\n",
      "----- TRIAL 5 -----\n",
      "----- TRIAL 6 -----\n",
      "----- TRIAL 7 -----\n",
      "----- TRIAL 8 -----\n",
      "----- TRIAL 9 -----\n",
      "----- TRIAL 10 -----\n"
     ]
    }
   ],
   "source": [
    "### TUNE PARAMETERS AND EXTRACT IMPORTANCES ###\n",
    "\n",
    "importances = np.zeros((df.shape[1]-1,))\n",
    "\n",
    "for i in range(n_trials):\n",
    "    \n",
    "    print(\"----- TRIAL {} -----\".format(i+1))\n",
    "\n",
    "    X_train, X_test, y_train, y_test = train_test_split(\n",
    "        df.drop(['Exited'], axis=1), df['Exited'], test_size=0.5, shuffle=True, random_state=i)\n",
    "\n",
    "    X_train, X_valid, y_train, y_valid = train_test_split(\n",
    "        X_train, y_train, test_size=0.2, shuffle=True, random_state=i)\n",
    "\n",
    "    model = BoostSearch(lgbm, param_grid=param_grid, greater_is_better=True, verbose=0)\n",
    "    model.fit(X_train, y_train, eval_set=[(X_valid, y_valid)], eval_metric=AUC, early_stopping_rounds=4, verbose=0)\n",
    "    \n",
    "    importances += model.estimator_.feature_importances_\n",
    "    \n",
    "importances /= n_trials"
   ]
  },
  {
   "cell_type": "code",
   "execution_count": 7,
   "metadata": {},
   "outputs": [
    {
     "data": {
      "image/png": "[encoded data removed]",
      "text/plain": [
       "<Figure size 576x432 with 1 Axes>"
      ]
     },
     "metadata": {
      "needs_background": "light"
     },
     "output_type": "display_data"
    }
   ],
   "source": [
    "### PLOT IMPORTANCES ###\n",
    "\n",
    "imp_id = np.argsort(importances)\n",
    "\n",
    "plt.figure(figsize=(8,6))\n",
    "plt.barh(range(len(importances)), importances[imp_id], \n",
    "         color=['red' if 'RANDOM' in c else 'blue' for c in X_train.columns[imp_id]])\n",
    "plt.yticks(range(len(importances)), X_train.columns[imp_id])\n",
    "plt.xlabel('importance')\n",
    "plt.show()"
   ]
  },
  {
   "cell_type": "code",
   "execution_count": 8,
   "metadata": {
    "scrolled": true
   },
   "outputs": [
    {
     "name": "stdout",
     "output_type": "stream",
     "text": [
      "----- TRIAL 1 -----\n",
      "----- TRIAL 2 -----\n",
      "----- TRIAL 3 -----\n",
      "----- TRIAL 4 -----\n",
      "----- TRIAL 5 -----\n",
      "----- TRIAL 6 -----\n",
      "----- TRIAL 7 -----\n",
      "----- TRIAL 8 -----\n",
      "----- TRIAL 9 -----\n",
      "----- TRIAL 10 -----\n"
     ]
    }
   ],
   "source": [
    "### TUNE PARAMETERS PLUS RFE AND EXTRACT SUPPORTS ###\n",
    "\n",
    "supports = np.zeros((df.shape[1]-1,))\n",
    "\n",
    "for i in range(n_trials):\n",
    "    \n",
    "    print(\"----- TRIAL {} -----\".format(i+1))\n",
    "\n",
    "    X_train, X_valid, y_train, y_valid = train_test_split(\n",
    "        df.drop(['Exited'], axis=1), df['Exited'], test_size=0.5, shuffle=True, random_state=i)\n",
    "\n",
    "    model = BoostRFE(lgbm, min_features_to_select=1, step=1, param_grid=param_grid, greater_is_better=True, verbose=0)\n",
    "    model.fit(X_train, y_train, eval_set=[(X_valid, y_valid)], eval_metric=AUC, early_stopping_rounds=5, verbose=0)\n",
    "\n",
    "    supports += model.support_.astype(int)"
   ]
  },
  {
   "cell_type": "code",
   "execution_count": 9,
   "metadata": {},
   "outputs": [
    {
     "data": {
      "image/png": "[encoded data removed]",
      "text/plain": [
       "<Figure size 576x432 with 1 Axes>"
      ]
     },
     "metadata": {
      "needs_background": "light"
     },
     "output_type": "display_data"
    }
   ],
   "source": [
    "### PLOT VARIABLE SUPPORTS OVER TRIALS ###\n",
    "\n",
    "plt.figure(figsize=(8,6))\n",
    "plt.barh(range(len(supports)), supports, \n",
    "         color=['red' if 'RANDOM' in c else 'blue' for c in X_train])\n",
    "plt.yticks(range(len(supports)), X_train.columns); plt.xlabel('trials')\n",
    "plt.title('how many times a feature is selected')\n",
    "plt.show()"
   ]
  },
  {
   "cell_type": "code",
   "execution_count": 10,
   "metadata": {
    "scrolled": true
   },
   "outputs": [
    {
     "name": "stdout",
     "output_type": "stream",
     "text": [
      "----- TRIAL 1 -----\n",
      "----- TRIAL 2 -----\n",
      "----- TRIAL 3 -----\n",
      "----- TRIAL 4 -----\n",
      "----- TRIAL 5 -----\n",
      "----- TRIAL 6 -----\n",
      "----- TRIAL 7 -----\n",
      "----- TRIAL 8 -----\n",
      "----- TRIAL 9 -----\n",
      "----- TRIAL 10 -----\n"
     ]
    }
   ],
   "source": [
    "### TUNE PARAMETERS PLUS BORUTA AND EXTRACT SUPPORTS ###\n",
    "\n",
    "supports = np.zeros((df.shape[1]-1,))\n",
    "\n",
    "for i in range(n_trials):\n",
    "    \n",
    "    print(\"----- TRIAL {} -----\".format(i+1))\n",
    "\n",
    "    X_train, X_valid, y_train, y_valid = train_test_split(\n",
    "        df.drop(['Exited'], axis=1), df['Exited'], test_size=0.5, shuffle=True, random_state=i)\n",
    "\n",
    "    model = BoostBoruta(lgbm, perc=100, alpha=0.05, max_iter=100, param_grid=param_grid, greater_is_better=True, verbose=0)\n",
    "    model.fit(X_train, y_train, eval_set=[(X_valid, y_valid)], eval_metric=AUC, early_stopping_rounds=5, verbose=0)\n",
    "\n",
    "    supports += model.support_.astype(int)"
   ]
  },
  {
   "cell_type": "code",
   "execution_count": 11,
   "metadata": {},
   "outputs": [
    {
     "data": {
      "image/png": "[encoded data removed]",
      "text/plain": [
       "<Figure size 576x432 with 1 Axes>"
      ]
     },
     "metadata": {
      "needs_background": "light"
     },
     "output_type": "display_data"
    }
   ],
   "source": [
    "### PLOT VARIABLE SUPPORTS OVER TRIALS ###\n",
    "\n",
    "plt.figure(figsize=(8,6))\n",
    "plt.barh(range(len(supports)), supports, \n",
    "         color=['red' if 'RANDOM' in c else 'blue' for c in X_train])\n",
    "plt.yticks(range(len(supports)), X_train.columns); plt.xlabel('trials')\n",
    "plt.title('how many times a feature is selected')\n",
    "plt.show()"
   ]
  },
  {
   "cell_type": "code",
   "execution_count": 12,
   "metadata": {
    "scrolled": true
   },
   "outputs": [
    {
     "name": "stdout",
     "output_type": "stream",
     "text": [
      "----- TRIAL 1 -----\n",
      "----- TRIAL 2 -----\n",
      "----- TRIAL 3 -----\n",
      "----- TRIAL 4 -----\n",
      "----- TRIAL 5 -----\n",
      "----- TRIAL 6 -----\n",
      "----- TRIAL 7 -----\n",
      "----- TRIAL 8 -----\n",
      "----- TRIAL 9 -----\n",
      "----- TRIAL 10 -----\n"
     ]
    }
   ],
   "source": [
    "### TUNE PARAMETERS PLUS RFE WITH SHAP AND EXTRACT SUPPORTS ###\n",
    "\n",
    "supports = np.zeros((df.shape[1]-1,))\n",
    "\n",
    "for i in range(n_trials):\n",
    "    \n",
    "    print(\"----- TRIAL {} -----\".format(i+1))\n",
    "\n",
    "    X_train, X_valid, y_train, y_valid = train_test_split(\n",
    "        df.drop(['Exited'], axis=1), df['Exited'], test_size=0.5, shuffle=True, random_state=i)\n",
    "\n",
    "    model = BoostRFE(lgbm, min_features_to_select=1, step=1, param_grid=param_grid, greater_is_better=True,\n",
    "                     importance_type='shap_importances', train_importance=False, verbose=0)\n",
    "    model.fit(X_train, y_train, eval_set=[(X_valid, y_valid)], eval_metric=AUC, early_stopping_rounds=5, verbose=0)\n",
    "\n",
    "    supports += model.support_.astype(int)"
   ]
  },
  {
   "cell_type": "code",
   "execution_count": 13,
   "metadata": {},
   "outputs": [
    {
     "data": {
      "image/png": "[encoded data removed]",
      "text/plain": [
       "<Figure size 576x432 with 1 Axes>"
      ]
     },
     "metadata": {
      "needs_background": "light"
     },
     "output_type": "display_data"
    }
   ],
   "source": [
    "### PLOT VARIABLE SUPPORTS OVER TRIALS ###\n",
    "\n",
    "plt.figure(figsize=(8,6))\n",
    "plt.barh(range(len(supports)), supports, \n",
    "         color=['red' if 'RANDOM' in c else 'blue' for c in X_train])\n",
    "plt.yticks(range(len(supports)), X_train.columns); plt.xlabel('trials')\n",
    "plt.title('how many times a feature is selected')\n",
    "plt.show()"
   ]
  },
  {
   "cell_type": "code",
   "execution_count": 14,
   "metadata": {
    "scrolled": true
   },
   "outputs": [
    {
     "name": "stdout",
     "output_type": "stream",
     "text": [
      "----- TRIAL 1 -----\n",
      "----- TRIAL 2 -----\n",
      "----- TRIAL 3 -----\n",
      "----- TRIAL 4 -----\n",
      "----- TRIAL 5 -----\n",
      "----- TRIAL 6 -----\n",
      "----- TRIAL 7 -----\n",
      "----- TRIAL 8 -----\n",
      "----- TRIAL 9 -----\n",
      "----- TRIAL 10 -----\n"
     ]
    }
   ],
   "source": [
    "### TUNE PARAMETERS PLUS BORUTA WITH SHAP AND EXTRACT SUPPORTS ###\n",
    "\n",
    "supports = np.zeros((df.shape[1]-1,))\n",
    "\n",
    "for i in range(n_trials):\n",
    "    \n",
    "    print(\"----- TRIAL {} -----\".format(i+1))\n",
    "\n",
    "    X_train, X_valid, y_train, y_valid = train_test_split(\n",
    "        df.drop(['Exited'], axis=1), df['Exited'], test_size=0.5, shuffle=True, random_state=i)\n",
    "\n",
    "    model = BoostBoruta(lgbm, perc=100, alpha=0.05, max_iter=100, param_grid=param_grid, greater_is_better=True,\n",
    "                        importance_type='shap_importances', train_importance=False, verbose=0)\n",
    "    model.fit(X_train, y_train, eval_set=[(X_valid, y_valid)], eval_metric=AUC, early_stopping_rounds=5, verbose=0)\n",
    "\n",
    "    supports += model.support_.astype(int)"
   ]
  },
  {
   "cell_type": "code",
   "execution_count": 15,
   "metadata": {},
   "outputs": [
    {
     "data": {
      "image/png": "[encoded data removed]",
      "text/plain": [
       "<Figure size 576x432 with 1 Axes>"
      ]
     },
     "metadata": {
      "needs_background": "light"
     },
     "output_type": "display_data"
    }
   ],
   "source": [
    "### PLOT VARIABLE SUPPORTS OVER TRIALS ###\n",
    "\n",
    "plt.figure(figsize=(8,6))\n",
    "plt.barh(range(len(supports)), supports, \n",
    "         color=['red' if 'RANDOM' in c else 'blue' for c in X_train])\n",
    "plt.yticks(range(len(supports)), X_train.columns); plt.xlabel('trials')\n",
    "plt.title('how many times a feature is selected')\n",
    "plt.show()"
   ]
  }
 ],
 "metadata": {
  "kernelspec": {
   "display_name": "Python 3",
   "language": "python",
   "name": "python3"
  },
  "language_info": {
   "codemirror_mode": {
    "name": "ipython",
    "version": 3
   },
   "file_extension": ".py",
   "mimetype": "text/x-python",
   "name": "python",
   "nbconvert_exporter": "python",
   "pygments_lexer": "ipython3",
   "version": "3.6.6"
  }
 },
 "nbformat": 4,
 "nbformat_minor": 2
}
