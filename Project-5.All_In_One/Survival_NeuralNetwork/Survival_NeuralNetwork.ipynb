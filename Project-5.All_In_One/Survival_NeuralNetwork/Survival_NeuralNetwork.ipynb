{
 "cells": [
  {
   "cell_type": "code",
   "execution_count": 1,
   "metadata": {},
   "outputs": [],
   "source": [
    "import os\n",
    "import random\n",
    "import numpy as np\n",
    "import pandas as pd\n",
    "from datetime import datetime\n",
    "import matplotlib.pyplot as plt\n",
    "from sklearn.preprocessing import StandardScaler\n",
    "\n",
    "import tensorflow as tf\n",
    "from tensorflow.keras.layers import *\n",
    "from tensorflow.keras.models import *\n",
    "from tensorflow.keras.callbacks import *\n",
    "from tensorflow.keras.optimizers import *\n",
    "\n",
    "from pandas.plotting import register_matplotlib_converters\n",
    "register_matplotlib_converters()"
   ]
  },
  {
   "cell_type": "code",
   "execution_count": 2,
   "metadata": {},
   "outputs": [
    {
     "name": "stdout",
     "output_type": "stream",
     "text": [
      "(17379, 17)\n"
     ]
    },
    {
     "data": {
      "text/html": [
       "<div>\n",
       "<style scoped>\n",
       "    .dataframe tbody tr th:only-of-type {\n",
       "        vertical-align: middle;\n",
       "    }\n",
       "\n",
       "    .dataframe tbody tr th {\n",
       "        vertical-align: top;\n",
       "    }\n",
       "\n",
       "    .dataframe thead th {\n",
       "        text-align: right;\n",
       "    }\n",
       "</style>\n",
       "<table border=\"1\" class=\"dataframe\">\n",
       "  <thead>\n",
       "    <tr style=\"text-align: right;\">\n",
       "      <th></th>\n",
       "      <th>instant</th>\n",
       "      <th>dteday</th>\n",
       "      <th>season</th>\n",
       "      <th>yr</th>\n",
       "      <th>mnth</th>\n",
       "      <th>hr</th>\n",
       "      <th>holiday</th>\n",
       "      <th>weekday</th>\n",
       "      <th>workingday</th>\n",
       "      <th>weathersit</th>\n",
       "      <th>temp</th>\n",
       "      <th>atemp</th>\n",
       "      <th>hum</th>\n",
       "      <th>windspeed</th>\n",
       "      <th>casual</th>\n",
       "      <th>registered</th>\n",
       "      <th>cnt</th>\n",
       "    </tr>\n",
       "  </thead>\n",
       "  <tbody>\n",
       "    <tr>\n",
       "      <td>0</td>\n",
       "      <td>1</td>\n",
       "      <td>2011-01-01</td>\n",
       "      <td>1</td>\n",
       "      <td>0</td>\n",
       "      <td>1</td>\n",
       "      <td>0</td>\n",
       "      <td>0</td>\n",
       "      <td>6</td>\n",
       "      <td>0</td>\n",
       "      <td>1</td>\n",
       "      <td>0.24</td>\n",
       "      <td>0.2879</td>\n",
       "      <td>0.81</td>\n",
       "      <td>0.0</td>\n",
       "      <td>3</td>\n",
       "      <td>13</td>\n",
       "      <td>16</td>\n",
       "    </tr>\n",
       "    <tr>\n",
       "      <td>1</td>\n",
       "      <td>2</td>\n",
       "      <td>2011-01-01</td>\n",
       "      <td>1</td>\n",
       "      <td>0</td>\n",
       "      <td>1</td>\n",
       "      <td>1</td>\n",
       "      <td>0</td>\n",
       "      <td>6</td>\n",
       "      <td>0</td>\n",
       "      <td>1</td>\n",
       "      <td>0.22</td>\n",
       "      <td>0.2727</td>\n",
       "      <td>0.80</td>\n",
       "      <td>0.0</td>\n",
       "      <td>8</td>\n",
       "      <td>32</td>\n",
       "      <td>40</td>\n",
       "    </tr>\n",
       "    <tr>\n",
       "      <td>2</td>\n",
       "      <td>3</td>\n",
       "      <td>2011-01-01</td>\n",
       "      <td>1</td>\n",
       "      <td>0</td>\n",
       "      <td>1</td>\n",
       "      <td>2</td>\n",
       "      <td>0</td>\n",
       "      <td>6</td>\n",
       "      <td>0</td>\n",
       "      <td>1</td>\n",
       "      <td>0.22</td>\n",
       "      <td>0.2727</td>\n",
       "      <td>0.80</td>\n",
       "      <td>0.0</td>\n",
       "      <td>5</td>\n",
       "      <td>27</td>\n",
       "      <td>32</td>\n",
       "    </tr>\n",
       "    <tr>\n",
       "      <td>3</td>\n",
       "      <td>4</td>\n",
       "      <td>2011-01-01</td>\n",
       "      <td>1</td>\n",
       "      <td>0</td>\n",
       "      <td>1</td>\n",
       "      <td>3</td>\n",
       "      <td>0</td>\n",
       "      <td>6</td>\n",
       "      <td>0</td>\n",
       "      <td>1</td>\n",
       "      <td>0.24</td>\n",
       "      <td>0.2879</td>\n",
       "      <td>0.75</td>\n",
       "      <td>0.0</td>\n",
       "      <td>3</td>\n",
       "      <td>10</td>\n",
       "      <td>13</td>\n",
       "    </tr>\n",
       "    <tr>\n",
       "      <td>4</td>\n",
       "      <td>5</td>\n",
       "      <td>2011-01-01</td>\n",
       "      <td>1</td>\n",
       "      <td>0</td>\n",
       "      <td>1</td>\n",
       "      <td>4</td>\n",
       "      <td>0</td>\n",
       "      <td>6</td>\n",
       "      <td>0</td>\n",
       "      <td>1</td>\n",
       "      <td>0.24</td>\n",
       "      <td>0.2879</td>\n",
       "      <td>0.75</td>\n",
       "      <td>0.0</td>\n",
       "      <td>0</td>\n",
       "      <td>1</td>\n",
       "      <td>1</td>\n",
       "    </tr>\n",
       "  </tbody>\n",
       "</table>\n",
       "</div>"
      ],
      "text/plain": [
       "   instant     dteday  season  yr  mnth  hr  holiday  weekday  workingday  \\\n",
       "0        1 2011-01-01       1   0     1   0        0        6           0   \n",
       "1        2 2011-01-01       1   0     1   1        0        6           0   \n",
       "2        3 2011-01-01       1   0     1   2        0        6           0   \n",
       "3        4 2011-01-01       1   0     1   3        0        6           0   \n",
       "4        5 2011-01-01       1   0     1   4        0        6           0   \n",
       "\n",
       "   weathersit  temp   atemp   hum  windspeed  casual  registered  cnt  \n",
       "0           1  0.24  0.2879  0.81        0.0       3          13   16  \n",
       "1           1  0.22  0.2727  0.80        0.0       8          32   40  \n",
       "2           1  0.22  0.2727  0.80        0.0       5          27   32  \n",
       "3           1  0.24  0.2879  0.75        0.0       3          10   13  \n",
       "4           1  0.24  0.2879  0.75        0.0       0           1    1  "
      ]
     },
     "execution_count": 2,
     "metadata": {},
     "output_type": "execute_result"
    }
   ],
   "source": [
    "### READ DATA ###\n",
    "\n",
    "df = pd.read_csv('hour.csv')\n",
    "df['dteday'] = pd.to_datetime(df.dteday)\n",
    "\n",
    "print(df.shape)\n",
    "df.head()"
   ]
  },
  {
   "cell_type": "code",
   "execution_count": 3,
   "metadata": {},
   "outputs": [
    {
     "data": {
      "text/html": [
       "<div>\n",
       "<style scoped>\n",
       "    .dataframe tbody tr th:only-of-type {\n",
       "        vertical-align: middle;\n",
       "    }\n",
       "\n",
       "    .dataframe tbody tr th {\n",
       "        vertical-align: top;\n",
       "    }\n",
       "\n",
       "    .dataframe thead th {\n",
       "        text-align: right;\n",
       "    }\n",
       "</style>\n",
       "<table border=\"1\" class=\"dataframe\">\n",
       "  <thead>\n",
       "    <tr style=\"text-align: right;\">\n",
       "      <th></th>\n",
       "      <th>min</th>\n",
       "      <th>max</th>\n",
       "      <th>mean</th>\n",
       "    </tr>\n",
       "    <tr>\n",
       "      <th>yr</th>\n",
       "      <th></th>\n",
       "      <th></th>\n",
       "      <th></th>\n",
       "    </tr>\n",
       "  </thead>\n",
       "  <tbody>\n",
       "    <tr>\n",
       "      <td>0</td>\n",
       "      <td>0</td>\n",
       "      <td>272</td>\n",
       "      <td>28.600578</td>\n",
       "    </tr>\n",
       "    <tr>\n",
       "      <td>1</td>\n",
       "      <td>0</td>\n",
       "      <td>367</td>\n",
       "      <td>42.679757</td>\n",
       "    </tr>\n",
       "  </tbody>\n",
       "</table>\n",
       "</div>"
      ],
      "text/plain": [
       "    min  max       mean\n",
       "yr                     \n",
       "0     0  272  28.600578\n",
       "1     0  367  42.679757"
      ]
     },
     "execution_count": 3,
     "metadata": {},
     "output_type": "execute_result"
    }
   ],
   "source": [
    "### CASUAL COUNT STATISTICS ###\n",
    "\n",
    "df.groupby('yr')['casual'].agg(['min','max','mean'])"
   ]
  },
  {
   "cell_type": "code",
   "execution_count": 4,
   "metadata": {},
   "outputs": [],
   "source": [
    "### DEFINE CRPS METRIC ###\n",
    "\n",
    "def crps(y_true, y_pred):\n",
    "    y_true = np.clip(np.cumsum(y_true, axis=1), 0, 1)\n",
    "    y_pred = np.clip(np.cumsum(y_pred, axis=1), 0, 1)\n",
    "    return ((y_true-y_pred)**2).sum(axis=1).sum(axis=0) / (y_true.shape[1]*y_true.shape[0])"
   ]
  },
  {
   "cell_type": "code",
   "execution_count": 5,
   "metadata": {},
   "outputs": [
    {
     "name": "stdout",
     "output_type": "stream",
     "text": [
      "['season', 'yr', 'mnth', 'hr', 'holiday', 'weekday', 'workingday', 'weathersit', 'temp', 'atemp', 'hum', 'windspeed']\n"
     ]
    }
   ],
   "source": [
    "### DEFINE REGRESSOR COLUMNS ###\n",
    "\n",
    "columns = [c for c in df.columns if c not in ['instant','dteday','casual','registered','cnt']]\n",
    "print(columns)"
   ]
  },
  {
   "cell_type": "code",
   "execution_count": 6,
   "metadata": {},
   "outputs": [
    {
     "name": "stdout",
     "output_type": "stream",
     "text": [
      "(8645, 12) (2894, 12) (5840, 12)\n"
     ]
    }
   ],
   "source": [
    "### TRAIN, VALIDATION, TEST SPLIT AND SCALING ###\n",
    "\n",
    "scaler = StandardScaler()\n",
    "\n",
    "y_train = df[df.dteday < datetime(2012, 1, 1)].casual.copy().values\n",
    "train_date = df[df.dteday < datetime(2012, 1, 1)].dteday.copy()\n",
    "train_h = df[df.dteday < datetime(2012, 1, 1)].hr.copy()\n",
    "X_train = df[df.dteday < datetime(2012, 1, 1)][columns].copy()\n",
    "X_train = scaler.fit_transform(X_train)\n",
    "\n",
    "y_val = df[(df.dteday >= datetime(2012, 1, 1))&(df.dteday < datetime(2012, 5, 1))].casual.copy().values\n",
    "val_date = df[(df.dteday >= datetime(2012, 1, 1))&(df.dteday < datetime(2012, 5, 1))].dteday.copy()\n",
    "val_H = df[(df.dteday >= datetime(2012, 1, 1))&(df.dteday < datetime(2012, 5, 1))].hr.copy()\n",
    "X_val = df[(df.dteday >= datetime(2012, 1, 1))&(df.dteday < datetime(2012, 5, 1))][columns].copy()\n",
    "X_val = scaler.transform(X_val)\n",
    "\n",
    "y_test = df[df.dteday >= datetime(2012, 5, 1)].casual.copy().values\n",
    "test_date = df[df.dteday >= datetime(2012, 5, 1)].dteday.copy()\n",
    "test_H = df[df.dteday >= datetime(2012, 5, 1)].hr.copy()\n",
    "X_test = df[df.dteday >= datetime(2012, 5, 1)][columns].copy()\n",
    "X_test = scaler.transform(X_test)\n",
    "\n",
    "print(X_train.shape, X_val.shape, X_test.shape)"
   ]
  },
  {
   "cell_type": "code",
   "execution_count": 7,
   "metadata": {},
   "outputs": [
    {
     "data": {
      "text/plain": [
       "<matplotlib.legend.Legend at 0x1f36afdbcc0>"
      ]
     },
     "execution_count": 7,
     "metadata": {},
     "output_type": "execute_result"
    },
    {
     "data": {
      "image/png": "[encoded data removed]",
      "text/plain": [
       "<Figure size 1152x432 with 1 Axes>"
      ]
     },
     "metadata": {
      "needs_background": "light"
     },
     "output_type": "display_data"
    }
   ],
   "source": [
    "### CASUAL COUNT PLOT ###\n",
    "\n",
    "plt.figure(figsize=(16,6))\n",
    "\n",
    "plt.plot([d + np.timedelta64(h, 'h') for d,h in zip(train_date, train_h)], y_train, label='train', color='blue')\n",
    "plt.plot([d + np.timedelta64(h, 'h') for d,h in zip(val_date, val_H)], y_val, label='val', color='orange')\n",
    "plt.plot([d + np.timedelta64(h, 'h') for d,h in zip(test_date, test_H)], y_test, label='test', color='red')\n",
    "plt.ylabel('casual cnt')\n",
    "plt.legend()"
   ]
  },
  {
   "cell_type": "code",
   "execution_count": 8,
   "metadata": {},
   "outputs": [
    {
     "data": {
      "text/plain": [
       "<matplotlib.legend.Legend at 0x1f36b1b22b0>"
      ]
     },
     "execution_count": 8,
     "metadata": {},
     "output_type": "execute_result"
    },
    {
     "data": {
      "image/png": "[encoded data removed]",
      "text/plain": [
       "<Figure size 576x432 with 1 Axes>"
      ]
     },
     "metadata": {
      "needs_background": "light"
     },
     "output_type": "display_data"
    }
   ],
   "source": [
    "### CASUAL COUNT DISTRIBUTION ###\n",
    "\n",
    "plt.figure(figsize=(8,6))\n",
    "\n",
    "plt.hist(y_train, label='train', bins=25, alpha=0.5, color='blue')\n",
    "plt.hist(y_val, label='val', bins=25, alpha=0.5, color='orange')\n",
    "plt.hist(y_test, label='test', bins=25, alpha=0.5, color='red')\n",
    "plt.ylabel('frequency'); plt.xlabel('casual cnt')\n",
    "plt.legend()"
   ]
  },
  {
   "cell_type": "code",
   "execution_count": 9,
   "metadata": {},
   "outputs": [],
   "source": [
    "### DEFINE MAX PLAUSIBLE CASUAL COUNT ###\n",
    "\n",
    "max_count = 400"
   ]
  },
  {
   "cell_type": "code",
   "execution_count": 10,
   "metadata": {},
   "outputs": [
    {
     "data": {
      "text/plain": [
       "<matplotlib.legend.Legend at 0x1f36b2be630>"
      ]
     },
     "execution_count": 10,
     "metadata": {},
     "output_type": "execute_result"
    },
    {
     "data": {
      "image/png": "[encoded data removed]",
      "text/plain": [
       "<Figure size 576x432 with 1 Axes>"
      ]
     },
     "metadata": {
      "needs_background": "light"
     },
     "output_type": "display_data"
    }
   ],
   "source": [
    "### CDF CASUAL COUNT PLOT ###\n",
    "\n",
    "plt.figure(figsize=(8,6))\n",
    "\n",
    "plt.hist(y_train, range=(0,max_count), bins=30, \n",
    "         cumulative=True, density=True, alpha=0.5, color='blue')\n",
    "cdf_train = np.histogram(y_train, range=(0,max_count), bins=max_count, density=True)[0].cumsum()\n",
    "plt.plot(cdf_train, c='blue', linewidth=3, label='train')\n",
    "\n",
    "plt.hist(y_val, range=(0,max_count), bins=30, \n",
    "         cumulative=True, density=True, alpha=0.4, color='orange')\n",
    "cdf_val = np.histogram(y_val, range=(0,max_count), bins=max_count, density=True)[0].cumsum()\n",
    "plt.plot(cdf_val, c='orange', linewidth=3, label='val')\n",
    "\n",
    "plt.hist(y_test, range=(0,max_count), bins=30, \n",
    "         cumulative=True, density=True, alpha=0.3, color='red')\n",
    "cdf_test = np.histogram(y_test, range=(0,max_count), bins=max_count, density=True)[0].cumsum()\n",
    "plt.plot(cdf_test, c='red', linewidth=3, label='test')\n",
    "\n",
    "plt.ylabel('cdf'); plt.xlabel('casual cnt')\n",
    "plt.legend()"
   ]
  },
  {
   "cell_type": "code",
   "execution_count": 11,
   "metadata": {},
   "outputs": [],
   "source": [
    "### CREATE TARGETS FOR REGRESSION AND CLASSIFICATION ###\n",
    "\n",
    "y_train_reg = np.zeros((len(y_train), max_count))\n",
    "y_val_reg = np.zeros((len(y_val), max_count))\n",
    "y_test_reg = np.zeros((len(y_test), max_count))\n",
    "\n",
    "y_train_clas = np.zeros((len(y_train), max_count))\n",
    "y_val_clas = np.zeros((len(y_val), max_count))\n",
    "y_test_clas = np.zeros((len(y_test), max_count))\n",
    "\n",
    "\n",
    "for i,cnt in enumerate(y_train):\n",
    "    y_train_reg[i, cnt:] = 1\n",
    "    y_train_clas[i, cnt] = 1\n",
    "    \n",
    "for i,cnt in enumerate(y_val):\n",
    "    y_val_reg[i, cnt:] = 1\n",
    "    y_val_clas[i, cnt] = 1\n",
    "    \n",
    "for i,cnt in enumerate(y_test):\n",
    "    y_test_reg[i, cnt:] = 1\n",
    "    y_test_clas[i, cnt] = 1"
   ]
  },
  {
   "cell_type": "code",
   "execution_count": 12,
   "metadata": {},
   "outputs": [],
   "source": [
    "### DEFINE MODEL STRUCTURES FOR REGRESSION AND CLASSIFICATION ###\n",
    "\n",
    "def set_seed(seed):\n",
    "    \n",
    "    tf.random.set_seed(seed)\n",
    "    os.environ['PYTHONHASHSEED'] = str(seed)\n",
    "    np.random.seed(seed)\n",
    "    random.seed(seed)\n",
    "\n",
    "\n",
    "def get_model_reg():\n",
    "    \n",
    "    set_seed(33)\n",
    "    \n",
    "    opt = Adam(lr=0.01)\n",
    "    \n",
    "    inp = Input(shape=(len(columns)))\n",
    "    x = Dense(512, activation='relu')(inp)\n",
    "    x = Dropout(0.3)(x)\n",
    "    x = Dense(256, activation='relu')(x)\n",
    "    x = Dropout(0.2)(x)\n",
    "    x = Dense(256, activation='relu')(x)\n",
    "    out = Dense(max_count, activation='sigmoid')(x)\n",
    "    \n",
    "    model = Model(inp, out)\n",
    "    model.compile(optimizer=opt, loss='mse')\n",
    "    \n",
    "    return model\n",
    "    \n",
    "    \n",
    "def get_model_clas():\n",
    "    \n",
    "    set_seed(33)\n",
    "    \n",
    "    opt = Adam(lr=0.0001)\n",
    "    \n",
    "    inp = Input(shape=(len(columns)))\n",
    "    x = Dense(512, activation='relu')(inp)\n",
    "    x = Dropout(0.3)(x)\n",
    "    x = Dense(256, activation='relu')(x)\n",
    "    x = Dropout(0.2)(x)\n",
    "    x = Dense(256, activation='relu')(x)\n",
    "    out = Dense(max_count, activation='softmax')(x)\n",
    "    \n",
    "    model = Model(inp, out)\n",
    "    model.compile(optimizer=opt, loss='categorical_crossentropy')\n",
    "    \n",
    "    return model"
   ]
  },
  {
   "cell_type": "markdown",
   "metadata": {},
   "source": [
    "# NEURAL NETWORK WITH REGRESSION"
   ]
  },
  {
   "cell_type": "code",
   "execution_count": 13,
   "metadata": {},
   "outputs": [
    {
     "name": "stdout",
     "output_type": "stream",
     "text": [
      "Train on 8645 samples, validate on 2894 samples\n",
      "Epoch 1/100\n",
      "8645/8645 - 2s - loss: 0.0589 - val_loss: 0.0593\n",
      "Epoch 2/100\n",
      "8645/8645 - 1s - loss: 0.0339 - val_loss: 0.0425\n",
      "Epoch 3/100\n",
      "8645/8645 - 1s - loss: 0.0230 - val_loss: 0.0326\n",
      "Epoch 4/100\n",
      "8645/8645 - 1s - loss: 0.0199 - val_loss: 0.0333\n",
      "Epoch 5/100\n",
      "8645/8645 - 1s - loss: 0.0193 - val_loss: 0.0308\n",
      "Epoch 6/100\n",
      "8645/8645 - 1s - loss: 0.0184 - val_loss: 0.0321\n",
      "Epoch 7/100\n",
      "8645/8645 - 1s - loss: 0.0178 - val_loss: 0.0350\n",
      "Epoch 8/100\n",
      "8645/8645 - 1s - loss: 0.0176 - val_loss: 0.0297\n",
      "Epoch 9/100\n",
      "8645/8645 - 1s - loss: 0.0169 - val_loss: 0.0295\n",
      "Epoch 10/100\n",
      "8645/8645 - 1s - loss: 0.0158 - val_loss: 0.0282\n",
      "Epoch 11/100\n",
      "8645/8645 - 1s - loss: 0.0153 - val_loss: 0.0310\n",
      "Epoch 12/100\n",
      "8645/8645 - 1s - loss: 0.0152 - val_loss: 0.0278\n",
      "Epoch 13/100\n",
      "8645/8645 - 1s - loss: 0.0153 - val_loss: 0.0305\n",
      "Epoch 14/100\n",
      "8645/8645 - 1s - loss: 0.0149 - val_loss: 0.0285\n",
      "Epoch 15/100\n",
      "8645/8645 - 1s - loss: 0.0148 - val_loss: 0.0277\n",
      "Epoch 16/100\n",
      "8645/8645 - 1s - loss: 0.0149 - val_loss: 0.0286\n",
      "Epoch 17/100\n",
      "8645/8645 - 1s - loss: 0.0146 - val_loss: 0.0291\n",
      "Epoch 18/100\n",
      "8645/8645 - 1s - loss: 0.0147 - val_loss: 0.0281\n",
      "Epoch 19/100\n",
      "8645/8645 - 1s - loss: 0.0144 - val_loss: 0.0288\n",
      "Epoch 20/100\n",
      "8645/8645 - 1s - loss: 0.0146 - val_loss: 0.0277\n",
      "Epoch 21/100\n",
      "8645/8645 - 1s - loss: 0.0144 - val_loss: 0.0292\n",
      "Epoch 22/100\n",
      "8645/8645 - 1s - loss: 0.0143 - val_loss: 0.0282\n",
      "Epoch 23/100\n",
      "8645/8645 - 1s - loss: 0.0143 - val_loss: 0.0276\n",
      "Epoch 24/100\n",
      "8645/8645 - 1s - loss: 0.0142 - val_loss: 0.0276\n",
      "Epoch 25/100\n",
      "8645/8645 - 1s - loss: 0.0142 - val_loss: 0.0265\n",
      "Epoch 26/100\n",
      "8645/8645 - 1s - loss: 0.0140 - val_loss: 0.0269\n",
      "Epoch 27/100\n",
      "8645/8645 - 1s - loss: 0.0142 - val_loss: 0.0280\n",
      "Epoch 28/100\n",
      "8645/8645 - 1s - loss: 0.0140 - val_loss: 0.0301\n",
      "Epoch 29/100\n",
      "8645/8645 - 1s - loss: 0.0140 - val_loss: 0.0269\n",
      "Epoch 30/100\n",
      "8645/8645 - 1s - loss: 0.0140 - val_loss: 0.0288\n",
      "Epoch 31/100\n",
      "8645/8645 - 1s - loss: 0.0139 - val_loss: 0.0278\n",
      "Epoch 32/100\n",
      "8645/8645 - 1s - loss: 0.0138 - val_loss: 0.0267\n",
      "Epoch 33/100\n",
      "8645/8645 - 1s - loss: 0.0138 - val_loss: 0.0273\n",
      "Epoch 34/100\n",
      "8645/8645 - 1s - loss: 0.0139 - val_loss: 0.0293\n",
      "Epoch 35/100\n",
      "Restoring model weights from the end of the best epoch.\n",
      "8645/8645 - 1s - loss: 0.0136 - val_loss: 0.0281\n",
      "Epoch 00035: early stopping\n"
     ]
    },
    {
     "data": {
      "text/plain": [
       "<tensorflow.python.keras.callbacks.History at 0x1f3732f51d0>"
      ]
     },
     "execution_count": 13,
     "metadata": {},
     "output_type": "execute_result"
    }
   ],
   "source": [
    "es = EarlyStopping(monitor='val_loss', mode='auto', restore_best_weights=True, verbose=1, patience=10)\n",
    "\n",
    "model_reg = get_model_reg()\n",
    "model_reg.fit(X_train, y_train_reg, epochs=100, batch_size=128, \n",
    "              validation_data=[X_val, y_val_reg], callbacks=[es], verbose=2)"
   ]
  },
  {
   "cell_type": "code",
   "execution_count": 14,
   "metadata": {},
   "outputs": [
    {
     "data": {
      "text/plain": [
       "0.048634997103914"
      ]
     },
     "execution_count": 14,
     "metadata": {},
     "output_type": "execute_result"
    }
   ],
   "source": [
    "### CRPS ON VALIDATION ###\n",
    "\n",
    "crps(y_val_reg, model_reg.predict(X_val))"
   ]
  },
  {
   "cell_type": "code",
   "execution_count": 15,
   "metadata": {},
   "outputs": [
    {
     "data": {
      "text/plain": [
       "0.07446661456669396"
      ]
     },
     "execution_count": 15,
     "metadata": {},
     "output_type": "execute_result"
    }
   ],
   "source": [
    "### CRPS ON TEST ###\n",
    "\n",
    "crps(y_test_reg, model_reg.predict(X_test))"
   ]
  },
  {
   "cell_type": "code",
   "execution_count": 16,
   "metadata": {},
   "outputs": [
    {
     "data": {
      "text/plain": [
       "0.12166914866721108"
      ]
     },
     "execution_count": 16,
     "metadata": {},
     "output_type": "execute_result"
    }
   ],
   "source": [
    "### CRPS ON TEST DATA WITH BASELINE MODEL ###\n",
    "\n",
    "crps(y_test_reg, np.repeat(cdf_train, len(X_test)).reshape(-1,max_count))"
   ]
  },
  {
   "cell_type": "code",
   "execution_count": 17,
   "metadata": {},
   "outputs": [
    {
     "data": {
      "text/plain": [
       "<matplotlib.legend.Legend at 0x1f3731df438>"
      ]
     },
     "execution_count": 17,
     "metadata": {},
     "output_type": "execute_result"
    },
    {
     "data": {
      "image/png": "[encoded data removed]",
      "text/plain": [
       "<Figure size 504x360 with 1 Axes>"
      ]
     },
     "metadata": {
      "needs_background": "light"
     },
     "output_type": "display_data"
    }
   ],
   "source": [
    "### PLOT PREDICTIONS ###\n",
    "\n",
    "_id = 11\n",
    "\n",
    "plt.figure(figsize=(7,5))\n",
    "plt.plot(model_reg.predict(X_test)[_id], label='pred surv f')\n",
    "plt.plot(y_test_reg[_id], label='true surv f')\n",
    "plt.ylabel('probability'); plt.xlabel('casual count')\n",
    "plt.title(pd.to_datetime(test_date.values[_id] + np.timedelta64(test_H.values[_id], 'h')))\n",
    "plt.legend()"
   ]
  },
  {
   "cell_type": "markdown",
   "metadata": {},
   "source": [
    "# NEURAL NETWORK WITH CLASSIFICATION"
   ]
  },
  {
   "cell_type": "code",
   "execution_count": 18,
   "metadata": {},
   "outputs": [
    {
     "name": "stdout",
     "output_type": "stream",
     "text": [
      "Train on 8645 samples, validate on 2894 samples\n",
      "Epoch 1/100\n",
      "8645/8645 - 2s - loss: 4.8290 - val_loss: 3.9456\n",
      "Epoch 2/100\n",
      "8645/8645 - 1s - loss: 3.8963 - val_loss: 3.8685\n",
      "Epoch 3/100\n",
      "8645/8645 - 1s - loss: 3.7841 - val_loss: 3.8376\n",
      "Epoch 4/100\n",
      "8645/8645 - 2s - loss: 3.7257 - val_loss: 3.8360\n",
      "Epoch 5/100\n",
      "8645/8645 - 1s - loss: 3.6778 - val_loss: 3.8262\n",
      "Epoch 6/100\n",
      "8645/8645 - 1s - loss: 3.6483 - val_loss: 3.8123\n",
      "Epoch 7/100\n",
      "8645/8645 - 1s - loss: 3.6212 - val_loss: 3.7978\n",
      "Epoch 8/100\n",
      "8645/8645 - 1s - loss: 3.6002 - val_loss: 3.8181\n",
      "Epoch 9/100\n",
      "8645/8645 - 1s - loss: 3.5797 - val_loss: 3.7996\n",
      "Epoch 10/100\n",
      "8645/8645 - 1s - loss: 3.5551 - val_loss: 3.7941\n",
      "Epoch 11/100\n",
      "8645/8645 - 1s - loss: 3.5419 - val_loss: 3.7876\n",
      "Epoch 12/100\n",
      "8645/8645 - 1s - loss: 3.5241 - val_loss: 3.7749\n",
      "Epoch 13/100\n",
      "8645/8645 - 1s - loss: 3.5089 - val_loss: 3.7878\n",
      "Epoch 14/100\n",
      "8645/8645 - 1s - loss: 3.4992 - val_loss: 3.8041\n",
      "Epoch 15/100\n",
      "8645/8645 - 1s - loss: 3.4805 - val_loss: 3.7746\n",
      "Epoch 16/100\n",
      "8645/8645 - 1s - loss: 3.4704 - val_loss: 3.7816\n",
      "Epoch 17/100\n",
      "8645/8645 - 1s - loss: 3.4553 - val_loss: 3.7894\n",
      "Epoch 18/100\n",
      "8645/8645 - 1s - loss: 3.4416 - val_loss: 3.7885\n",
      "Epoch 19/100\n",
      "8645/8645 - 1s - loss: 3.4347 - val_loss: 3.8013\n",
      "Epoch 20/100\n",
      "8645/8645 - 1s - loss: 3.4291 - val_loss: 3.7827\n",
      "Epoch 21/100\n",
      "8645/8645 - 1s - loss: 3.4085 - val_loss: 3.8090\n",
      "Epoch 22/100\n",
      "8645/8645 - 1s - loss: 3.3965 - val_loss: 3.8161\n",
      "Epoch 23/100\n",
      "8645/8645 - 1s - loss: 3.3867 - val_loss: 3.8043\n",
      "Epoch 24/100\n",
      "8645/8645 - 1s - loss: 3.3744 - val_loss: 3.8139\n",
      "Epoch 25/100\n",
      "Restoring model weights from the end of the best epoch.\n",
      "8645/8645 - 1s - loss: 3.3656 - val_loss: 3.8204\n",
      "Epoch 00025: early stopping\n"
     ]
    },
    {
     "data": {
      "text/plain": [
       "<tensorflow.python.keras.callbacks.History at 0x1f375a14518>"
      ]
     },
     "execution_count": 18,
     "metadata": {},
     "output_type": "execute_result"
    }
   ],
   "source": [
    "es = EarlyStopping(monitor='val_loss', mode='auto', restore_best_weights=True, verbose=1, patience=10)\n",
    "\n",
    "model_clas = get_model_clas()\n",
    "model_clas.fit(X_train, y_train_clas, epochs=100, batch_size=32, \n",
    "               validation_data=[X_val, y_val_clas], callbacks=[es], verbose=2)"
   ]
  },
  {
   "cell_type": "code",
   "execution_count": 19,
   "metadata": {},
   "outputs": [
    {
     "data": {
      "text/plain": [
       "0.05922218327148239"
      ]
     },
     "execution_count": 19,
     "metadata": {},
     "output_type": "execute_result"
    }
   ],
   "source": [
    "### CRPS ON VALIDATION ###\n",
    "\n",
    "crps(np.cumsum(y_val_clas, axis=1), \n",
    "     np.clip(np.cumsum(model_clas.predict(X_val), axis=1), 0, 1))"
   ]
  },
  {
   "cell_type": "code",
   "execution_count": 20,
   "metadata": {},
   "outputs": [
    {
     "data": {
      "text/plain": [
       "0.09114237247959403"
      ]
     },
     "execution_count": 20,
     "metadata": {},
     "output_type": "execute_result"
    }
   ],
   "source": [
    "### CRPS ON TEST ###\n",
    "\n",
    "crps(np.cumsum(y_test_clas, axis=1), \n",
    "     np.clip(np.cumsum(model_clas.predict(X_test), axis=1), 0, 1))"
   ]
  },
  {
   "cell_type": "code",
   "execution_count": 21,
   "metadata": {},
   "outputs": [
    {
     "data": {
      "text/plain": [
       "0.12166914866721108"
      ]
     },
     "execution_count": 21,
     "metadata": {},
     "output_type": "execute_result"
    }
   ],
   "source": [
    "### CRPS ON TEST DATA WITH BASELINE MODEL ###\n",
    "\n",
    "crps(np.cumsum(y_test_clas, axis=1), np.repeat(cdf_train, len(X_test)).reshape(-1,max_count))"
   ]
  },
  {
   "cell_type": "code",
   "execution_count": 22,
   "metadata": {},
   "outputs": [
    {
     "data": {
      "text/plain": [
       "<matplotlib.legend.Legend at 0x1f3774d5400>"
      ]
     },
     "execution_count": 22,
     "metadata": {},
     "output_type": "execute_result"
    },
    {
     "data": {
      "image/png": "[encoded data removed]",
      "text/plain": [
       "<Figure size 504x360 with 1 Axes>"
      ]
     },
     "metadata": {
      "needs_background": "light"
     },
     "output_type": "display_data"
    }
   ],
   "source": [
    "### PLOT PREDICTIONS ###\n",
    "\n",
    "_id = 11\n",
    "\n",
    "plt.figure(figsize=(7,5))\n",
    "plt.plot(np.clip(np.cumsum(model_clas.predict(X_test)[_id]), 0, 1), label='pred surv f')\n",
    "plt.plot(np.cumsum(y_test_clas[_id]), label='true surv f')\n",
    "plt.ylabel('probability'); plt.xlabel('casual count')\n",
    "plt.title(pd.to_datetime(test_date.values[_id] + np.timedelta64(test_H.values[_id], 'h')))\n",
    "plt.legend()"
   ]
  }
 ],
 "metadata": {
  "kernelspec": {
   "display_name": "Python 3",
   "language": "python",
   "name": "python3"
  },
  "language_info": {
   "codemirror_mode": {
    "name": "ipython",
    "version": 3
   },
   "file_extension": ".py",
   "mimetype": "text/x-python",
   "name": "python",
   "nbconvert_exporter": "python",
   "pygments_lexer": "ipython3",
   "version": "3.6.6"
  }
 },
 "nbformat": 4,
 "nbformat_minor": 2
}
