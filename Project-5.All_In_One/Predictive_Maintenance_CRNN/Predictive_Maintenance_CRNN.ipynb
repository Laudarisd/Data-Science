{
 "cells": [
  {
   "cell_type": "code",
   "execution_count": 1,
   "metadata": {},
   "outputs": [],
   "source": [
    "import tqdm\n",
    "import random\n",
    "import itertools\n",
    "import numpy as np\n",
    "import pandas as pd\n",
    "import matplotlib.pyplot as plt\n",
    "\n",
    "from sklearn.model_selection import train_test_split\n",
    "from sklearn.metrics import accuracy_score, classification_report, confusion_matrix\n",
    "\n",
    "from tensorflow.keras.utils import *\n",
    "from tensorflow.keras.layers import *\n",
    "from tensorflow.keras.models import *\n",
    "from tensorflow.keras.optimizers import *\n",
    "from tensorflow.keras.callbacks import *\n",
    "\n",
    "import librosa, librosa.display"
   ]
  },
  {
   "cell_type": "code",
   "execution_count": 2,
   "metadata": {},
   "outputs": [],
   "source": [
    "def plot_confusion_matrix(cm, classes, title='Confusion matrix', cmap=plt.cm.Blues):\n",
    "\n",
    "    cm = cm.astype('float') / cm.sum(axis=1)[:, np.newaxis]\n",
    "\n",
    "    plt.imshow(cm, interpolation='nearest', cmap=cmap)\n",
    "    plt.title(title, fontsize=25)\n",
    "    #plt.colorbar()\n",
    "    tick_marks = np.arange(len(classes))\n",
    "    plt.xticks(tick_marks, classes, rotation=90, fontsize=15)\n",
    "    plt.yticks(tick_marks, classes, fontsize=15)\n",
    "\n",
    "    fmt = '.2f'\n",
    "    thresh = cm.max() / 2.\n",
    "    for i, j in itertools.product(range(cm.shape[0]), range(cm.shape[1])):\n",
    "        plt.text(j, i, format(cm[i, j], fmt),\n",
    "                 horizontalalignment=\"center\",\n",
    "                 color=\"white\" if cm[i, j] > thresh else \"black\", fontsize = 14)\n",
    "\n",
    "    plt.ylabel('True label', fontsize=20)\n",
    "    plt.xlabel('Predicted label', fontsize=20)"
   ]
  },
  {
   "cell_type": "code",
   "execution_count": 3,
   "metadata": {},
   "outputs": [
    {
     "name": "stdout",
     "output_type": "stream",
     "text": [
      "(13230, 6000)\n"
     ]
    },
    {
     "data": {
      "text/html": [
       "<div>\n",
       "<style scoped>\n",
       "    .dataframe tbody tr th:only-of-type {\n",
       "        vertical-align: middle;\n",
       "    }\n",
       "\n",
       "    .dataframe tbody tr th {\n",
       "        vertical-align: top;\n",
       "    }\n",
       "\n",
       "    .dataframe thead th {\n",
       "        text-align: right;\n",
       "    }\n",
       "</style>\n",
       "<table border=\"1\" class=\"dataframe\">\n",
       "  <thead>\n",
       "    <tr style=\"text-align: right;\">\n",
       "      <th></th>\n",
       "      <th>0</th>\n",
       "      <th>1</th>\n",
       "      <th>2</th>\n",
       "      <th>3</th>\n",
       "      <th>4</th>\n",
       "      <th>5</th>\n",
       "      <th>6</th>\n",
       "      <th>7</th>\n",
       "      <th>8</th>\n",
       "      <th>9</th>\n",
       "      <th>...</th>\n",
       "      <th>5990</th>\n",
       "      <th>5991</th>\n",
       "      <th>5992</th>\n",
       "      <th>5993</th>\n",
       "      <th>5994</th>\n",
       "      <th>5995</th>\n",
       "      <th>5996</th>\n",
       "      <th>5997</th>\n",
       "      <th>5998</th>\n",
       "      <th>5999</th>\n",
       "    </tr>\n",
       "  </thead>\n",
       "  <tbody>\n",
       "    <tr>\n",
       "      <td>0</td>\n",
       "      <td>151.47</td>\n",
       "      <td>151.45</td>\n",
       "      <td>151.52</td>\n",
       "      <td>151.27</td>\n",
       "      <td>150.80</td>\n",
       "      <td>150.69</td>\n",
       "      <td>153.89</td>\n",
       "      <td>154.67</td>\n",
       "      <td>152.88</td>\n",
       "      <td>153.82</td>\n",
       "      <td>...</td>\n",
       "      <td>151.16</td>\n",
       "      <td>151.19</td>\n",
       "      <td>151.25</td>\n",
       "      <td>151.16</td>\n",
       "      <td>151.10</td>\n",
       "      <td>151.16</td>\n",
       "      <td>151.14</td>\n",
       "      <td>151.10</td>\n",
       "      <td>151.21</td>\n",
       "      <td>151.19</td>\n",
       "    </tr>\n",
       "    <tr>\n",
       "      <td>1</td>\n",
       "      <td>151.11</td>\n",
       "      <td>151.12</td>\n",
       "      <td>151.16</td>\n",
       "      <td>150.92</td>\n",
       "      <td>150.70</td>\n",
       "      <td>150.62</td>\n",
       "      <td>152.40</td>\n",
       "      <td>153.21</td>\n",
       "      <td>152.81</td>\n",
       "      <td>153.53</td>\n",
       "      <td>...</td>\n",
       "      <td>150.82</td>\n",
       "      <td>150.82</td>\n",
       "      <td>150.86</td>\n",
       "      <td>150.80</td>\n",
       "      <td>150.73</td>\n",
       "      <td>150.79</td>\n",
       "      <td>150.84</td>\n",
       "      <td>150.79</td>\n",
       "      <td>150.80</td>\n",
       "      <td>150.86</td>\n",
       "    </tr>\n",
       "    <tr>\n",
       "      <td>2</td>\n",
       "      <td>150.81</td>\n",
       "      <td>150.79</td>\n",
       "      <td>150.84</td>\n",
       "      <td>150.65</td>\n",
       "      <td>150.35</td>\n",
       "      <td>150.23</td>\n",
       "      <td>152.03</td>\n",
       "      <td>152.81</td>\n",
       "      <td>152.44</td>\n",
       "      <td>153.27</td>\n",
       "      <td>...</td>\n",
       "      <td>150.49</td>\n",
       "      <td>150.44</td>\n",
       "      <td>150.47</td>\n",
       "      <td>150.46</td>\n",
       "      <td>150.38</td>\n",
       "      <td>150.47</td>\n",
       "      <td>150.50</td>\n",
       "      <td>150.43</td>\n",
       "      <td>150.54</td>\n",
       "      <td>150.62</td>\n",
       "    </tr>\n",
       "    <tr>\n",
       "      <td>3</td>\n",
       "      <td>150.48</td>\n",
       "      <td>150.47</td>\n",
       "      <td>150.52</td>\n",
       "      <td>150.31</td>\n",
       "      <td>150.04</td>\n",
       "      <td>149.98</td>\n",
       "      <td>151.63</td>\n",
       "      <td>152.48</td>\n",
       "      <td>152.24</td>\n",
       "      <td>152.94</td>\n",
       "      <td>...</td>\n",
       "      <td>150.34</td>\n",
       "      <td>150.30</td>\n",
       "      <td>150.28</td>\n",
       "      <td>150.38</td>\n",
       "      <td>150.41</td>\n",
       "      <td>150.33</td>\n",
       "      <td>150.31</td>\n",
       "      <td>150.31</td>\n",
       "      <td>150.25</td>\n",
       "      <td>150.28</td>\n",
       "    </tr>\n",
       "    <tr>\n",
       "      <td>4</td>\n",
       "      <td>150.41</td>\n",
       "      <td>150.35</td>\n",
       "      <td>150.24</td>\n",
       "      <td>150.12</td>\n",
       "      <td>149.87</td>\n",
       "      <td>149.71</td>\n",
       "      <td>151.64</td>\n",
       "      <td>152.37</td>\n",
       "      <td>151.78</td>\n",
       "      <td>152.68</td>\n",
       "      <td>...</td>\n",
       "      <td>150.31</td>\n",
       "      <td>150.20</td>\n",
       "      <td>150.17</td>\n",
       "      <td>150.28</td>\n",
       "      <td>150.31</td>\n",
       "      <td>150.25</td>\n",
       "      <td>150.27</td>\n",
       "      <td>150.22</td>\n",
       "      <td>150.13</td>\n",
       "      <td>150.19</td>\n",
       "    </tr>\n",
       "  </tbody>\n",
       "</table>\n",
       "<p>5 rows × 6000 columns</p>\n",
       "</div>"
      ],
      "text/plain": [
       "     0       1       2       3       4       5       6       7       8     \\\n",
       "0  151.47  151.45  151.52  151.27  150.80  150.69  153.89  154.67  152.88   \n",
       "1  151.11  151.12  151.16  150.92  150.70  150.62  152.40  153.21  152.81   \n",
       "2  150.81  150.79  150.84  150.65  150.35  150.23  152.03  152.81  152.44   \n",
       "3  150.48  150.47  150.52  150.31  150.04  149.98  151.63  152.48  152.24   \n",
       "4  150.41  150.35  150.24  150.12  149.87  149.71  151.64  152.37  151.78   \n",
       "\n",
       "     9     ...    5990    5991    5992    5993    5994    5995    5996  \\\n",
       "0  153.82  ...  151.16  151.19  151.25  151.16  151.10  151.16  151.14   \n",
       "1  153.53  ...  150.82  150.82  150.86  150.80  150.73  150.79  150.84   \n",
       "2  153.27  ...  150.49  150.44  150.47  150.46  150.38  150.47  150.50   \n",
       "3  152.94  ...  150.34  150.30  150.28  150.38  150.41  150.33  150.31   \n",
       "4  152.68  ...  150.31  150.20  150.17  150.28  150.31  150.25  150.27   \n",
       "\n",
       "     5997    5998    5999  \n",
       "0  151.10  151.21  151.19  \n",
       "1  150.79  150.80  150.86  \n",
       "2  150.43  150.54  150.62  \n",
       "3  150.31  150.25  150.28  \n",
       "4  150.22  150.13  150.19  \n",
       "\n",
       "[5 rows x 6000 columns]"
      ]
     },
     "execution_count": 3,
     "metadata": {},
     "output_type": "execute_result"
    }
   ],
   "source": [
    "### READ AND CONCAT DATA ###\n",
    "\n",
    "label = pd.read_csv('profile.txt', sep='\\t', header=None)\n",
    "label.columns = ['Cooler','Valve','Pump','Accumulator','Flag']\n",
    "\n",
    "data = ['PS1.txt','PS2.txt','PS3.txt','PS4.txt','PS5.txt','PS6.txt']\n",
    "df = pd.DataFrame()\n",
    "\n",
    "for txt in data:\n",
    "    read_df = pd.read_csv(txt, sep='\\t', header=None)\n",
    "    df = df.append(read_df)\n",
    "\n",
    "print(df.shape)\n",
    "df.head()"
   ]
  },
  {
   "cell_type": "code",
   "execution_count": 4,
   "metadata": {},
   "outputs": [
    {
     "data": {
      "text/plain": [
       "(2205, 6000, 6)"
      ]
     },
     "execution_count": 4,
     "metadata": {},
     "output_type": "execute_result"
    }
   ],
   "source": [
    "### RESHAPE DATA AMONG SENSORS ###\n",
    "\n",
    "df = df.sort_index().values.reshape(-1,len(data),len(df.columns)).transpose(0,2,1)\n",
    "df.shape"
   ]
  },
  {
   "cell_type": "code",
   "execution_count": 5,
   "metadata": {},
   "outputs": [
    {
     "data": {
      "image/png": "[encoded data removed]",
      "text/plain": [
       "<Figure size 576x360 with 1 Axes>"
      ]
     },
     "metadata": {
      "needs_background": "light"
     },
     "output_type": "display_data"
    }
   ],
   "source": [
    "### PLOT ORIGINAL PRESSURE DATA ###\n",
    "\n",
    "plt.figure(figsize=(8,5))\n",
    "plt.plot(df[2])\n",
    "plt.title('Original Pressure Signals')\n",
    "plt.ylabel('Pressure'); plt.xlabel('Time')\n",
    "np.set_printoptions(False)"
   ]
  },
  {
   "cell_type": "code",
   "execution_count": 6,
   "metadata": {},
   "outputs": [
    {
     "data": {
      "text/plain": [
       "(2205, 5999, 6)"
      ]
     },
     "execution_count": 6,
     "metadata": {},
     "output_type": "execute_result"
    }
   ],
   "source": [
    "### APPLY CLIPPING AND FIRST ORDER DIFFERECE ###\n",
    "\n",
    "df = np.clip(np.diff(df, axis=1), -5,5)\n",
    "df.shape"
   ]
  },
  {
   "cell_type": "code",
   "execution_count": 7,
   "metadata": {},
   "outputs": [
    {
     "data": {
      "image/png": "[encoded data removed]",
      "text/plain": [
       "<Figure size 576x360 with 1 Axes>"
      ]
     },
     "metadata": {
      "needs_background": "light"
     },
     "output_type": "display_data"
    }
   ],
   "source": [
    "### PLOT STANDARDIZED DATA ###\n",
    "\n",
    "plt.figure(figsize=(8,5))\n",
    "plt.plot(df[2])\n",
    "plt.title('Standardized Pressure Signals')\n",
    "plt.ylabel('First Difference'); plt.xlabel('Time')\n",
    "np.set_printoptions(False)"
   ]
  },
  {
   "cell_type": "code",
   "execution_count": 8,
   "metadata": {},
   "outputs": [
    {
     "data": {
      "text/plain": [
       "90     808\n",
       "130    599\n",
       "115    399\n",
       "100    399\n",
       "Name: Accumulator, dtype: int64"
      ]
     },
     "execution_count": 8,
     "metadata": {},
     "output_type": "execute_result"
    }
   ],
   "source": [
    "### LABEL DISTRIBUTION ###\n",
    "\n",
    "label = label.Accumulator\n",
    "label.value_counts()"
   ]
  },
  {
   "cell_type": "code",
   "execution_count": 9,
   "metadata": {},
   "outputs": [
    {
     "name": "stdout",
     "output_type": "stream",
     "text": [
      "{130: 0, 115: 1, 100: 2, 90: 3}\n",
      "{0: 130, 1: 115, 2: 100, 3: 90}\n"
     ]
    }
   ],
   "source": [
    "### MAPPING LABEL ###\n",
    "\n",
    "diz_label, diz_reverse_label = {}, {}\n",
    "for i,lab in enumerate(label.unique()):\n",
    "    diz_label[lab] = i\n",
    "    diz_reverse_label[i] = lab\n",
    "\n",
    "print(diz_label)\n",
    "print(diz_reverse_label)\n",
    "label = label.map(diz_label)\n",
    "y = to_categorical(label)"
   ]
  },
  {
   "cell_type": "code",
   "execution_count": 10,
   "metadata": {},
   "outputs": [
    {
     "name": "stderr",
     "output_type": "stream",
     "text": [
      "100%|██████████████████████████████████████████████████████████████████████████████| 2205/2205 [01:50<00:00, 19.91it/s]\n"
     ]
    },
    {
     "data": {
      "text/plain": [
       "(2205, 128, 12, 6)"
      ]
     },
     "execution_count": 10,
     "metadata": {},
     "output_type": "execute_result"
    }
   ],
   "source": [
    "### APPLY SPECTROGRAM TRANSFORMATION FOR EACH PRESSURE SIGNAL ###\n",
    "\n",
    "df_spectre = []\n",
    "\n",
    "for i,sample in enumerate(tqdm.tqdm(df)):\n",
    "    \n",
    "    sample_spectre = np.apply_along_axis(lambda x: librosa.feature.melspectrogram(x,sr=40000) ,0, sample)\n",
    "    df_spectre.append(sample_spectre)\n",
    "    \n",
    "df_spectre = np.asarray(df_spectre)\n",
    "df_spectre.shape"
   ]
  },
  {
   "cell_type": "code",
   "execution_count": 11,
   "metadata": {},
   "outputs": [
    {
     "data": {
      "image/png": "[encoded data removed]",
      "text/plain": [
       "<Figure size 936x288 with 1 Axes>"
      ]
     },
     "metadata": {
      "needs_background": "light"
     },
     "output_type": "display_data"
    },
    {
     "data": {
      "image/png": "[encoded data removed]",
      "text/plain": [
       "<Figure size 936x288 with 1 Axes>"
      ]
     },
     "metadata": {
      "needs_background": "light"
     },
     "output_type": "display_data"
    },
    {
     "data": {
      "image/png": "[encoded data removed]",
      "text/plain": [
       "<Figure size 936x288 with 1 Axes>"
      ]
     },
     "metadata": {
      "needs_background": "light"
     },
     "output_type": "display_data"
    },
    {
     "data": {
      "image/png": "[encoded data removed]",
      "text/plain": [
       "<Figure size 936x288 with 1 Axes>"
      ]
     },
     "metadata": {
      "needs_background": "light"
     },
     "output_type": "display_data"
    },
    {
     "data": {
      "image/png": "[encoded data removed]",
      "text/plain": [
       "<Figure size 936x288 with 1 Axes>"
      ]
     },
     "metadata": {
      "needs_background": "light"
     },
     "output_type": "display_data"
    },
    {
     "data": {
      "image/png": "[encoded data removed]",
      "text/plain": [
       "<Figure size 936x288 with 1 Axes>"
      ]
     },
     "metadata": {
      "needs_background": "light"
     },
     "output_type": "display_data"
    }
   ],
   "source": [
    "### EXEMPLE OF TRANSFORMED SAMPLE (6 DIFFERENT PRESSURE SIGNALS) ###\n",
    "\n",
    "for i in range(len(data)):\n",
    "    plt.figure(figsize=(13, 4))\n",
    "    librosa.display.specshow(df_spectre[20][:,:,i], x_axis='time')"
   ]
  },
  {
   "cell_type": "code",
   "execution_count": 12,
   "metadata": {},
   "outputs": [],
   "source": [
    "### TRAIN TEST SPLIT ###\n",
    "\n",
    "X_train, X_test, y_train, y_test = train_test_split(df_spectre, y, random_state = 42, test_size=0.2)"
   ]
  },
  {
   "cell_type": "code",
   "execution_count": 13,
   "metadata": {},
   "outputs": [],
   "source": [
    "### DEFINE CRNN ###\n",
    "\n",
    "def get_model(data):\n",
    "    \n",
    "    inp = Input(shape=(data.shape[1], data.shape[2], data.shape[3]))\n",
    "    \n",
    "    x = Conv2D(filters = 64, kernel_size=(2, 2), padding='same')(inp)\n",
    "    \n",
    "    x = Permute((2, 3, 1))(x)\n",
    "    x = BatchNormalization(axis=-1)(x)\n",
    "    x = Permute((3, 1, 2))(x)\n",
    "    # equal to BatchNormalization(axis=1)\n",
    "    \n",
    "    x = Activation('relu')(x)\n",
    "    x = MaxPooling2D(pool_size=(2, 1))(x)\n",
    "    x = Dropout(0.2)(x)\n",
    "    \n",
    "    x = Permute((2, 3, 1))(x)\n",
    "    x = Reshape((data.shape[2], 64*64))(x)\n",
    "\n",
    "    x = Bidirectional(GRU(64, activation='relu', return_sequences=False))(x)\n",
    "    x = Dense(32, activation='relu')(x)\n",
    "    x = Dropout(0.2)(x)\n",
    "    out = Dense(y_train.shape[1], activation='softmax')(x)\n",
    "    \n",
    "    model = Model(inputs=inp, outputs=out)\n",
    "    model.compile(loss='categorical_crossentropy', optimizer='adam', metrics=['accuracy'])\n",
    "    \n",
    "    return model"
   ]
  },
  {
   "cell_type": "code",
   "execution_count": 14,
   "metadata": {},
   "outputs": [
    {
     "name": "stdout",
     "output_type": "stream",
     "text": [
      "Model: \"model\"\n",
      "_________________________________________________________________\n",
      "Layer (type)                 Output Shape              Param #   \n",
      "=================================================================\n",
      "input_1 (InputLayer)         [(None, 128, 12, 6)]      0         \n",
      "_________________________________________________________________\n",
      "conv2d (Conv2D)              (None, 128, 12, 64)       1600      \n",
      "_________________________________________________________________\n",
      "permute (Permute)            (None, 12, 64, 128)       0         \n",
      "_________________________________________________________________\n",
      "batch_normalization (BatchNo (None, 12, 64, 128)       512       \n",
      "_________________________________________________________________\n",
      "permute_1 (Permute)          (None, 128, 12, 64)       0         \n",
      "_________________________________________________________________\n",
      "activation (Activation)      (None, 128, 12, 64)       0         \n",
      "_________________________________________________________________\n",
      "max_pooling2d (MaxPooling2D) (None, 64, 12, 64)        0         \n",
      "_________________________________________________________________\n",
      "dropout (Dropout)            (None, 64, 12, 64)        0         \n",
      "_________________________________________________________________\n",
      "permute_2 (Permute)          (None, 12, 64, 64)        0         \n",
      "_________________________________________________________________\n",
      "reshape (Reshape)            (None, 12, 4096)          0         \n",
      "_________________________________________________________________\n",
      "bidirectional (Bidirectional (None, 128)               1598208   \n",
      "_________________________________________________________________\n",
      "dense (Dense)                (None, 32)                4128      \n",
      "_________________________________________________________________\n",
      "dropout_1 (Dropout)          (None, 32)                0         \n",
      "_________________________________________________________________\n",
      "dense_1 (Dense)              (None, 4)                 132       \n",
      "=================================================================\n",
      "Total params: 1,604,580\n",
      "Trainable params: 1,604,324\n",
      "Non-trainable params: 256\n",
      "_________________________________________________________________\n"
     ]
    }
   ],
   "source": [
    "model = get_model(X_train)\n",
    "\n",
    "model.summary()"
   ]
  },
  {
   "cell_type": "code",
   "execution_count": 15,
   "metadata": {},
   "outputs": [
    {
     "name": "stdout",
     "output_type": "stream",
     "text": [
      "Train on 1587 samples, validate on 177 samples\n",
      "Epoch 1/100\n",
      "1587/1587 - 22s - loss: 1.4619 - accuracy: 0.3497 - val_loss: 1.4336 - val_accuracy: 0.4746\n",
      "Epoch 2/100\n",
      "1587/1587 - 16s - loss: 1.1787 - accuracy: 0.4896 - val_loss: 1.3208 - val_accuracy: 0.4802\n",
      "Epoch 3/100\n",
      "1587/1587 - 16s - loss: 1.0277 - accuracy: 0.5570 - val_loss: 1.1614 - val_accuracy: 0.5650\n",
      "Epoch 4/100\n",
      "1587/1587 - 15s - loss: 0.9755 - accuracy: 0.5734 - val_loss: 1.0022 - val_accuracy: 0.5989\n",
      "Epoch 5/100\n",
      "1587/1587 - 15s - loss: 0.8743 - accuracy: 0.6257 - val_loss: 0.9196 - val_accuracy: 0.6158\n",
      "Epoch 6/100\n",
      "1587/1587 - 15s - loss: 0.8056 - accuracy: 0.6553 - val_loss: 0.9013 - val_accuracy: 0.6384\n",
      "Epoch 7/100\n",
      "1587/1587 - 15s - loss: 0.7594 - accuracy: 0.6755 - val_loss: 0.8338 - val_accuracy: 0.6441\n",
      "Epoch 8/100\n",
      "1587/1587 - 15s - loss: 0.7150 - accuracy: 0.6912 - val_loss: 0.7993 - val_accuracy: 0.6836\n",
      "Epoch 9/100\n",
      "1587/1587 - 15s - loss: 0.6378 - accuracy: 0.7429 - val_loss: 0.8388 - val_accuracy: 0.6497\n",
      "Epoch 10/100\n",
      "1587/1587 - 16s - loss: 0.6305 - accuracy: 0.7322 - val_loss: 0.8509 - val_accuracy: 0.6610\n",
      "Epoch 11/100\n",
      "1587/1587 - 15s - loss: 0.5886 - accuracy: 0.7536 - val_loss: 0.8067 - val_accuracy: 0.6271\n",
      "Epoch 12/100\n",
      "1587/1587 - 15s - loss: 0.5740 - accuracy: 0.7706 - val_loss: 0.6681 - val_accuracy: 0.7458\n",
      "Epoch 13/100\n",
      "1587/1587 - 17s - loss: 0.5475 - accuracy: 0.7656 - val_loss: 0.8190 - val_accuracy: 0.6384\n",
      "Epoch 14/100\n",
      "1587/1587 - 16s - loss: 0.5201 - accuracy: 0.7870 - val_loss: 0.8996 - val_accuracy: 0.6158\n",
      "Epoch 15/100\n",
      "1587/1587 - 16s - loss: 0.4726 - accuracy: 0.8103 - val_loss: 0.7005 - val_accuracy: 0.7571\n",
      "Epoch 16/100\n",
      "1587/1587 - 18s - loss: 0.4511 - accuracy: 0.8110 - val_loss: 0.8572 - val_accuracy: 0.6158\n",
      "Epoch 17/100\n",
      "1587/1587 - 16s - loss: 0.4251 - accuracy: 0.8261 - val_loss: 0.8223 - val_accuracy: 0.6158\n",
      "Epoch 18/100\n",
      "1587/1587 - 15s - loss: 0.3979 - accuracy: 0.8368 - val_loss: 0.8509 - val_accuracy: 0.6328\n",
      "Epoch 19/100\n",
      "1587/1587 - 14s - loss: 0.3633 - accuracy: 0.8557 - val_loss: 0.6437 - val_accuracy: 0.7232\n",
      "Epoch 20/100\n",
      "1587/1587 - 15s - loss: 0.3938 - accuracy: 0.8368 - val_loss: 0.9048 - val_accuracy: 0.5989\n",
      "Epoch 21/100\n",
      "1587/1587 - 14s - loss: 0.3792 - accuracy: 0.8418 - val_loss: 0.6276 - val_accuracy: 0.7797\n",
      "Epoch 22/100\n",
      "1587/1587 - 13s - loss: 0.3616 - accuracy: 0.8532 - val_loss: 0.5841 - val_accuracy: 0.7514\n",
      "Epoch 23/100\n",
      "1587/1587 - 13s - loss: 0.3525 - accuracy: 0.8532 - val_loss: 0.7514 - val_accuracy: 0.6949\n",
      "Epoch 24/100\n",
      "1587/1587 - 13s - loss: 0.3233 - accuracy: 0.8771 - val_loss: 0.7197 - val_accuracy: 0.7119\n",
      "Epoch 25/100\n",
      "1587/1587 - 13s - loss: 0.3147 - accuracy: 0.8677 - val_loss: 0.5880 - val_accuracy: 0.7627\n",
      "Epoch 26/100\n",
      "1587/1587 - 13s - loss: 0.3016 - accuracy: 0.8809 - val_loss: 0.4716 - val_accuracy: 0.8136\n",
      "Epoch 27/100\n",
      "1587/1587 - 13s - loss: 0.2885 - accuracy: 0.8910 - val_loss: 0.5431 - val_accuracy: 0.7684\n",
      "Epoch 28/100\n",
      "1587/1587 - 14s - loss: 0.2830 - accuracy: 0.8885 - val_loss: 0.7481 - val_accuracy: 0.6893\n",
      "Epoch 29/100\n",
      "1587/1587 - 13s - loss: 0.3112 - accuracy: 0.8664 - val_loss: 0.5781 - val_accuracy: 0.7571\n",
      "Epoch 30/100\n",
      "1587/1587 - 13s - loss: 0.2948 - accuracy: 0.8765 - val_loss: 0.4959 - val_accuracy: 0.8531\n",
      "Epoch 31/100\n",
      "1587/1587 - 13s - loss: 0.2517 - accuracy: 0.8960 - val_loss: 0.5772 - val_accuracy: 0.8023\n",
      "Epoch 32/100\n",
      "1587/1587 - 13s - loss: 0.2503 - accuracy: 0.8910 - val_loss: 0.6368 - val_accuracy: 0.7571\n",
      "Epoch 33/100\n",
      "1587/1587 - 15s - loss: 0.2237 - accuracy: 0.9130 - val_loss: 0.5036 - val_accuracy: 0.8588\n",
      "Epoch 34/100\n",
      "1587/1587 - 13s - loss: 0.2488 - accuracy: 0.9017 - val_loss: 0.4371 - val_accuracy: 0.8757\n",
      "Epoch 35/100\n",
      "1587/1587 - 14s - loss: 0.2937 - accuracy: 0.8790 - val_loss: 0.7491 - val_accuracy: 0.7062\n",
      "Epoch 36/100\n",
      "1587/1587 - 14s - loss: 0.2725 - accuracy: 0.8891 - val_loss: 0.4474 - val_accuracy: 0.8475\n",
      "Epoch 37/100\n",
      "1587/1587 - 13s - loss: 0.2516 - accuracy: 0.8979 - val_loss: 0.4386 - val_accuracy: 0.8475\n",
      "Epoch 38/100\n",
      "1587/1587 - 14s - loss: 0.3340 - accuracy: 0.8702 - val_loss: 0.6816 - val_accuracy: 0.7571\n",
      "Epoch 39/100\n",
      "1587/1587 - 14s - loss: 0.2906 - accuracy: 0.8834 - val_loss: 0.4131 - val_accuracy: 0.8927\n",
      "Epoch 40/100\n",
      "1587/1587 - 14s - loss: 0.2030 - accuracy: 0.9250 - val_loss: 0.5783 - val_accuracy: 0.7966\n",
      "Epoch 41/100\n",
      "1587/1587 - 14s - loss: 0.2109 - accuracy: 0.9168 - val_loss: 0.4686 - val_accuracy: 0.8644\n",
      "Epoch 42/100\n",
      "1587/1587 - 14s - loss: 0.1841 - accuracy: 0.9326 - val_loss: 0.4498 - val_accuracy: 0.8757\n",
      "Epoch 43/100\n",
      "1587/1587 - 14s - loss: 0.1763 - accuracy: 0.9275 - val_loss: 0.4168 - val_accuracy: 0.8927\n",
      "Epoch 44/100\n",
      "1587/1587 - 14s - loss: 0.1568 - accuracy: 0.9376 - val_loss: 0.4518 - val_accuracy: 0.8757\n",
      "Epoch 45/100\n",
      "1587/1587 - 14s - loss: 0.1842 - accuracy: 0.9332 - val_loss: 0.5569 - val_accuracy: 0.8079\n",
      "Epoch 46/100\n",
      "1587/1587 - 14s - loss: 0.2103 - accuracy: 0.9137 - val_loss: 0.4373 - val_accuracy: 0.8870\n",
      "Epoch 47/100\n",
      "1587/1587 - 14s - loss: 0.1930 - accuracy: 0.9275 - val_loss: 0.4577 - val_accuracy: 0.8644\n",
      "Epoch 48/100\n",
      "1587/1587 - 14s - loss: 0.1821 - accuracy: 0.9301 - val_loss: 0.4591 - val_accuracy: 0.8701\n",
      "Epoch 49/100\n",
      "1587/1587 - 14s - loss: 0.1798 - accuracy: 0.9256 - val_loss: 0.4925 - val_accuracy: 0.8531\n",
      "Epoch 50/100\n",
      "1587/1587 - 14s - loss: 0.1661 - accuracy: 0.9294 - val_loss: 0.4019 - val_accuracy: 0.9096\n",
      "Epoch 51/100\n",
      "1587/1587 - 14s - loss: 0.1461 - accuracy: 0.9464 - val_loss: 0.4447 - val_accuracy: 0.8927\n",
      "Epoch 52/100\n",
      "1587/1587 - 14s - loss: 0.1398 - accuracy: 0.9433 - val_loss: 0.3677 - val_accuracy: 0.9322\n",
      "Epoch 53/100\n",
      "1587/1587 - 14s - loss: 0.1408 - accuracy: 0.9464 - val_loss: 0.5722 - val_accuracy: 0.8023\n",
      "Epoch 54/100\n",
      "1587/1587 - 14s - loss: 0.2910 - accuracy: 0.8834 - val_loss: 0.5422 - val_accuracy: 0.8362\n",
      "Epoch 55/100\n",
      "1587/1587 - 14s - loss: 0.2541 - accuracy: 0.9004 - val_loss: 0.4839 - val_accuracy: 0.8531\n",
      "Epoch 56/100\n",
      "1587/1587 - 14s - loss: 0.2659 - accuracy: 0.8891 - val_loss: 0.3609 - val_accuracy: 0.9040\n",
      "Epoch 57/100\n",
      "1587/1587 - 14s - loss: 0.2214 - accuracy: 0.9143 - val_loss: 0.3751 - val_accuracy: 0.9209\n",
      "Epoch 58/100\n",
      "1587/1587 - 14s - loss: 0.2041 - accuracy: 0.9175 - val_loss: 0.3615 - val_accuracy: 0.8870\n",
      "Epoch 59/100\n",
      "1587/1587 - 14s - loss: 0.1615 - accuracy: 0.9408 - val_loss: 0.3220 - val_accuracy: 0.9209\n",
      "Epoch 60/100\n",
      "1587/1587 - 14s - loss: 0.1519 - accuracy: 0.9427 - val_loss: 0.4288 - val_accuracy: 0.8701\n",
      "Epoch 61/100\n",
      "1587/1587 - 13s - loss: 0.1533 - accuracy: 0.9439 - val_loss: 0.3013 - val_accuracy: 0.9266\n",
      "Epoch 62/100\n",
      "1587/1587 - 13s - loss: 0.1281 - accuracy: 0.9540 - val_loss: 0.3512 - val_accuracy: 0.9040\n",
      "Epoch 63/100\n",
      "1587/1587 - 13s - loss: 0.1309 - accuracy: 0.9483 - val_loss: 0.3537 - val_accuracy: 0.9040\n",
      "Epoch 64/100\n",
      "1587/1587 - 13s - loss: 0.1322 - accuracy: 0.9553 - val_loss: 0.3687 - val_accuracy: 0.8983\n",
      "Epoch 65/100\n",
      "1587/1587 - 13s - loss: 0.2183 - accuracy: 0.9168 - val_loss: 0.4856 - val_accuracy: 0.8701\n",
      "Epoch 66/100\n",
      "1587/1587 - 13s - loss: 0.1511 - accuracy: 0.9427 - val_loss: 0.4749 - val_accuracy: 0.9209\n",
      "Epoch 67/100\n",
      "Restoring model weights from the end of the best epoch.\n",
      "1587/1587 - 13s - loss: 0.1380 - accuracy: 0.9572 - val_loss: 0.4067 - val_accuracy: 0.9153\n",
      "Epoch 00067: early stopping\n"
     ]
    },
    {
     "data": {
      "text/plain": [
       "<tensorflow.python.keras.callbacks.History at 0x13d40ce3748>"
      ]
     },
     "execution_count": 15,
     "metadata": {},
     "output_type": "execute_result"
    }
   ],
   "source": [
    "es = EarlyStopping(monitor='val_accuracy', mode='auto', restore_best_weights=True, verbose=1, patience=15)\n",
    "\n",
    "model = get_model(X_train)\n",
    "model.fit(X_train, y_train, epochs=100, batch_size=256, verbose=2, validation_split=0.1, callbacks=[es])"
   ]
  },
  {
   "cell_type": "code",
   "execution_count": 16,
   "metadata": {},
   "outputs": [],
   "source": [
    "### GET PREDICTED CLASS ###\n",
    "\n",
    "pred_test = np.argmax(model.predict(X_test), axis=1)"
   ]
  },
  {
   "cell_type": "code",
   "execution_count": 17,
   "metadata": {},
   "outputs": [
    {
     "name": "stdout",
     "output_type": "stream",
     "text": [
      "              precision    recall  f1-score   support\n",
      "\n",
      "          90       0.93      0.91      0.92       152\n",
      "         100       0.75      0.63      0.68        75\n",
      "         115       0.72      0.88      0.79        91\n",
      "         130       0.97      0.92      0.94       123\n",
      "\n",
      "    accuracy                           0.86       441\n",
      "   macro avg       0.84      0.83      0.83       441\n",
      "weighted avg       0.86      0.86      0.86       441\n",
      "\n"
     ]
    }
   ],
   "source": [
    "print(classification_report([diz_reverse_label[np.argmax(label)] for label in y_test], \n",
    "                            [diz_reverse_label[label] for label in pred_test]))"
   ]
  },
  {
   "cell_type": "code",
   "execution_count": 18,
   "metadata": {},
   "outputs": [
    {
     "data": {
      "image/png": "[encoded data removed]",
      "text/plain": [
       "<Figure size 504x504 with 1 Axes>"
      ]
     },
     "metadata": {
      "needs_background": "light"
     },
     "output_type": "display_data"
    }
   ],
   "source": [
    "cnf_matrix = confusion_matrix([diz_reverse_label[np.argmax(label)] for label in y_test], \n",
    "                              [diz_reverse_label[label] for label in pred_test])\n",
    "\n",
    "plt.figure(figsize=(7,7))\n",
    "plot_confusion_matrix(cnf_matrix, classes=list(diz_reverse_label.values()))\n",
    "plt.show()"
   ]
  }
 ],
 "metadata": {
  "kernelspec": {
   "display_name": "Python 3",
   "language": "python",
   "name": "python3"
  },
  "language_info": {
   "codemirror_mode": {
    "name": "ipython",
    "version": 3
   },
   "file_extension": ".py",
   "mimetype": "text/x-python",
   "name": "python",
   "nbconvert_exporter": "python",
   "pygments_lexer": "ipython3",
   "version": "3.6.6"
  }
 },
 "nbformat": 4,
 "nbformat_minor": 2
}
