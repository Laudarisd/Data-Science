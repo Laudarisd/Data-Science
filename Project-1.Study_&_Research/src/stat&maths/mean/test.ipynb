{
 "cells": [
  {
   "cell_type": "code",
   "execution_count": 1,
   "metadata": {},
   "outputs": [],
   "source": [
    "#import libraries\n",
    "import numpy as np\n",
    "import pandas as pd\n",
    "import matplotlib.pyplot as plt\n",
    "import seaborn as sns"
   ]
  },
  {
   "cell_type": "markdown",
   "metadata": {},
   "source": [
    "### Calculate mean from a single list"
   ]
  },
  {
   "cell_type": "markdown",
   "metadata": {},
   "source": [
    "***Mean can be calculated by using differnet methods in python***"
   ]
  },
  {
   "cell_type": "code",
   "execution_count": 12,
   "metadata": {},
   "outputs": [
    {
     "name": "stdout",
     "output_type": "stream",
     "text": [
      "3.0\n",
      "3.0\n"
     ]
    }
   ],
   "source": [
    "#create a list \n",
    "x = [1,2,3,4,5]\n",
    "#calculate mean\n",
    "sum_of_all_numbers = sum(x)\n",
    "len_of_list = len(x)\n",
    "mean = sum_of_all_numbers/len_of_list\n",
    "print(mean)\n",
    "\n",
    "#calculate mean with numpy\n",
    "mean = np.mean(x)\n",
    "print(mean)"
   ]
  },
  {
   "cell_type": "markdown",
   "metadata": {},
   "source": [
    "### Calculate mean from dataframe"
   ]
  },
  {
   "cell_type": "code",
   "execution_count": 2,
   "metadata": {},
   "outputs": [
    {
     "data": {
      "text/html": [
       "<div>\n",
       "<style scoped>\n",
       "    .dataframe tbody tr th:only-of-type {\n",
       "        vertical-align: middle;\n",
       "    }\n",
       "\n",
       "    .dataframe tbody tr th {\n",
       "        vertical-align: top;\n",
       "    }\n",
       "\n",
       "    .dataframe thead th {\n",
       "        text-align: right;\n",
       "    }\n",
       "</style>\n",
       "<table border=\"1\" class=\"dataframe\">\n",
       "  <thead>\n",
       "    <tr style=\"text-align: right;\">\n",
       "      <th></th>\n",
       "      <th>A</th>\n",
       "      <th>B</th>\n",
       "      <th>C</th>\n",
       "      <th>D</th>\n",
       "    </tr>\n",
       "  </thead>\n",
       "  <tbody>\n",
       "    <tr>\n",
       "      <th>0</th>\n",
       "      <td>-0.140504</td>\n",
       "      <td>-0.580284</td>\n",
       "      <td>-1.498134</td>\n",
       "      <td>-0.354365</td>\n",
       "    </tr>\n",
       "    <tr>\n",
       "      <th>1</th>\n",
       "      <td>1.132548</td>\n",
       "      <td>-0.377019</td>\n",
       "      <td>-0.585839</td>\n",
       "      <td>-1.393327</td>\n",
       "    </tr>\n",
       "    <tr>\n",
       "      <th>2</th>\n",
       "      <td>2.155929</td>\n",
       "      <td>0.205336</td>\n",
       "      <td>0.058761</td>\n",
       "      <td>0.720817</td>\n",
       "    </tr>\n",
       "    <tr>\n",
       "      <th>3</th>\n",
       "      <td>0.223304</td>\n",
       "      <td>2.519830</td>\n",
       "      <td>-0.023239</td>\n",
       "      <td>-0.821912</td>\n",
       "    </tr>\n",
       "    <tr>\n",
       "      <th>4</th>\n",
       "      <td>0.074626</td>\n",
       "      <td>1.196933</td>\n",
       "      <td>-1.120171</td>\n",
       "      <td>-0.426769</td>\n",
       "    </tr>\n",
       "  </tbody>\n",
       "</table>\n",
       "</div>"
      ],
      "text/plain": [
       "          A         B         C         D\n",
       "0 -0.140504 -0.580284 -1.498134 -0.354365\n",
       "1  1.132548 -0.377019 -0.585839 -1.393327\n",
       "2  2.155929  0.205336  0.058761  0.720817\n",
       "3  0.223304  2.519830 -0.023239 -0.821912\n",
       "4  0.074626  1.196933 -1.120171 -0.426769"
      ]
     },
     "execution_count": 2,
     "metadata": {},
     "output_type": "execute_result"
    }
   ],
   "source": [
    "# let's create dataframe with some numbers \n",
    "df = pd.DataFrame(np.random.randn(10, 4), columns=['A', 'B', 'C', 'D'])\n",
    "df.head()"
   ]
  },
  {
   "cell_type": "code",
   "execution_count": 3,
   "metadata": {},
   "outputs": [
    {
     "data": {
      "text/plain": [
       "A    0.611187\n",
       "B    0.399870\n",
       "C   -0.133432\n",
       "D   -0.143348\n",
       "dtype: float64"
      ]
     },
     "execution_count": 3,
     "metadata": {},
     "output_type": "execute_result"
    }
   ],
   "source": [
    "# calculate mean of each column\n",
    "df.mean()"
   ]
  },
  {
   "cell_type": "markdown",
   "metadata": {},
   "source": [
    "### import stat and calculate mean"
   ]
  },
  {
   "cell_type": "code",
   "execution_count": 9,
   "metadata": {},
   "outputs": [
    {
     "name": "stdout",
     "output_type": "stream",
     "text": [
      "Mean of column A: 0.611\n",
      "Mean of column B: 0.4\n",
      "Mean of column C: -0.133\n",
      "Mean of column D: -0.143\n"
     ]
    }
   ],
   "source": [
    "import statistics\n",
    "\n",
    "# calculate mean of each column\n",
    "print(\"Mean of column A:\", round(statistics.mean(df['A']), 3))\n",
    "print(\"Mean of column B:\", round(statistics.mean(df['B']), 3))\n",
    "print(\"Mean of column C:\", round(statistics.mean(df['C']), 3))\n",
    "print(\"Mean of column D:\", round(statistics.mean(df['D']), 3))\n"
   ]
  },
  {
   "cell_type": "markdown",
   "metadata": {},
   "source": [
    "### Let's plot mean"
   ]
  },
  {
   "cell_type": "code",
   "execution_count": 18,
   "metadata": {},
   "outputs": [
    {
     "data": {
      "image/png": "[encoded data removed]",
      "text/plain": [
       "<Figure size 720x432 with 1 Axes>"
      ]
     },
     "metadata": {
      "needs_background": "light"
     },
     "output_type": "display_data"
    }
   ],
   "source": [
    "#plot mean of each column\n",
    "plt.figure(figsize=(10,6))\n",
    "sns.barplot(x=df.columns, y=df.mean(), palette=\"rocket\")\n",
    "plt.show()"
   ]
  },
  {
   "cell_type": "code",
   "execution_count": null,
   "metadata": {},
   "outputs": [],
   "source": []
  }
 ],
 "metadata": {
  "kernelspec": {
   "display_name": "Python 3.10.5 64-bit",
   "language": "python",
   "name": "python3"
  },
  "language_info": {
   "codemirror_mode": {
    "name": "ipython",
    "version": 3
   },
   "file_extension": ".py",
   "mimetype": "text/x-python",
   "name": "python",
   "nbconvert_exporter": "python",
   "pygments_lexer": "ipython3",
   "version": "3.10.5"
  },
  "orig_nbformat": 4,
  "vscode": {
   "interpreter": {
    "hash": "aee8b7b246df8f9039afb4144a1f6fd8d2ca17a180786b69acc140d282b71a49"
   }
  }
 },
 "nbformat": 4,
 "nbformat_minor": 2
}
